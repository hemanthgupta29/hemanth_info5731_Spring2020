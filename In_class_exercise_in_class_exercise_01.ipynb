{
  "nbformat": 4,
  "nbformat_minor": 0,
  "metadata": {
    "colab": {
      "name": "Untitled0.ipynb",
      "provenance": [],
      "collapsed_sections": [],
      "authorship_tag": "ABX9TyOyMZcm7QEfIKUOteKDg9uQ",
      "include_colab_link": true
    },
    "kernelspec": {
      "name": "python3",
      "display_name": "Python 3"
    }
  },
  "cells": [
    {
      "cell_type": "markdown",
      "metadata": {
        "id": "view-in-github",
        "colab_type": "text"
      },
      "source": [
        "<a href=\"https://colab.research.google.com/github/hemanthgupta29/hemanth_info5731_Spring2020/blob/main/In_class_exercise_in_class_exercise_01.ipynb\" target=\"_parent\"><img src=\"https://colab.research.google.com/assets/colab-badge.svg\" alt=\"Open In Colab\"/></a>"
      ]
    },
    {
      "cell_type": "markdown",
      "metadata": {
        "id": "YsEManZckMGo"
      },
      "source": [
        "(1) Write a Python program to calculate the length of a string. (2 points)"
      ]
    },
    {
      "cell_type": "code",
      "metadata": {
        "id": "Pg9wAhPTi4ZB"
      },
      "source": [
        "str = input(\"Enter:\")\r\n",
        "counter = 0\r\n",
        "for s in str:\r\n",
        "      counter = counter+1\r\n",
        "print(\"Length of the input string is:\", counter)"
      ],
      "execution_count": null,
      "outputs": []
    },
    {
      "cell_type": "markdown",
      "metadata": {
        "id": "WZ6O7mxKkRjC"
      },
      "source": [
        " Write a Python program to count the number of characters in a string. (2 points)\\n\",\r\n",
        "        \"\\n\",\r\n",
        "        \"Sample String : 'google.com‘, \\n\",\r\n",
        "        \"\\n\",\r\n",
        "        \"Expected Result : {'o': 3, 'g': 2, '.': 1, 'e': 1, 'l': 1, 'm': 1, 'c': 1}\""
      ]
    },
    {
      "cell_type": "code",
      "metadata": {
        "id": "giYt_EoMjQHR"
      },
      "source": [
        "import operator\r\n",
        "\r\n",
        "def stringToDict(str1):\r\n",
        "  str_dict = dict()\r\n",
        "  for i in str1:\r\n",
        "    count = 0\r\n",
        "    for s in str1:\r\n",
        "      if i == s:\r\n",
        "        count += 1\r\n",
        "    str_dict[i] = count\r\n",
        "  sorted_d = dict( sorted(str_dict.items(), key=operator.itemgetter(1),reverse=True))\r\n",
        "  return sorted_d\r\n",
        "string = \"google.com\"\r\n",
        "print(\"Result:\", stringToDict(string))"
      ],
      "execution_count": null,
      "outputs": []
    },
    {
      "cell_type": "markdown",
      "metadata": {
        "id": "ANFs7AT7kbr3"
      },
      "source": [
        "Write a Python program to sum all the items in a list. (2 points)"
      ]
    },
    {
      "cell_type": "code",
      "metadata": {
        "id": "artgQS0xjVUq"
      },
      "source": [
        "def sum_list(items):  \r\n",
        "    sum_numbers = 0  \r\n",
        "    for x in items:  \r\n",
        "        sum_numbers += x  \r\n",
        "    return sum_numbers  \r\n",
        "print(sum_list([1,2,4]))"
      ],
      "execution_count": null,
      "outputs": []
    },
    {
      "cell_type": "markdown",
      "metadata": {
        "id": "z9pi141PkpaG"
      },
      "source": [
        "Write a Python program to get a string from a given string where all occurrences of its first char have been changed to '\\\\$', except the first char itself. (2 points)"
      ]
    },
    {
      "cell_type": "code",
      "metadata": {
        "id": "JBOc6k7pjZgj"
      },
      "source": [
        "def change_char(str1):  \r\n",
        "  char = str1[0]  \r\n",
        "  length = len(str1)  \r\n",
        "  str1 = str1.replace(char, '$')  \r\n",
        "  str1 = char + str1[1:]  \r\n",
        "  \r\n",
        "  return str1  \r\n",
        "  \r\n",
        "print(change_char('restart'))"
      ],
      "execution_count": null,
      "outputs": []
    },
    {
      "cell_type": "markdown",
      "metadata": {
        "id": "ex4u-3FfkxBt"
      },
      "source": [
        " Write a program with python which could accept two parameter a and b to calculate and output the result of S,"
      ]
    },
    {
      "cell_type": "code",
      "metadata": {
        "id": "fhU1dfpjjfCU"
      },
      "source": [
        "def error(error_desc):\r\n",
        "  print(error_desc)\r\n",
        "  return\r\n",
        "\r\n",
        "def calculate_S(a, b):\r\n",
        "  if b == 0:\r\n",
        "    error(\"Runtime Error: Attempt to divide by zero\")\r\n",
        "  return 3.14 * (1 + a/b)**3\r\n",
        "parameter_a = int(input(\"Please enter a value for a : \"))\r\n",
        "parameter_b = int(input(\"Please enter a value for b : \"))\r\n",
        "print(\" Expected result : \", calculate_S(parameter_a, parameter_b))"
      ],
      "execution_count": null,
      "outputs": []
    },
    {
      "cell_type": "markdown",
      "metadata": {
        "id": "aVELAFlRk7Ds"
      },
      "source": [
        "Write a Python program to concatenate following dictionaries to create a new one. (3 points)"
      ]
    },
    {
      "cell_type": "code",
      "metadata": {
        "id": "nyuT0Y9OjjYj"
      },
      "source": [
        "dic1={1:10, 2:20}  \r\n",
        "dic2={3:30, 4:40}  \r\n",
        "dic3={5:50,6:60}  \r\n",
        "dic4 = {}  \r\n",
        "for d in (dic1, dic2, dic3): dic4.update(d)  \r\n",
        "print(dic4)"
      ],
      "execution_count": null,
      "outputs": []
    },
    {
      "cell_type": "markdown",
      "metadata": {
        "id": "KjaEgkb5lB8_"
      },
      "source": [
        "Write a Python program to check whether an element exists within a tuple. (3 points)"
      ]
    },
    {
      "cell_type": "code",
      "metadata": {
        "id": "OzFC7XzUjnp9"
      },
      "source": [
        "tuplex = (\"w\", 3, \"r\", \"e\", \"s\", \"o\", \"u\", \"r\", \"c\", \"e\")\r\n",
        "print(\"r\" in tuplex)\r\n",
        "print(5 in tuplex)"
      ],
      "execution_count": null,
      "outputs": []
    },
    {
      "cell_type": "markdown",
      "metadata": {
        "id": "29rqGxxHlJPV"
      },
      "source": [
        " Write a Python program to find maximum and the minimum value in a set. (3 points)"
      ]
    },
    {
      "cell_type": "code",
      "metadata": {
        "id": "ZZHPMbG1jrXM"
      },
      "source": [
        "seta = set([5, 10, 3, 15, 2, 20])\r\n",
        "print(max(seta))\r\n",
        "print(min(seta))"
      ],
      "execution_count": null,
      "outputs": []
    },
    {
      "cell_type": "markdown",
      "metadata": {
        "id": "rcZXnE_rlPpT"
      },
      "source": [
        "Write a Python program to randomly divide the students in this class into five groups for term projects, each group should have at least 3 students but no more than 5 students (including 5). Here is the students list: (3 points for extra)"
      ]
    },
    {
      "cell_type": "code",
      "metadata": {
        "id": "NBbCBK22j56S"
      },
      "source": [
        "import random\r\n",
        "\r\n",
        "studnet_list = ['vmb0067','pc0353','snd0097','yye0005','sg0940','bk0301','rak0120','rrk0058',\r\n",
        "                'spk0057','vl0135','nm0547','pn0159', 'msp0174','dd0420','ds0761','rs0850',\r\n",
        "                'ss1995','at0739','at0768','mv0299','tv0119','dy0091']\r\n",
        "group_size = []\r\n",
        "for i in range(5):\r\n",
        "    group_size.append(random.randint(3,5))\r\n",
        "\r\n",
        "\r\n",
        "if sum(group_size) == len(studnet_list):\r\n",
        "    print(group_size)\r\n",
        "    for j in range(5):\r\n",
        "      sampling = random.sample(studnet_list,group_size[j-1])\r\n",
        "      studnet_list = [j for j in studnet_list if j not in sampling]\r\n",
        "      print(\"Group \" +str(j+1)+\": \", sampling)"
      ],
      "execution_count": null,
      "outputs": []
    }
  ]
}