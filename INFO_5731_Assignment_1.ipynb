{
  "nbformat": 4,
  "nbformat_minor": 0,
  "metadata": {
    "colab": {
      "name": "INFO 5731 Assignment_1.ipynb",
      "provenance": [],
      "authorship_tag": "ABX9TyOlFHVerPU1Za5oopwBFutF",
      "include_colab_link": true
    },
    "kernelspec": {
      "name": "python3",
      "display_name": "Python 3"
    }
  },
  "cells": [
    {
      "cell_type": "markdown",
      "metadata": {
        "id": "view-in-github",
        "colab_type": "text"
      },
      "source": [
        "<a href=\"https://colab.research.google.com/github/hemanthgupta29/hemanth_info5731_Spring2020/blob/main/INFO_5731_Assignment_1.ipynb\" target=\"_parent\"><img src=\"https://colab.research.google.com/assets/colab-badge.svg\" alt=\"Open In Colab\"/></a>"
      ]
    },
    {
      "cell_type": "code",
      "metadata": {
        "id": "aS-P5fx5pBCS"
      },
      "source": [
        "import random\r\n",
        "randomlist = []\r\n",
        "k=0\r\n",
        "n=0\r\n",
        "for i in range(0,20):\r\n",
        "  n = random.randint(1,100)\r\n",
        "  k+=n\r\n",
        "  randomlist.append(n)\r\n",
        "\r\n",
        "randomlist.sort()\r\n",
        "print(randomlist)\r\n",
        "randomlist.sort(reverse=True)\r\n",
        "print(randomlist)\r\n",
        "k=k/20\r\n",
        "print(k)"
      ],
      "execution_count": null,
      "outputs": []
    },
    {
      "cell_type": "code",
      "metadata": {
        "id": "ELE4JLmS5dtB"
      },
      "source": [
        "pi = 3.1415926535897931\r\n",
        "print('r','\\t','V','\\n')\r\n",
        "for r in range(1,11): \r\n",
        "  V= 4.0/3.0*pi*(r*r*r)\r\n",
        "  print(r,': \\t',V)\r\n"
      ],
      "execution_count": null,
      "outputs": []
    },
    {
      "cell_type": "code",
      "metadata": {
        "colab": {
          "base_uri": "https://localhost:8080/"
        },
        "id": "oUak-iGo5jVj",
        "outputId": "085fb121-aae6-430c-bee6-bd3da0a74730"
      },
      "source": [
        "import string\r\n",
        "def Convert(string): \r\n",
        "    li = list(string.split(\" \")) \r\n",
        "    return li \r\n",
        "\r\n",
        "counter1=0\r\n",
        "counter2=0\r\n",
        "vowel1=0\r\n",
        "vowel2=0\r\n",
        "str1=input()\r\n",
        "str2=input()\r\n",
        "len1=len(str1)\r\n",
        "len2=len(str2)\r\n",
        "#print(len1)\r\n",
        "#print(len2)\r\n",
        "def Check_Vow(str1, vowels):\r\n",
        "    str1 = str1.casefold() \r\n",
        "    \r\n",
        "    count = {}.fromkeys(vowels, 0) \r\n",
        "    for character in str1: \r\n",
        "        if character in count: \r\n",
        "            count[character] += 1    \r\n",
        "    return count \r\n",
        "\r\n",
        "import string\r\n",
        "vowels = 'aeiou'\r\n",
        "print ('vowel count for sentence 1',Check_Vow(str2, vowels))\r\n",
        "def Check_Vow(str2, vowels):\r\n",
        "    str2 = str2.casefold() \r\n",
        "    \r\n",
        "    count = {}.fromkeys(vowels, 0) \r\n",
        "    for character in str1: \r\n",
        "        if character in count: \r\n",
        "            count[character] += 1    \r\n",
        "    return count \r\n",
        "\r\n",
        "import string\r\n",
        "vowels = 'aeiou'\r\n",
        "print ('vowel count for sentence 2',Check_Vow(str2, vowels))\r\n",
        "for i in range(len1):\r\n",
        "  if(str1[i]==' '):\r\n",
        "    counter1=counter1+1 \r\n",
        "#print(counter1)\r\n",
        "for j in range(len2):\r\n",
        "  if(str2[j]==' '):\r\n",
        "    counter2=counter2+1  \r\n",
        "#print(counter2)       \r\n",
        "list1=Convert(str1)\r\n",
        "list2=Convert(str2)\r\n",
        "print('words common in both of the sentences:')\r\n",
        "for i in range(counter1):\r\n",
        "  for j in range(counter2):\r\n",
        "    if(list1[i]==list2[j]):\r\n",
        "      print(list1[i])\r\n",
        "print('\\n')    \r\n",
        "\r\n",
        "\r\n",
        "print('sentence into a list')\r\n",
        "print(list1)\r\n",
        "print(list2)\r\n"
      ],
      "execution_count": 1,
      "outputs": [
        {
          "output_type": "stream",
          "text": [
            "Hemanth is the best\n",
            "Hemanth is the best\n",
            "vowel count for sentence 1 {'a': 1, 'e': 3, 'i': 1, 'o': 0, 'u': 0}\n",
            "vowel count for sentence 2 {'a': 1, 'e': 3, 'i': 1, 'o': 0, 'u': 0}\n",
            "words common in both of the sentences:\n",
            "Hemanth\n",
            "is\n",
            "the\n",
            "\n",
            "\n",
            "sentence into a list\n",
            "['Hemanth', 'is', 'the', 'best']\n",
            "['Hemanth', 'is', 'the', 'best']\n"
          ],
          "name": "stdout"
        }
      ]
    },
    {
      "cell_type": "code",
      "metadata": {
        "colab": {
          "base_uri": "https://localhost:8080/",
          "height": 238
        },
        "id": "P4nD2QM759lC",
        "outputId": "0b4b2385-28cc-4cb3-f806-e7a40a3241c7"
      },
      "source": [
        "import csv\r\n",
        "housing_units_occupied = {}\r\n",
        "with open(\"/content/Assignment1_denton_housing.csv\",'r') as input_file:\r\n",
        "    file_reader = csv.reader(input_file) \r\n",
        "    for row in file_reader: \r\n",
        "        if row[1] == \"Occupied Housing Units\": \r\n",
        "            housing_units_occupied[int(row[0])] = int(row[2])\r\n",
        "unit_diff = {}\r\n",
        "year = 2008 \r\n",
        "while year < 2014:\r\n",
        "    unit_diff[housing_units_occupied[year+1]-housing_units_occupied[year]] = str(year)+\"-\"+str(year+1)\r\n",
        "    year+=1 \r\n",
        "\r\n",
        "for item in unit_diff:\r\n",
        "    print(\"From\",unit_diff[item]+\":\",item)"
      ],
      "execution_count": 2,
      "outputs": [
        {
          "output_type": "error",
          "ename": "FileNotFoundError",
          "evalue": "ignored",
          "traceback": [
            "\u001b[0;31m---------------------------------------------------------------------------\u001b[0m",
            "\u001b[0;31mFileNotFoundError\u001b[0m                         Traceback (most recent call last)",
            "\u001b[0;32m<ipython-input-2-924392461f56>\u001b[0m in \u001b[0;36m<module>\u001b[0;34m()\u001b[0m\n\u001b[1;32m      1\u001b[0m \u001b[0;32mimport\u001b[0m \u001b[0mcsv\u001b[0m\u001b[0;34m\u001b[0m\u001b[0;34m\u001b[0m\u001b[0m\n\u001b[1;32m      2\u001b[0m \u001b[0mhousing_units_occupied\u001b[0m \u001b[0;34m=\u001b[0m \u001b[0;34m{\u001b[0m\u001b[0;34m}\u001b[0m\u001b[0;34m\u001b[0m\u001b[0;34m\u001b[0m\u001b[0m\n\u001b[0;32m----> 3\u001b[0;31m \u001b[0;32mwith\u001b[0m \u001b[0mopen\u001b[0m\u001b[0;34m(\u001b[0m\u001b[0;34m\"/content/Assignment1_denton_housing.csv\"\u001b[0m\u001b[0;34m,\u001b[0m\u001b[0;34m'r'\u001b[0m\u001b[0;34m)\u001b[0m \u001b[0;32mas\u001b[0m \u001b[0minput_file\u001b[0m\u001b[0;34m:\u001b[0m\u001b[0;34m\u001b[0m\u001b[0;34m\u001b[0m\u001b[0m\n\u001b[0m\u001b[1;32m      4\u001b[0m     \u001b[0mfile_reader\u001b[0m \u001b[0;34m=\u001b[0m \u001b[0mcsv\u001b[0m\u001b[0;34m.\u001b[0m\u001b[0mreader\u001b[0m\u001b[0;34m(\u001b[0m\u001b[0minput_file\u001b[0m\u001b[0;34m)\u001b[0m\u001b[0;34m\u001b[0m\u001b[0;34m\u001b[0m\u001b[0m\n\u001b[1;32m      5\u001b[0m     \u001b[0;32mfor\u001b[0m \u001b[0mrow\u001b[0m \u001b[0;32min\u001b[0m \u001b[0mfile_reader\u001b[0m\u001b[0;34m:\u001b[0m\u001b[0;34m\u001b[0m\u001b[0;34m\u001b[0m\u001b[0m\n",
            "\u001b[0;31mFileNotFoundError\u001b[0m: [Errno 2] No such file or directory: '/content/Assignment1_denton_housing.csv'"
          ]
        }
      ]
    },
    {
      "cell_type": "code",
      "metadata": {
        "id": "3QNoDMtb6IMm"
      },
      "source": [
        "import csv\r\n",
        "housing_units_total = {}\r\n",
        "housing_units_occupied = {}\r\n",
        "housing_units_vacant = {}\r\n",
        "\r\n",
        "with open(\"/content/Assignment1_denton_housing.csv\",'r') as input_file:\r\n",
        "    file_reader = csv.reader(input_file) \r\n",
        "    for row in file_reader: \r\n",
        "        if row[1] == \"Total Housing Units\": \r\n",
        "            housing_units_total[int(row[0])] = int(row[2])\r\n",
        "        elif row[1] == \"Occupied Housing Units\": \r\n",
        "            housing_units_occupied[int(row[0])] = int(row[2])\r\n",
        "        elif row[1] == \"Vacant Housing Units\": \r\n",
        "            housing_units_vacant[int(row[0])] = int(row[2])\r\n",
        "year = 2008 \r\n",
        "print(\"Year\\tVacant Housing Units\\tOccupied Housing Units\") \r\n",
        "while year <= 2014: \r\n",
        "    vacant_percent = (housing_units_vacant[year]/housing_units_total[year])*100\r\n",
        "    occupied_percent = (housing_units_occupied[year]/housing_units_total[year])*100\r\n",
        "    print(str(year)+\"\\t\"+str(round(vacant_percent,1))+\"%\\t\\t\\t\"+str(round(occupied_percent,1))+\"%\")\r\n",
        "    year+=1"
      ],
      "execution_count": null,
      "outputs": []
    },
    {
      "cell_type": "code",
      "metadata": {
        "id": "MTXBTU5f6J23"
      },
      "source": [
        "import csv\r\n",
        "housing_units_occupied = {}\r\n",
        "housing_units_vacant = {}\r\n",
        "with open(\"/content/Assignment1_denton_housing.csv\",'r') as input_file:\r\n",
        "    file_reader = csv.reader(input_file)  \r\n",
        "    for row in file_reader: \r\n",
        "        if row[1] == \"Occupied Housing Units\": \r\n",
        "            housing_units_occupied[int(row[0])] = int(row[2])\r\n",
        "        elif row[1] == \"Vacant Housing Units\": \r\n",
        "            housing_units_vacant[int(row[0])] = int(row[2])\r\n",
        "max_vacant = max(housing_units_vacant.values())\r\n",
        "max_occupied = max(housing_units_occupied.values()) \r\n",
        "print(\"\\t\\t\\tYear\\tValue\") \r\n",
        "for item in housing_units_vacant.items():\r\n",
        "    if item[1] == max_vacant:\r\n",
        "        print(\"Vacant Housing Units\\t\"+str(item[0])+\"\\t\"+str(max_vacant))\r\n",
        "for item in housing_units_occupied.items():\r\n",
        "    if item[1] == max_occupied:\r\n",
        "        print(\"Occupied Housing Units\\t\"+str(item[0])+\"\\t\"+str(max_occupied))\r\n"
      ],
      "execution_count": null,
      "outputs": []
    },
    {
      "cell_type": "code",
      "metadata": {
        "id": "9TynWo9N6X9w"
      },
      "source": [
        "def harmonic_mean(list_name):\r\n",
        "    sum_rec = 0\r\n",
        "    for n in list_name:\r\n",
        "        sum_rec += (1/n)\r\n",
        "    return round(len(list_name)/sum_rec,2)\r\n",
        "\r\n",
        "import csv\r\n",
        "housing_units_total = [] \r\n",
        "with open(\"/content/Assignment1_denton_housing.csv\",'r') as input_file:\r\n",
        "    file_reader = csv.reader(input_file)  \r\n",
        "    for row in file_reader: \r\n",
        "        if row[1] == \"Total Housing Units\": \r\n",
        "            housing_units_total.append(int(row[2]))\r\n",
        "\r\n",
        "print(\"The harmonic mean of the total housing units is\",str(harmonic_mean(housing_units_total)))\r\n"
      ],
      "execution_count": null,
      "outputs": []
    }
  ]
}