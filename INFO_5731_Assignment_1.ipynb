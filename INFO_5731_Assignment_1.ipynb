{
  "nbformat": 4,
  "nbformat_minor": 0,
  "metadata": {
    "colab": {
      "name": "INFO 5731 Assignment_1.ipynb",
      "provenance": [],
      "authorship_tag": "ABX9TyPp1kOvK27xKcl5EB70IFt9",
      "include_colab_link": true
    },
    "kernelspec": {
      "name": "python3",
      "display_name": "Python 3"
    }
  },
  "cells": [
    {
      "cell_type": "markdown",
      "metadata": {
        "id": "view-in-github",
        "colab_type": "text"
      },
      "source": [
        "<a href=\"https://colab.research.google.com/github/hemanthgupta29/hemanth_info5731_Spring2020/blob/main/INFO_5731_Assignment_1.ipynb\" target=\"_parent\"><img src=\"https://colab.research.google.com/assets/colab-badge.svg\" alt=\"Open In Colab\"/></a>"
      ]
    },
    {
      "cell_type": "markdown",
      "metadata": {
        "id": "aWWzQBZa9aJI"
      },
      "source": [
        "Write a Python program to generate 12 random numbers between 1 and 100. Sort the list of numbers in ascending order and print it out. Sort the list of numbers in descending order and print it out. Calculate the average for the group and print it out."
      ]
    },
    {
      "cell_type": "code",
      "metadata": {
        "id": "aS-P5fx5pBCS"
      },
      "source": [
        "import random\r\n",
        "randomlist = []\r\n",
        "k=0\r\n",
        "n=0\r\n",
        "for i in range(0,20):\r\n",
        "  n = random.randint(1,100)\r\n",
        "  k+=n\r\n",
        "  randomlist.append(n)\r\n",
        "\r\n",
        "randomlist.sort()\r\n",
        "print(randomlist)\r\n",
        "randomlist.sort(reverse=True)\r\n",
        "print(randomlist)\r\n",
        "k=k/20\r\n",
        "print(k)"
      ],
      "execution_count": null,
      "outputs": []
    },
    {
      "cell_type": "markdown",
      "metadata": {
        "id": "20_l7lml9dof"
      },
      "source": [
        "Write a program that will do the following string formatting tasks:\r\n",
        "\r\n",
        "(1) Ask the user to enter two sentences.\r\n",
        "\r\n",
        "(2) Make each sentence into a list. Each element in the list should correspond to a word in the sentence. For example, if the sentence is \"Alas! Am I alive? This is my first python program\", the program should print out ['Alas, '!', 'Am', 'I', 'alive, '?', 'This', 'is', 'my', 'first', 'python', 'program'].\r\n",
        "\r\n",
        "(3) Compare the two sentences. Print out a list of words that occur in both sentences.\r\n",
        "\r\n",
        "(4) Remove any punctuation from the sentence and print it back out. It should remove at least the following characters, but it can remove more: period(“.”), comma (“,”), semicolon (“;”), and colon (“:”)\r\n",
        "\r\n",
        "(5) Count the number of vowels in the sentences. Print out each vowel and the number of times it appears in the sentences, such as: a:2, e:1, i:0, etc"
      ]
    },
    {
      "cell_type": "code",
      "metadata": {
        "id": "oUak-iGo5jVj"
      },
      "source": [
        "import string\r\n",
        "def Convert(string): \r\n",
        "    li = list(string.split(\" \")) \r\n",
        "    return li \r\n",
        "\r\n",
        "counter1=0\r\n",
        "counter2=0\r\n",
        "vowel1=0\r\n",
        "vowel2=0\r\n",
        "str1=input()\r\n",
        "str2=input()\r\n",
        "len1=len(str1)\r\n",
        "len2=len(str2)\r\n",
        "#print(len1)\r\n",
        "#print(len2)\r\n",
        "def Check_Vow(str1, vowels):\r\n",
        "    str1 = str1.casefold() \r\n",
        "    \r\n",
        "    count = {}.fromkeys(vowels, 0) \r\n",
        "    for character in str1: \r\n",
        "        if character in count: \r\n",
        "            count[character] += 1    \r\n",
        "    return count \r\n",
        "\r\n",
        "import string\r\n",
        "vowels = 'aeiou'\r\n",
        "print ('vowel count for sentence 1',Check_Vow(str2, vowels))\r\n",
        "def Check_Vow(str2, vowels):\r\n",
        "    str2 = str2.casefold() \r\n",
        "    \r\n",
        "    count = {}.fromkeys(vowels, 0) \r\n",
        "    for character in str1: \r\n",
        "        if character in count: \r\n",
        "            count[character] += 1    \r\n",
        "    return count \r\n",
        "\r\n",
        "import string\r\n",
        "vowels = 'aeiou'\r\n",
        "print ('vowel count for sentence 2',Check_Vow(str2, vowels))\r\n",
        "for i in range(len1):\r\n",
        "  if(str1[i]==' '):\r\n",
        "    counter1=counter1+1 \r\n",
        "#print(counter1)\r\n",
        "for j in range(len2):\r\n",
        "  if(str2[j]==' '):\r\n",
        "    counter2=counter2+1  \r\n",
        "#print(counter2)       \r\n",
        "list1=Convert(str1)\r\n",
        "list2=Convert(str2)\r\n",
        "print('words common in both of the sentences:')\r\n",
        "for i in range(counter1):\r\n",
        "  for j in range(counter2):\r\n",
        "    if(list1[i]==list2[j]):\r\n",
        "      print(list1[i])\r\n",
        "print('\\n')    \r\n",
        "\r\n",
        "\r\n",
        "print('sentence into a list')\r\n",
        "print(list1)\r\n",
        "print(list2)\r\n"
      ],
      "execution_count": null,
      "outputs": []
    },
    {
      "cell_type": "markdown",
      "metadata": {
        "id": "ARgrlhzJ9333"
      },
      "source": [
        "The formula that describes the volume V of a sphere with radius r is the following:\r\n",
        "\r\n",
        "$ V=\\frac{4}{3}\\ast\\ \\pi\\ast\\ r^3 $\r\n",
        "\r\n",
        "Write a program to calculate the value of V when r is in the range of 1–10. Output the result in the following format:"
      ]
    },
    {
      "cell_type": "code",
      "metadata": {
        "id": "ELE4JLmS5dtB"
      },
      "source": [
        "pi = 3.1415926535897931\r\n",
        "print('r','\\t','V','\\n')\r\n",
        "for r in range(1,11): \r\n",
        "  V= 4.0/3.0*pi*(r*r*r)\r\n",
        "  print(r,': \\t',V)\r\n"
      ],
      "execution_count": null,
      "outputs": []
    },
    {
      "cell_type": "markdown",
      "metadata": {
        "id": "Ut5pd3HW9-Ux"
      },
      "source": [
        " In the field of Data Science, data is often formatted as a comma-delimited (CSV) file, where each line in a file corresponds to a field's value. Refer to Chapter 9 (p. 106) for more information on comma-delimited files. To answer this question, you will need to download the file Assignment1_denton_housing.csv included with this assignment. The file Assignment1_denton_housing.csv contains statistics about housing in the city of Denton from 2008 to 2014. Write a program to implement the following questions.\r\n",
        "\r\n",
        "(1) (10 pts) Calculate the difference in the number of Occupied Housing Units from year to year and print it. The difference must be calculated for the consecutive years such as 2008-2009, 2009-2010 etc. Finally, print the values in the ascending order."
      ]
    },
    {
      "cell_type": "code",
      "metadata": {
        "id": "P4nD2QM759lC"
      },
      "source": [
        "import csv\r\n",
        "housing_units_occupied = {}\r\n",
        "with open(\"/content/Assignment1_denton_housing.csv\",'r') as input_file:\r\n",
        "    file_reader = csv.reader(input_file) \r\n",
        "    for row in file_reader: \r\n",
        "        if row[1] == \"Occupied Housing Units\": \r\n",
        "            housing_units_occupied[int(row[0])] = int(row[2])\r\n",
        "unit_diff = {}\r\n",
        "year = 2008 \r\n",
        "while year < 2014:\r\n",
        "    unit_diff[housing_units_occupied[year+1]-housing_units_occupied[year]] = str(year)+\"-\"+str(year+1)\r\n",
        "    year+=1 \r\n",
        "\r\n",
        "for item in unit_diff:\r\n",
        "    print(\"From\",unit_diff[item]+\":\",item)"
      ],
      "execution_count": null,
      "outputs": []
    },
    {
      "cell_type": "markdown",
      "metadata": {
        "id": "HIK98q9C9Ras"
      },
      "source": [
        " For all the years, calculate the percentage of housing units which are vacant an occupied. Print the results in the following format:\r\n",
        "\r\n",
        "Year Vacant Housing Units Occupied Housing Units\r\n",
        "\r\n",
        "2008  30%   70%                          \r\n",
        "2009 ----- -----\r\n",
        "2010 ----- -----\r\n",
        "2011 ----- -----\r\n",
        "2012 ----- -----\r\n",
        "2013 ----- -----\r\n",
        "2014 ----- -----\r\n"
      ]
    },
    {
      "cell_type": "code",
      "metadata": {
        "id": "3QNoDMtb6IMm"
      },
      "source": [
        "import csv\r\n",
        "housing_units_total = {}\r\n",
        "housing_units_occupied = {}\r\n",
        "housing_units_vacant = {}\r\n",
        "\r\n",
        "with open(\"/content/Assignment1_denton_housing.csv\",'r') as input_file:\r\n",
        "    file_reader = csv.reader(input_file) \r\n",
        "    for row in file_reader: \r\n",
        "        if row[1] == \"Total Housing Units\": \r\n",
        "            housing_units_total[int(row[0])] = int(row[2])\r\n",
        "        elif row[1] == \"Occupied Housing Units\": \r\n",
        "            housing_units_occupied[int(row[0])] = int(row[2])\r\n",
        "        elif row[1] == \"Vacant Housing Units\": \r\n",
        "            housing_units_vacant[int(row[0])] = int(row[2])\r\n",
        "year = 2008 \r\n",
        "print(\"Year\\tVacant Housing Units\\tOccupied Housing Units\") \r\n",
        "while year <= 2014: \r\n",
        "    vacant_percent = (housing_units_vacant[year]/housing_units_total[year])*100\r\n",
        "    occupied_percent = (housing_units_occupied[year]/housing_units_total[year])*100\r\n",
        "    print(str(year)+\"\\t\"+str(round(vacant_percent,1))+\"%\\t\\t\\t\"+str(round(occupied_percent,1))+\"%\")\r\n",
        "    year+=1"
      ],
      "execution_count": null,
      "outputs": []
    },
    {
      "cell_type": "markdown",
      "metadata": {
        "id": "Rym2p4ys-LTX"
      },
      "source": [
        "(10 pts) Calculate and print the valued and years in which the highest number of housing units were vacant and occupied. Print the results in the following format:\r\n",
        "\r\n",
        "                          Year  Value\r\n",
        "Vacant Housing Units      -----   -----\r\n",
        "Occupied Housing Units  -----   -----\r\n"
      ]
    },
    {
      "cell_type": "code",
      "metadata": {
        "id": "MTXBTU5f6J23"
      },
      "source": [
        "import csv\r\n",
        "housing_units_occupied = {}\r\n",
        "housing_units_vacant = {}\r\n",
        "with open(\"/content/Assignment1_denton_housing.csv\",'r') as input_file:\r\n",
        "    file_reader = csv.reader(input_file)  \r\n",
        "    for row in file_reader: \r\n",
        "        if row[1] == \"Occupied Housing Units\": \r\n",
        "            housing_units_occupied[int(row[0])] = int(row[2])\r\n",
        "        elif row[1] == \"Vacant Housing Units\": \r\n",
        "            housing_units_vacant[int(row[0])] = int(row[2])\r\n",
        "max_vacant = max(housing_units_vacant.values())\r\n",
        "max_occupied = max(housing_units_occupied.values()) \r\n",
        "print(\"\\t\\t\\tYear\\tValue\") \r\n",
        "for item in housing_units_vacant.items():\r\n",
        "    if item[1] == max_vacant:\r\n",
        "        print(\"Vacant Housing Units\\t\"+str(item[0])+\"\\t\"+str(max_vacant))\r\n",
        "for item in housing_units_occupied.items():\r\n",
        "    if item[1] == max_occupied:\r\n",
        "        print(\"Occupied Housing Units\\t\"+str(item[0])+\"\\t\"+str(max_occupied))\r\n"
      ],
      "execution_count": null,
      "outputs": []
    },
    {
      "cell_type": "markdown",
      "metadata": {
        "id": "Hif1MfpE-PEA"
      },
      "source": [
        "(10 pts) Calculate the harmonic mean of the total housing units and print it out. You can find the information about harmonic mean here:"
      ]
    },
    {
      "cell_type": "code",
      "metadata": {
        "id": "9TynWo9N6X9w"
      },
      "source": [
        "def harmonic_mean(list_name):\r\n",
        "    sum_rec = 0\r\n",
        "    for n in list_name:\r\n",
        "        sum_rec += (1/n)\r\n",
        "    return round(len(list_name)/sum_rec,2)\r\n",
        "\r\n",
        "import csv\r\n",
        "housing_units_total = [] \r\n",
        "with open(\"/content/Assignment1_denton_housing.csv\",'r') as input_file:\r\n",
        "    file_reader = csv.reader(input_file)  \r\n",
        "    for row in file_reader: \r\n",
        "        if row[1] == \"Total Housing Units\": \r\n",
        "            housing_units_total.append(int(row[2]))\r\n",
        "\r\n",
        "print(\"The harmonic mean of the total housing units is\",str(harmonic_mean(housing_units_total)))\r\n"
      ],
      "execution_count": null,
      "outputs": []
    }
  ]
}