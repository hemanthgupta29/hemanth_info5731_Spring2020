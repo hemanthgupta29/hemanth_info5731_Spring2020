{
  "nbformat": 4,
  "nbformat_minor": 0,
  "metadata": {
    "colab": {
      "name": "project.ipynb",
      "provenance": [],
      "collapsed_sections": [],
      "authorship_tag": "ABX9TyMjHdy+GjfoADpMAWC30Xnb",
      "include_colab_link": true
    },
    "kernelspec": {
      "name": "python3",
      "display_name": "Python 3"
    },
    "language_info": {
      "name": "python"
    }
  },
  "cells": [
    {
      "cell_type": "markdown",
      "metadata": {
        "id": "view-in-github",
        "colab_type": "text"
      },
      "source": [
        "<a href=\"https://colab.research.google.com/github/hemanthgupta29/hemanth_info5731_Spring2020/blob/main/project.ipynb\" target=\"_parent\"><img src=\"https://colab.research.google.com/assets/colab-badge.svg\" alt=\"Open In Colab\"/></a>"
      ]
    },
    {
      "cell_type": "code",
      "metadata": {
        "id": "g9xkk0zIrmQN"
      },
      "source": [
        "from sklearn.decomposition import LatentDirichletAllocation\n",
        "import pandas as pd\n",
        "def LDA_MODEL(number_of_topics,tf,feature_names, no_top_words):\n",
        "  number_of_topics = 10\n",
        "  model = LatentDirichletAllocation(n_components=number_of_topics, random_state=0)\n",
        "  model.fit(tf)\n",
        "  return display_topics(model,feature_names, no_top_words)\n",
        "  pass\n",
        "\n",
        "def display_topics(model, feature_names, no_top_words):\n",
        "  topic_dict = {}\n",
        "  for topic_idx, topic in enumerate(model.components_):\n",
        "    topic_dict[\"Topic %d words\" % (topic_idx)]= ['{}'.format(feature_names[i]) for i in topic.argsort()[:-no_top_words - 1:-1]]\n",
        "    topic_dict[\"Topic %d weights\" % (topic_idx)]= ['{:.1f}'.format(topic[i]) for i in topic.argsort()[:-no_top_words - 1:-1]]\n",
        "  return pd.DataFrame.from_dict(topic_dict)"
      ],
      "execution_count": 15,
      "outputs": []
    },
    {
      "cell_type": "code",
      "metadata": {
        "id": "AtooXJhjuOgd"
      },
      "source": [
        "from sklearn.decomposition import TruncatedSVD\n",
        "import pandas as pd\n",
        "\n",
        "def LSA_MODEL(tf,vectorizer):\n",
        "  svd_model = TruncatedSVD(n_components=1, algorithm ='randomized', n_iter=100, random_state=122)\n",
        "  svd_model.fit(tf)\n",
        "  terms = vectorizer.get_feature_names()\n",
        "  df = pd.DataFrame()\n",
        "  for i, comp in enumerate(svd_model.components_):\n",
        "    term_comp = zip(terms,comp)\n",
        "    sorted_terms = sorted(term_comp, key = lambda x:x[1], reverse = True)[:7]\n",
        "    str1 = \"Topic \"+str(i)\n",
        "    str2 = str1 + \" weights\"\n",
        "    str1_list = list()\n",
        "    str2_list = list()\n",
        "    for j in sorted_terms:\n",
        "      str1_list.append(j[0])\n",
        "      str2_list.append(j[1])\n",
        "    df[str1] = str1_list\n",
        "    df[str2] = str2_list\n",
        "  return df"
      ],
      "execution_count": 29,
      "outputs": []
    },
    {
      "cell_type": "code",
      "metadata": {
        "id": "dPAIh38GuDZh"
      },
      "source": [
        "from __future__ import print_function\n",
        "import time\n",
        "\n",
        "from six.moves import xrange\n",
        "import numpy as np\n",
        "from scipy.special import gammaln\n",
        "\n",
        "class BaseTopicModel(object):\n",
        "    def __init__(self, n_doc, n_voca, **kwargs):\n",
        "        self.n_doc = n_doc\n",
        "        self.n_voca = n_voca\n",
        "        self.verbose = kwargs.pop('verbose', True)\n",
        "\n",
        "class BaseGibbsParamTopicModel(BaseTopicModel):\n",
        "\n",
        "\n",
        "    def __init__(self, n_doc, n_voca, n_topic, alpha, beta, **kwargs):\n",
        "        super(BaseGibbsParamTopicModel, self).__init__(n_doc=n_doc, n_voca=n_voca, **kwargs)\n",
        "        self.n_topic = n_topic\n",
        "        self.TW = np.zeros([self.n_topic, self.n_voca])\n",
        "        self.DT = np.zeros([self.n_doc, self.n_topic])\n",
        "        self.sum_T = np.zeros(self.n_topic)\n",
        "\n",
        "        self.alpha = alpha\n",
        "        self.beta = beta\n",
        "\n",
        "        self.topic_assignment = list()\n",
        "\n",
        "        self.TW += self.beta\n",
        "        self.sum_T += self.beta * self.n_voca\n",
        "        self.DT += self.alpha\n",
        "\n",
        "class HMM_LDA(BaseGibbsParamTopicModel):\n",
        "\n",
        "    def __init__(self, n_docs, n_voca, n_topic, n_class, alpha=0.1, beta=0.01, gamma=0.1, eta=0.1, **kwargs):\n",
        "        super(HMM_LDA, self).__init__(n_docs, n_voca, n_topic, alpha, beta, **kwargs)\n",
        "        self.n_class = n_class\n",
        "\n",
        "        self.gamma = gamma\n",
        "        self.eta = eta\n",
        "\n",
        "        self.CW = np.zeros([self.n_class, self.n_voca]) + self.gamma  # class x word\n",
        "        self.sum_C = np.zeros([self.n_class]) + self.n_voca * self.gamma\n",
        "\n",
        "        self.T = np.zeros([self.n_class + 2, self.n_class + 2]) + self.eta\n",
        "\n",
        "        self.word_class = list()\n",
        "        self.word_topic = list()\n",
        "\n",
        "    def fit(self, docs, max_iter=100):\n",
        "        self.random_init(docs)\n",
        "        self.gibbs_sampling(docs, max_iter)\n",
        "\n",
        "    # randomly initialize \n",
        "    def random_init(self, docs):\n",
        "\n",
        "        for di in xrange(self.n_doc):\n",
        "            doc = docs[di]\n",
        "            num_sentence = len(doc)\n",
        "\n",
        "            doc_class = list()\n",
        "            doc_topic = list()\n",
        "\n",
        "            for si in xrange(num_sentence):\n",
        "                sentence_class = list()\n",
        "                sentence_topic = list()\n",
        "\n",
        "                sentence = doc[si]\n",
        "                len_sentence = len(sentence)\n",
        "\n",
        "                for wi in xrange(len_sentence):\n",
        "                    word = sentence[wi]\n",
        "                    c = np.random.randint(self.n_class)\n",
        "\n",
        "                    sentence_class.append(c)\n",
        "                    self.CW[c, word] += 1\n",
        "                    self.sum_C[c] += 1\n",
        "                    if wi == 0:  # if the first word\n",
        "                        self.T[self.n_class, c] += 1\n",
        "                    else:\n",
        "                        self.T[sentence_class[wi - 1], c] += 1\n",
        "\n",
        "                    if wi == len_sentence - 1:  # the last word\n",
        "                        self.T[c, self.n_class + 1] += 1\n",
        "\n",
        "                    k = np.random.randint(self.n_topic)\n",
        "                    sentence_topic.append(k)\n",
        "                    self.DT[di, k] += 1\n",
        "                    if c == 0:\n",
        "                        self.TW[k, word] += 1\n",
        "                        self.sum_T[k] += 1\n",
        "\n",
        "                doc_class.append(sentence_class)\n",
        "                doc_topic.append(sentence_topic)\n",
        "\n",
        "            self.word_class.append(doc_class)\n",
        "            self.word_topic.append(doc_topic)\n",
        "\n",
        "    def gibbs_sampling(self, docs, max_iter):\n",
        "\n",
        "        for iter in xrange(max_iter):\n",
        "            tic = time.time()\n",
        "            for di, doc in enumerate(docs):\n",
        "                doc_topic = self.word_topic[di]\n",
        "                doc_class = self.word_class[di]\n",
        "\n",
        "                for si, sentence in enumerate(doc):\n",
        "                    len_sentence = len(sentence)\n",
        "\n",
        "                    sentence_topic = doc_topic[si]\n",
        "                    sentence_class = doc_class[si]\n",
        "\n",
        "                    for wi, word in enumerate(sentence):\n",
        "\n",
        "                        if wi == 0:\n",
        "                            prev_c = self.n_class\n",
        "                        else:\n",
        "                            prev_c = sentence_class[wi - 1]\n",
        "\n",
        "                        if wi == len_sentence - 1:\n",
        "                            next_c = self.n_class + 1\n",
        "                        else:\n",
        "                            next_c = sentence_class[wi + 1]\n",
        "\n",
        "                        old_c = sentence_class[wi]\n",
        "                        old_t = sentence_topic[wi]\n",
        "\n",
        "                        # remove previous state\n",
        "                        self.CW[old_c, word] -= 1\n",
        "                        self.sum_C[old_c] -= 1\n",
        "                        self.T[prev_c, old_c] -= 1\n",
        "                        self.T[old_c, next_c] -= 1\n",
        "\n",
        "                        # sample class\n",
        "                        prob = (self.T[prev_c, :self.n_class] / self.T[prev_c].sum()) \\\n",
        "                                * (self.T[:self.n_class, next_c] / np.sum(self.T[:self.n_class], 1))\n",
        "                        prob[0] *= (self.TW[old_t, word] / self.sum_T[old_t])\n",
        "                        prob[1:] *= self.CW[1:, word] / self.sum_C[1:]\n",
        "\n",
        "                        new_c = np.random.multinomial(1, prob).argmax()\n",
        "\n",
        "                        sentence_class[wi] = new_c\n",
        "                        self.CW[new_c, word] += 1\n",
        "                        self.sum_C[new_c] += 1\n",
        "                        self.T[prev_c, new_c] += 1\n",
        "                        self.T[new_c, next_c] += 1\n",
        "\n",
        "                        # remove previous topic state\n",
        "                        self.DT[di, old_t] -= 1\n",
        "                        if old_c == 0:\n",
        "                            self.TW[old_t, word] -= 1\n",
        "                            self.sum_T[old_t] -= 1\n",
        "\n",
        "                        # sample topic\n",
        "                        prob = self.DT[di].copy()\n",
        "                        if new_c == 0:\n",
        "                            prob *= self.TW[:, word] / self.sum_T\n",
        "                        prob /= np.sum(prob)\n",
        "\n",
        "                        new_topic = np.random.multinomial(1, prob).argmax()\n",
        "                        self.DT[di, new_topic] += 1\n",
        "                        if new_c == 0:\n",
        "                            self.TW[new_topic, word] += 1\n",
        "                            self.sum_T[new_topic] += 1\n",
        "                        sentence_topic[wi] = new_topic\n",
        "\n",
        "            if self.verbose:\n",
        "                ll = self.log_likelihood()\n",
        "                logger.info('[ITER] %d,\\telapsed time: %.2f\\tlog-likelihood:%.2f', iter, time.time() - tic, ll)\n",
        "\n",
        "    def log_likelihood(self):\n",
        "\n",
        "        ll = self.n_doc * gammaln(self.alpha * self.n_topic)\n",
        "        ll -= self.n_doc * self.n_topic * gammaln(self.alpha)\n",
        "        ll += self.n_topic * gammaln(self.beta * self.n_voca)\n",
        "        ll -= self.n_topic * self.n_voca * gammaln(self.beta)\n",
        "\n",
        "        for di in xrange(self.n_doc):\n",
        "            ll += gammaln(self.DT[di]).sum() - gammaln(self.DT[di].sum())\n",
        "        for ki in xrange(self.n_topic):\n",
        "            ll += gammaln(self.TW[ki]).sum() - gammaln(self.sum_T[ki])\n",
        "\n",
        "        if self.n_class != 1:\n",
        "            ll += (self.n_class - 1) * gammaln(self.gamma * (self.n_class - 1))\n",
        "            ll -= (self.n_class - 1) * self.n_voca * gammaln(self.gamma)\n",
        "            ll += (self.n_class + 2) * gammaln(self.eta * (self.n_class + 2))\n",
        "            ll -= (self.n_class + 2) * (self.n_class + 2) * gammaln(self.eta)\n",
        "\n",
        "            for ci in xrange(1, self.n_class):\n",
        "                ll += gammaln(self.CW[ci]).sum() - gammaln(self.sum_C[ci])\n",
        "            for ci in xrange(self.n_class + 2):\n",
        "                ll += gammaln(self.T[ci]).sum() - gammaln(self.T[ci].sum())\n",
        "\n",
        "        return ll"
      ],
      "execution_count": 1,
      "outputs": []
    },
    {
      "cell_type": "code",
      "metadata": {
        "id": "TXQgPvk6wZ0B"
      },
      "source": [
        "from __future__ import print_function\n",
        "\n",
        "import numpy as np\n",
        "from scipy.special import gammaln\n",
        "from scipy.stats import norm\n",
        "from numpy.linalg import solve\n",
        "from six.moves import xrange\n",
        "\n",
        "import numpy as np\n",
        "\n",
        "\n",
        "import numpy as np\n",
        "\n",
        "from six.moves import xrange\n",
        "\n",
        "\n",
        "def sampling_from_dist(prob):\n",
        "    \"\"\" Sample index from a list of unnormalised probability distribution\n",
        "        same as np.random.multinomial(1, prob/np.sum(prob)).argmax()\n",
        "    Parameters\n",
        "    ----------\n",
        "    prob: ndarray\n",
        "        array of unnormalised probability distribution\n",
        "    Returns\n",
        "    -------\n",
        "    new_topic: return a sampled index\n",
        "    \"\"\"\n",
        "    thr = prob.sum() * np.random.rand()\n",
        "    new_topic = 0\n",
        "    tmp = prob[new_topic]\n",
        "    while tmp < thr:\n",
        "        new_topic += 1\n",
        "        tmp += prob[new_topic]\n",
        "    return new_topic\n",
        "\n",
        "\n",
        "def sampling_from_dict(prob):\n",
        "    \"\"\" sample key from dictionary `prob` where values are unnormalised probability distribution\n",
        "    Parameters\n",
        "    ----------\n",
        "    prob: dict\n",
        "        key = topic\n",
        "        value = unnormalised probability of the topic\n",
        "    Returns\n",
        "    -------\n",
        "    key: int\n",
        "        sampled key\n",
        "    \"\"\"\n",
        "    prob_sum = sum(prob.values())\n",
        "\n",
        "    thr = prob_sum * np.random.rand()\n",
        "    tmp = 0\n",
        "    for key, p in prob.items():\n",
        "        tmp += p\n",
        "        if tmp < thr:\n",
        "            new_topic = key\n",
        "    return new_topic\n",
        "\n",
        "\n",
        "def isfloat(value):\n",
        "    \"\"\"\n",
        "    Check the value is convertable to float value\n",
        "    \"\"\"\n",
        "    try:\n",
        "        float(value)\n",
        "        return True\n",
        "    except ValueError:\n",
        "        return False\n",
        "\n",
        "\n",
        "def read_voca(path):\n",
        "    \"\"\"\n",
        "    open file from path and read each line to return the word list\n",
        "    \"\"\"\n",
        "    with open(path, 'r') as f:\n",
        "        return [word.strip() for word in f.readlines()]\n",
        "\n",
        "\n",
        "def word_cnt_to_bow_list(word_ids, word_cnt):\n",
        "    corpus_list = list()\n",
        "    for di in xrange(len(word_ids)):\n",
        "        doc_list = list()\n",
        "        for wi in xrange(len(word_ids[di])):\n",
        "            word = word_ids[di][wi]\n",
        "            for c in xrange(word_cnt[di][wi]):\n",
        "                doc_list.append(word)\n",
        "        corpus_list.append(doc_list)\n",
        "    return corpus_list\n",
        "\n",
        "\n",
        "def log_normalize(log_prob_vector):\n",
        "    \"\"\"\n",
        "    returns a probability vector of log probability vector\n",
        "    \"\"\"\n",
        "    max_v = log_prob_vector.max()\n",
        "    log_prob_vector += max_v\n",
        "    log_prob_vector = np.exp(log_prob_vector)\n",
        "    log_prob_vector /= log_prob_vector.sum()\n",
        "    return log_prob_vector\n",
        "\n",
        "\n",
        "def convert_cnt_to_list(word_ids, word_cnt):\n",
        "    corpus = list()\n",
        "\n",
        "    for di in xrange(len(word_ids)):\n",
        "        doc = list()\n",
        "        doc_ids = word_ids[di]\n",
        "        doc_cnt = word_cnt[di]\n",
        "        for wi in xrange(len(doc_ids)):\n",
        "            word_id = doc_ids[wi]\n",
        "            for si in xrange(doc_cnt[wi]):\n",
        "                doc.append(word_id)\n",
        "        corpus.append(doc)\n",
        "    return corpus\n",
        "\n",
        "\n",
        "def write_top_words(topic_word_matrix, vocab, filepath, n_words=20, delimiter=',', newline='\\n'):\n",
        "    with open(filepath, 'w') as f:\n",
        "        for ti in xrange(topic_word_matrix.shape[0]):\n",
        "            top_words = vocab[topic_word_matrix[ti, :].argsort()[::-1][:n_words]]\n",
        "            f.write('%d' % (ti))\n",
        "            for word in top_words:\n",
        "                f.write(delimiter + word)\n",
        "            f.write(newline)\n",
        "\n",
        "\n",
        "def get_top_words(topic_word_matrix, vocab, topic, n_words=20):\n",
        "    if not isinstance(vocab, np.ndarray):\n",
        "        vocab = np.array(vocab)\n",
        "    top_words = vocab[topic_word_matrix[topic].argsort()[::-1][:n_words]]\n",
        "    return top_words\n",
        "\n",
        "\n",
        "class BaseTopicModel(object):\n",
        "    \"\"\"\n",
        "    Attributes\n",
        "    ----------\n",
        "    n_doc: int\n",
        "        the number of total documents in the corpus\n",
        "    n_voca: int\n",
        "        the vocabulary size of the corpus\n",
        "    verbose: boolean\n",
        "        if True, print each iteration step while inference.\n",
        "    \"\"\"\n",
        "    def __init__(self, n_doc, n_voca, **kwargs):\n",
        "        self.n_doc = n_doc\n",
        "        self.n_voca = n_voca\n",
        "        self.verbose = kwargs.pop('verbose', True)\n",
        "\n",
        "\n",
        "class BaseGibbsParamTopicModel(BaseTopicModel):\n",
        "    \"\"\" Base class of parametric topic models with Gibbs sampling inference\n",
        "    Attributes\n",
        "    ----------\n",
        "    n_topic: int\n",
        "        a number of topics to be inferred through the Gibbs sampling\n",
        "    TW: ndarray, shape (n_voca, n_topic)\n",
        "        word-topic matrix, keeps the number of assigned word tokens for each word-topic pair\n",
        "    DT: ndarray, shape (n_doc, n_topic)\n",
        "        document-topic matrix, keeps the number of assigned word tokens for each document-topic pair\n",
        "    sum_T: ndarray, shape (n_topic)\n",
        "        number of word tokens assigned for each topic\n",
        "    alpha: float\n",
        "        symmetric parameter of Dirichlet prior for document-topic distribution\n",
        "    beta: float\n",
        "        symmetric parameter of Dirichlet prior for topic-word distribution\n",
        "    \"\"\"\n",
        "\n",
        "    def __init__(self, n_doc, n_voca, n_topic, alpha, beta, **kwargs):\n",
        "        super(BaseGibbsParamTopicModel, self).__init__(n_doc=n_doc, n_voca=n_voca, **kwargs)\n",
        "        self.n_topic = n_topic\n",
        "        self.TW = np.zeros([self.n_topic, self.n_voca])\n",
        "        self.DT = np.zeros([self.n_doc, self.n_topic])\n",
        "        self.sum_T = np.zeros(self.n_topic)\n",
        "\n",
        "        self.alpha = alpha\n",
        "        self.beta = beta\n",
        "\n",
        "        self.topic_assignment = list()\n",
        "\n",
        "        self.TW += self.beta\n",
        "        self.sum_T += self.beta * self.n_voca\n",
        "        self.DT += self.alpha\n",
        "\n",
        "class SupervisedLDA(BaseGibbsParamTopicModel):\n",
        "    \"\"\" Supervised LDA with Gaussian response variables\n",
        "    Attributes\n",
        "    ----------\n",
        "    eta: ndarray, shape (n_topic)\n",
        "        coefficient parameter of Gaussian distribution where the mean is np.dot(z_bar.T, eta)\n",
        "    sigma: float\n",
        "        variance parameter of Gaussian output variables\n",
        "    \"\"\"\n",
        "\n",
        "    def __init__(self, n_doc, n_voca, n_topic, alpha=0.1, beta=0.01, sigma=1., **kwargs):\n",
        "        super(SupervisedLDA, self).__init__(n_doc=n_doc, n_voca=n_voca, n_topic=n_topic, alpha=alpha, beta=beta,\n",
        "                                                 **kwargs)\n",
        "        self.eta = np.random.normal(scale=5, size=self.n_topic)\n",
        "        self.sigma = sigma\n",
        "\n",
        "    def random_init(self, docs):\n",
        "        \"\"\"\n",
        "        Random initialization of topics\n",
        "        Parameters\n",
        "        ----------\n",
        "        docs:\n",
        "        \"\"\"\n",
        "        for di in xrange(len(docs)):\n",
        "            doc = docs[di]\n",
        "            topics = np.random.randint(self.n_topic, size=len(doc))\n",
        "            self.topic_assignment.append(topics)\n",
        "\n",
        "            for wi in xrange(len(doc)):\n",
        "                topic = topics[wi]\n",
        "                word = doc[wi]\n",
        "                self.TW[topic, word] += 1\n",
        "                self.sum_T[topic] += 1\n",
        "                self.DT[di, topic] += 1\n",
        "\n",
        "    def fit(self, docs, responses, max_iter=100):\n",
        "        \"\"\" Stochastic Expectation Maximisation algorithm\n",
        "        \"\"\"\n",
        "        self.random_init(docs)\n",
        "        for iteration in xrange(max_iter):\n",
        "\n",
        "            for di in xrange(len(docs)):\n",
        "                doc = docs[di]\n",
        "                for wi in xrange(len(doc)):\n",
        "                    word = doc[wi]\n",
        "                    old_topic = self.topic_assignment[di][wi]\n",
        "\n",
        "                    self.TW[old_topic, word] -= 1\n",
        "                    self.sum_T[old_topic] -= 1\n",
        "                    self.DT[di, old_topic] -= 1\n",
        "\n",
        "                    z_bar = np.zeros([self.n_topic, self.n_topic]) + self.DT[di, :] + np.identity(self.n_topic)\n",
        "                    # this seems more straightforward than z_bar/z_bar.sum(1)\n",
        "                    z_bar /= self.DT[di, :].sum() + 1\n",
        "\n",
        "                    # update\n",
        "                    prob = (self.TW[:, word]) / (self.sum_T) * (self.DT[di, :]) * np.exp(\n",
        "                        np.negative((responses[di] - np.dot(z_bar, self.eta)) ** 2) / 2 / self.sigma)\n",
        "\n",
        "                    new_topic = sampling_from_dist(prob)\n",
        "\n",
        "                    self.topic_assignment[di][wi] = new_topic\n",
        "                    self.TW[new_topic, word] += 1\n",
        "                    self.sum_T[new_topic] += 1\n",
        "                    self.DT[di, new_topic] += 1\n",
        "\n",
        "            # estimate parameters\n",
        "            z_bar = self.DT / self.DT.sum(1)[:, np.newaxis]  # DxK\n",
        "            self.eta = solve(np.dot(z_bar.T, z_bar), np.dot(z_bar.T, responses))\n",
        "\n",
        "            # compute mean absolute error\n",
        "            mae = np.mean(np.abs(responses - np.dot(z_bar, self.eta)))\n",
        "            #if self.verbose:\n",
        "             #   logger.info('[ITER] %d,\\tMAE:%.2f,\\tlog_likelihood:%.2f', iteration, mae,\n",
        "              #              self.log_likelihood(docs, responses))\n",
        "\n",
        "    def sample_heldout_doc(self, max_iter, heldout_docs):\n",
        "        h_doc_topics = list()\n",
        "        h_doc_topic_sum = np.zeros([len(heldout_docs), self.n_topic]) + self.alpha\n",
        "\n",
        "        # random init\n",
        "        for di in xrange(len(heldout_docs)):\n",
        "            doc = heldout_docs[di]\n",
        "            topics = np.random.randint(self.n_topic, size=len(doc))\n",
        "            h_doc_topics.append(topics)\n",
        "\n",
        "            for wi in xrange(len(doc)):\n",
        "                topic = topics[wi]\n",
        "                h_doc_topic_sum[di, topic] += 1\n",
        "\n",
        "        for iter in xrange(max_iter):\n",
        "            for di in xrange(len(heldout_docs)):\n",
        "                doc = heldout_docs[di]\n",
        "                for wi in xrange(len(doc)):\n",
        "                    word = doc[wi]\n",
        "                    old_topic = h_doc_topics[di][wi]\n",
        "\n",
        "                    h_doc_topic_sum[di, old_topic] -= 1\n",
        "\n",
        "                    # update\n",
        "                    prob = (self.TW[:, word] / self.sum_T) * (self.DT[di, :])\n",
        "\n",
        "                    new_topic = sampling_from_dist(prob)\n",
        "\n",
        "                    h_doc_topics[di][wi] = new_topic\n",
        "                    h_doc_topic_sum[di, new_topic] += 1\n",
        "\n",
        "        return h_doc_topic_sum\n",
        "\n",
        "    def log_likelihood(self, docs, responses):\n",
        "        \"\"\"\n",
        "        likelihood function\n",
        "        \"\"\"\n",
        "        ll = 0\n",
        "\n",
        "        ll += len(docs) * gammaln(self.alpha * self.n_topic)\n",
        "        ll -= len(docs) * self.n_topic * gammaln(self.alpha)\n",
        "        ll += self.n_topic * gammaln(self.beta * self.n_voca)\n",
        "        ll -= self.n_topic * self.n_voca * gammaln(self.beta)\n",
        "\n",
        "        for di in xrange(self.n_doc):\n",
        "            ll += gammaln(self.DT[di, :]).sum() - gammaln(self.DT[di, :].sum())\n",
        "            z_bar = self.DT[di] / np.sum(self.DT[di])\n",
        "            mean = np.dot(z_bar, self.eta)\n",
        "            ll += norm.logpdf(responses[di], mean, np.sqrt(self.sigma))\n",
        "        for ki in xrange(self.n_topic):\n",
        "            ll += gammaln(self.TW[ki, :]).sum() - gammaln(self.TW[ki, :].sum())\n",
        "\n",
        "        return ll"
      ],
      "execution_count": 17,
      "outputs": []
    },
    {
      "cell_type": "code",
      "metadata": {
        "id": "WK5MkEPnypPQ"
      },
      "source": [
        "from biterm.utility import vec_to_biterms\n",
        "from biterm.cbtm import oBTM\n",
        "import numpy as np\n",
        "def BITERM_MODEL(tf, vectorizer):\n",
        "  vocab = np.array(vectorizer.get_feature_names())\n",
        "  biterms = vec_to_biterms(tf)\n",
        "  btm = oBTM(num_topics=1, V= vocab)\n",
        "  topics = btm.fit_transform(biterms, iterations=100)\n",
        "  return topics\n",
        "  pass"
      ],
      "execution_count": 35,
      "outputs": []
    },
    {
      "cell_type": "code",
      "metadata": {
        "colab": {
          "base_uri": "https://localhost:8080/",
          "height": 1000
        },
        "id": "hmrQLPLZoGAv",
        "outputId": "2c1d8d79-c6a5-4157-dc9c-d1b18ce9e812"
      },
      "source": [
        "import pandas as pd\n",
        "df=pd.read_csv('category.csv')\n",
        "input_df= df.head(5000)\n",
        "df"
      ],
      "execution_count": 5,
      "outputs": [
        {
          "output_type": "execute_result",
          "data": {
            "text/html": [
              "<div>\n",
              "<style scoped>\n",
              "    .dataframe tbody tr th:only-of-type {\n",
              "        vertical-align: middle;\n",
              "    }\n",
              "\n",
              "    .dataframe tbody tr th {\n",
              "        vertical-align: top;\n",
              "    }\n",
              "\n",
              "    .dataframe thead th {\n",
              "        text-align: right;\n",
              "    }\n",
              "</style>\n",
              "<table border=\"1\" class=\"dataframe\">\n",
              "  <thead>\n",
              "    <tr style=\"text-align: right;\">\n",
              "      <th></th>\n",
              "      <th>Category (incl. context and answer)</th>\n",
              "      <th>Description</th>\n",
              "    </tr>\n",
              "  </thead>\n",
              "  <tbody>\n",
              "    <tr>\n",
              "      <th>0</th>\n",
              "      <td>Document Name</td>\n",
              "      <td>The name of the contract</td>\n",
              "    </tr>\n",
              "    <tr>\n",
              "      <th>1</th>\n",
              "      <td>Parties</td>\n",
              "      <td>The two or more parties who signed the contract</td>\n",
              "    </tr>\n",
              "    <tr>\n",
              "      <th>2</th>\n",
              "      <td>Agreement Date</td>\n",
              "      <td>The date of the contract</td>\n",
              "    </tr>\n",
              "    <tr>\n",
              "      <th>3</th>\n",
              "      <td>Effective Date</td>\n",
              "      <td>The date when the contract is effective</td>\n",
              "    </tr>\n",
              "    <tr>\n",
              "      <th>4</th>\n",
              "      <td>Expiration Date</td>\n",
              "      <td>On what date will the contract's initial term ...</td>\n",
              "    </tr>\n",
              "    <tr>\n",
              "      <th>5</th>\n",
              "      <td>Renewal Term</td>\n",
              "      <td>What is the renewal term after the initial ter...</td>\n",
              "    </tr>\n",
              "    <tr>\n",
              "      <th>6</th>\n",
              "      <td>Notice to Terminate Renewal</td>\n",
              "      <td>What is the notice period required to terminat...</td>\n",
              "    </tr>\n",
              "    <tr>\n",
              "      <th>7</th>\n",
              "      <td>Governing Law</td>\n",
              "      <td>Which state/country's law governs the interpre...</td>\n",
              "    </tr>\n",
              "    <tr>\n",
              "      <th>8</th>\n",
              "      <td>Most Favored Nation</td>\n",
              "      <td>Is there a clause that if a third party gets b...</td>\n",
              "    </tr>\n",
              "    <tr>\n",
              "      <th>9</th>\n",
              "      <td>Non-Compete</td>\n",
              "      <td>Is there a restriction on the ability of a par...</td>\n",
              "    </tr>\n",
              "    <tr>\n",
              "      <th>10</th>\n",
              "      <td>Exclusivity</td>\n",
              "      <td>Is there an exclusive dealing  commitment with...</td>\n",
              "    </tr>\n",
              "    <tr>\n",
              "      <th>11</th>\n",
              "      <td>No-Solicit of Customers</td>\n",
              "      <td>Is a party restricted from contracting or soli...</td>\n",
              "    </tr>\n",
              "    <tr>\n",
              "      <th>12</th>\n",
              "      <td>Competitive Restriction Exception</td>\n",
              "      <td>This category includes the exceptions or carve...</td>\n",
              "    </tr>\n",
              "    <tr>\n",
              "      <th>13</th>\n",
              "      <td>No-Solicit of Employees</td>\n",
              "      <td>Is there a restriction on a party’s soliciting...</td>\n",
              "    </tr>\n",
              "    <tr>\n",
              "      <th>14</th>\n",
              "      <td>Non-Disparagement</td>\n",
              "      <td>Is there a requirement on a party not to dispa...</td>\n",
              "    </tr>\n",
              "    <tr>\n",
              "      <th>15</th>\n",
              "      <td>Termination for Convenience</td>\n",
              "      <td>Can a party terminate this  contract without c...</td>\n",
              "    </tr>\n",
              "    <tr>\n",
              "      <th>16</th>\n",
              "      <td>Right of First Refusal, Offer or Negotiation (...</td>\n",
              "      <td>Is there a clause granting one party a right o...</td>\n",
              "    </tr>\n",
              "    <tr>\n",
              "      <th>17</th>\n",
              "      <td>Change of Control</td>\n",
              "      <td>Does one party have the right to terminate or ...</td>\n",
              "    </tr>\n",
              "    <tr>\n",
              "      <th>18</th>\n",
              "      <td>Anti-Assignment</td>\n",
              "      <td>Is consent or notice required of a party if th...</td>\n",
              "    </tr>\n",
              "    <tr>\n",
              "      <th>19</th>\n",
              "      <td>Revenue/Profit Sharing</td>\n",
              "      <td>Is one party required to share revenue or prof...</td>\n",
              "    </tr>\n",
              "    <tr>\n",
              "      <th>20</th>\n",
              "      <td>Price Restriction</td>\n",
              "      <td>Is there a restriction on the  ability of a pa...</td>\n",
              "    </tr>\n",
              "    <tr>\n",
              "      <th>21</th>\n",
              "      <td>Volume Restriction</td>\n",
              "      <td>Is there a fee increase or consent requirement...</td>\n",
              "    </tr>\n",
              "    <tr>\n",
              "      <th>22</th>\n",
              "      <td>IP Ownership Assignment</td>\n",
              "      <td>Does intellectual property created  by one par...</td>\n",
              "    </tr>\n",
              "    <tr>\n",
              "      <th>23</th>\n",
              "      <td>Joint IP Ownership</td>\n",
              "      <td>Is there any clause providing for joint or sha...</td>\n",
              "    </tr>\n",
              "    <tr>\n",
              "      <th>24</th>\n",
              "      <td>License Grant</td>\n",
              "      <td>Does the contract contain a license granted by...</td>\n",
              "    </tr>\n",
              "    <tr>\n",
              "      <th>25</th>\n",
              "      <td>Non-Transferable License</td>\n",
              "      <td>Does the contract limit the ability of a party...</td>\n",
              "    </tr>\n",
              "    <tr>\n",
              "      <th>26</th>\n",
              "      <td>Affiliate IP License-Licensor</td>\n",
              "      <td>Does the contract contain a license grant by a...</td>\n",
              "    </tr>\n",
              "    <tr>\n",
              "      <th>27</th>\n",
              "      <td>Affiliate IP License-Licensee</td>\n",
              "      <td>Does the contract contain a license grant to a...</td>\n",
              "    </tr>\n",
              "    <tr>\n",
              "      <th>28</th>\n",
              "      <td>Unlimited/All-You-Can-Eat License</td>\n",
              "      <td>Is there a clause granting one party an “enter...</td>\n",
              "    </tr>\n",
              "    <tr>\n",
              "      <th>29</th>\n",
              "      <td>Irrevocable or Perpetual License</td>\n",
              "      <td>Does the contract contain a  license grant tha...</td>\n",
              "    </tr>\n",
              "    <tr>\n",
              "      <th>30</th>\n",
              "      <td>Source Code Escrow</td>\n",
              "      <td>Is one party required to deposit its source co...</td>\n",
              "    </tr>\n",
              "    <tr>\n",
              "      <th>31</th>\n",
              "      <td>Post-Termination Services</td>\n",
              "      <td>Is a party subject to obligations after the te...</td>\n",
              "    </tr>\n",
              "    <tr>\n",
              "      <th>32</th>\n",
              "      <td>Audit Rights</td>\n",
              "      <td>Does a party have the right to  audit the book...</td>\n",
              "    </tr>\n",
              "    <tr>\n",
              "      <th>33</th>\n",
              "      <td>Uncapped Liability</td>\n",
              "      <td>Is a party’s liability uncapped upon the breac...</td>\n",
              "    </tr>\n",
              "    <tr>\n",
              "      <th>34</th>\n",
              "      <td>Cap on Liability</td>\n",
              "      <td>Does the contract include a cap on liability u...</td>\n",
              "    </tr>\n",
              "    <tr>\n",
              "      <th>35</th>\n",
              "      <td>Liquidated Damages</td>\n",
              "      <td>Does the contract contain a clause that would ...</td>\n",
              "    </tr>\n",
              "    <tr>\n",
              "      <th>36</th>\n",
              "      <td>Warranty Duration</td>\n",
              "      <td>What is the duration of any  warranty against ...</td>\n",
              "    </tr>\n",
              "    <tr>\n",
              "      <th>37</th>\n",
              "      <td>Insurance</td>\n",
              "      <td>Is there a requirement for insurance that must...</td>\n",
              "    </tr>\n",
              "    <tr>\n",
              "      <th>38</th>\n",
              "      <td>Covenant Not to Sue</td>\n",
              "      <td>Is a party restricted from contesting the vali...</td>\n",
              "    </tr>\n",
              "    <tr>\n",
              "      <th>39</th>\n",
              "      <td>Third Party Beneficiary</td>\n",
              "      <td>Is there a non-contracting party who is a bene...</td>\n",
              "    </tr>\n",
              "  </tbody>\n",
              "</table>\n",
              "</div>"
            ],
            "text/plain": [
              "                  Category (incl. context and answer)                                        Description\n",
              "0                                       Document Name                           The name of the contract\n",
              "1                                             Parties    The two or more parties who signed the contract\n",
              "2                                      Agreement Date                           The date of the contract\n",
              "3                                      Effective Date            The date when the contract is effective\n",
              "4                                     Expiration Date  On what date will the contract's initial term ...\n",
              "5                                        Renewal Term  What is the renewal term after the initial ter...\n",
              "6                         Notice to Terminate Renewal  What is the notice period required to terminat...\n",
              "7                                       Governing Law  Which state/country's law governs the interpre...\n",
              "8                                 Most Favored Nation  Is there a clause that if a third party gets b...\n",
              "9                                         Non-Compete  Is there a restriction on the ability of a par...\n",
              "10                                        Exclusivity  Is there an exclusive dealing  commitment with...\n",
              "11                            No-Solicit of Customers  Is a party restricted from contracting or soli...\n",
              "12                  Competitive Restriction Exception  This category includes the exceptions or carve...\n",
              "13                            No-Solicit of Employees  Is there a restriction on a party’s soliciting...\n",
              "14                                  Non-Disparagement  Is there a requirement on a party not to dispa...\n",
              "15                        Termination for Convenience  Can a party terminate this  contract without c...\n",
              "16  Right of First Refusal, Offer or Negotiation (...  Is there a clause granting one party a right o...\n",
              "17                                  Change of Control  Does one party have the right to terminate or ...\n",
              "18                                    Anti-Assignment  Is consent or notice required of a party if th...\n",
              "19                             Revenue/Profit Sharing  Is one party required to share revenue or prof...\n",
              "20                                  Price Restriction  Is there a restriction on the  ability of a pa...\n",
              "21                                 Volume Restriction  Is there a fee increase or consent requirement...\n",
              "22                            IP Ownership Assignment  Does intellectual property created  by one par...\n",
              "23                                 Joint IP Ownership  Is there any clause providing for joint or sha...\n",
              "24                                      License Grant  Does the contract contain a license granted by...\n",
              "25                           Non-Transferable License  Does the contract limit the ability of a party...\n",
              "26                      Affiliate IP License-Licensor  Does the contract contain a license grant by a...\n",
              "27                      Affiliate IP License-Licensee  Does the contract contain a license grant to a...\n",
              "28                  Unlimited/All-You-Can-Eat License  Is there a clause granting one party an “enter...\n",
              "29                   Irrevocable or Perpetual License  Does the contract contain a  license grant tha...\n",
              "30                                 Source Code Escrow  Is one party required to deposit its source co...\n",
              "31                          Post-Termination Services  Is a party subject to obligations after the te...\n",
              "32                                       Audit Rights  Does a party have the right to  audit the book...\n",
              "33                                 Uncapped Liability  Is a party’s liability uncapped upon the breac...\n",
              "34                                   Cap on Liability  Does the contract include a cap on liability u...\n",
              "35                                 Liquidated Damages  Does the contract contain a clause that would ...\n",
              "36                                  Warranty Duration  What is the duration of any  warranty against ...\n",
              "37                                          Insurance  Is there a requirement for insurance that must...\n",
              "38                                Covenant Not to Sue  Is a party restricted from contesting the vali...\n",
              "39                            Third Party Beneficiary  Is there a non-contracting party who is a bene..."
            ]
          },
          "metadata": {
            "tags": []
          },
          "execution_count": 5
        }
      ]
    },
    {
      "cell_type": "code",
      "metadata": {
        "colab": {
          "base_uri": "https://localhost:8080/"
        },
        "id": "FwuH_CHcoI8T",
        "outputId": "a4e8938f-c04d-4c76-a59c-206d3e24daec"
      },
      "source": [
        "input_df.shape"
      ],
      "execution_count": 6,
      "outputs": [
        {
          "output_type": "execute_result",
          "data": {
            "text/plain": [
              "(40, 2)"
            ]
          },
          "metadata": {
            "tags": []
          },
          "execution_count": 6
        }
      ]
    },
    {
      "cell_type": "code",
      "metadata": {
        "colab": {
          "base_uri": "https://localhost:8080/"
        },
        "id": "e-FlbJxToY1B",
        "outputId": "bc38506b-873b-451c-8325-d116f108f8e6"
      },
      "source": [
        "input_df.info()"
      ],
      "execution_count": 7,
      "outputs": [
        {
          "output_type": "stream",
          "text": [
            "<class 'pandas.core.frame.DataFrame'>\n",
            "RangeIndex: 40 entries, 0 to 39\n",
            "Data columns (total 2 columns):\n",
            " #   Column                               Non-Null Count  Dtype \n",
            "---  ------                               --------------  ----- \n",
            " 0   Category (incl. context and answer)  40 non-null     object\n",
            " 1   Description                          40 non-null     object\n",
            "dtypes: object(2)\n",
            "memory usage: 768.0+ bytes\n"
          ],
          "name": "stdout"
        }
      ]
    },
    {
      "cell_type": "code",
      "metadata": {
        "colab": {
          "base_uri": "https://localhost:8080/"
        },
        "id": "1zaCMOx3obuy",
        "outputId": "1d4051a1-bedf-426f-b61c-e91ef2eadf65"
      },
      "source": [
        "print(input_df.isnull().sum())\n",
        "# Dropping the null values\n",
        "input_df=input_df.dropna()"
      ],
      "execution_count": 8,
      "outputs": [
        {
          "output_type": "stream",
          "text": [
            "Category (incl. context and answer)    0\n",
            "Description                            0\n",
            "dtype: int64\n"
          ],
          "name": "stdout"
        }
      ]
    },
    {
      "cell_type": "code",
      "metadata": {
        "colab": {
          "base_uri": "https://localhost:8080/",
          "height": 1000
        },
        "id": "bWG_T5I9ofm8",
        "outputId": "4333cfc7-da23-490b-a5c6-e794f14fa949"
      },
      "source": [
        "from nltk.corpus import stopwords\n",
        "from nltk.tokenize import word_tokenize  \n",
        "import re\n",
        "import nltk\n",
        "nltk.download('stopwords')\n",
        "nltk.download('punkt')\n",
        "nltk.download('wordnet')\n",
        "stop_words=stopwords.words(\"english\")\n",
        "# cleaning the text data\n",
        "input_df['cleaned_data'] = input_df['Description'].str.replace(r\"\\W\", \" \").str.strip()# 1.To remove special characters and punctuations\n",
        "input_df['cleaned_data'] = input_df['cleaned_data'].str.replace(r'\\d+',\"\") #2.To remove Numbers\n",
        "input_df['cleaned_data'] = input_df['cleaned_data'].apply(lambda x: \" \".join(x.lower() for x in x.split())) #convert the whole text into lower case\n",
        "input_df['cleaned_data'] = input_df['cleaned_data'].apply(lambda x: \" \".join(x for x in x.split() if x not in stop_words)) #remove all stop words\n",
        "#input_df['cleaned text review'] # dataframe column that would be used for further process\n",
        "input_df\n",
        "\n",
        "#data cleaning for Labels\n",
        "input_df['labels'] = input_df['Category (incl. context and answer)'].str.replace(r\"\\W\", \" \").str.strip()# 1.To remove special characters and punctuations\n",
        "input_df['labels'] = input_df['labels'].apply(lambda x: \" \".join(x.lower() for x in x.split())) #convert the whole text into lower case\n",
        "input_df"
      ],
      "execution_count": 9,
      "outputs": [
        {
          "output_type": "stream",
          "text": [
            "[nltk_data] Downloading package stopwords to /root/nltk_data...\n",
            "[nltk_data]   Unzipping corpora/stopwords.zip.\n",
            "[nltk_data] Downloading package punkt to /root/nltk_data...\n",
            "[nltk_data]   Unzipping tokenizers/punkt.zip.\n",
            "[nltk_data] Downloading package wordnet to /root/nltk_data...\n",
            "[nltk_data]   Unzipping corpora/wordnet.zip.\n"
          ],
          "name": "stdout"
        },
        {
          "output_type": "execute_result",
          "data": {
            "text/html": [
              "<div>\n",
              "<style scoped>\n",
              "    .dataframe tbody tr th:only-of-type {\n",
              "        vertical-align: middle;\n",
              "    }\n",
              "\n",
              "    .dataframe tbody tr th {\n",
              "        vertical-align: top;\n",
              "    }\n",
              "\n",
              "    .dataframe thead th {\n",
              "        text-align: right;\n",
              "    }\n",
              "</style>\n",
              "<table border=\"1\" class=\"dataframe\">\n",
              "  <thead>\n",
              "    <tr style=\"text-align: right;\">\n",
              "      <th></th>\n",
              "      <th>Category (incl. context and answer)</th>\n",
              "      <th>Description</th>\n",
              "      <th>cleaned_data</th>\n",
              "      <th>labels</th>\n",
              "    </tr>\n",
              "  </thead>\n",
              "  <tbody>\n",
              "    <tr>\n",
              "      <th>0</th>\n",
              "      <td>Document Name</td>\n",
              "      <td>The name of the contract</td>\n",
              "      <td>name contract</td>\n",
              "      <td>document name</td>\n",
              "    </tr>\n",
              "    <tr>\n",
              "      <th>1</th>\n",
              "      <td>Parties</td>\n",
              "      <td>The two or more parties who signed the contract</td>\n",
              "      <td>two parties signed contract</td>\n",
              "      <td>parties</td>\n",
              "    </tr>\n",
              "    <tr>\n",
              "      <th>2</th>\n",
              "      <td>Agreement Date</td>\n",
              "      <td>The date of the contract</td>\n",
              "      <td>date contract</td>\n",
              "      <td>agreement date</td>\n",
              "    </tr>\n",
              "    <tr>\n",
              "      <th>3</th>\n",
              "      <td>Effective Date</td>\n",
              "      <td>The date when the contract is effective</td>\n",
              "      <td>date contract effective</td>\n",
              "      <td>effective date</td>\n",
              "    </tr>\n",
              "    <tr>\n",
              "      <th>4</th>\n",
              "      <td>Expiration Date</td>\n",
              "      <td>On what date will the contract's initial term ...</td>\n",
              "      <td>date contract initial term expire</td>\n",
              "      <td>expiration date</td>\n",
              "    </tr>\n",
              "    <tr>\n",
              "      <th>5</th>\n",
              "      <td>Renewal Term</td>\n",
              "      <td>What is the renewal term after the initial ter...</td>\n",
              "      <td>renewal term initial term expires includes aut...</td>\n",
              "      <td>renewal term</td>\n",
              "    </tr>\n",
              "    <tr>\n",
              "      <th>6</th>\n",
              "      <td>Notice to Terminate Renewal</td>\n",
              "      <td>What is the notice period required to terminat...</td>\n",
              "      <td>notice period required terminate renewal</td>\n",
              "      <td>notice to terminate renewal</td>\n",
              "    </tr>\n",
              "    <tr>\n",
              "      <th>7</th>\n",
              "      <td>Governing Law</td>\n",
              "      <td>Which state/country's law governs the interpre...</td>\n",
              "      <td>state country law governs interpretation contract</td>\n",
              "      <td>governing law</td>\n",
              "    </tr>\n",
              "    <tr>\n",
              "      <th>8</th>\n",
              "      <td>Most Favored Nation</td>\n",
              "      <td>Is there a clause that if a third party gets b...</td>\n",
              "      <td>clause third party gets better terms licensing...</td>\n",
              "      <td>most favored nation</td>\n",
              "    </tr>\n",
              "    <tr>\n",
              "      <th>9</th>\n",
              "      <td>Non-Compete</td>\n",
              "      <td>Is there a restriction on the ability of a par...</td>\n",
              "      <td>restriction ability party compete counterparty...</td>\n",
              "      <td>non compete</td>\n",
              "    </tr>\n",
              "    <tr>\n",
              "      <th>10</th>\n",
              "      <td>Exclusivity</td>\n",
              "      <td>Is there an exclusive dealing  commitment with...</td>\n",
              "      <td>exclusive dealing commitment counterparty incl...</td>\n",
              "      <td>exclusivity</td>\n",
              "    </tr>\n",
              "    <tr>\n",
              "      <th>11</th>\n",
              "      <td>No-Solicit of Customers</td>\n",
              "      <td>Is a party restricted from contracting or soli...</td>\n",
              "      <td>party restricted contracting soliciting custom...</td>\n",
              "      <td>no solicit of customers</td>\n",
              "    </tr>\n",
              "    <tr>\n",
              "      <th>12</th>\n",
              "      <td>Competitive Restriction Exception</td>\n",
              "      <td>This category includes the exceptions or carve...</td>\n",
              "      <td>category includes exceptions carveouts non com...</td>\n",
              "      <td>competitive restriction exception</td>\n",
              "    </tr>\n",
              "    <tr>\n",
              "      <th>13</th>\n",
              "      <td>No-Solicit of Employees</td>\n",
              "      <td>Is there a restriction on a party’s soliciting...</td>\n",
              "      <td>restriction party soliciting hiring employees ...</td>\n",
              "      <td>no solicit of employees</td>\n",
              "    </tr>\n",
              "    <tr>\n",
              "      <th>14</th>\n",
              "      <td>Non-Disparagement</td>\n",
              "      <td>Is there a requirement on a party not to dispa...</td>\n",
              "      <td>requirement party disparage counterparty</td>\n",
              "      <td>non disparagement</td>\n",
              "    </tr>\n",
              "    <tr>\n",
              "      <th>15</th>\n",
              "      <td>Termination for Convenience</td>\n",
              "      <td>Can a party terminate this  contract without c...</td>\n",
              "      <td>party terminate contract without cause solely ...</td>\n",
              "      <td>termination for convenience</td>\n",
              "    </tr>\n",
              "    <tr>\n",
              "      <th>16</th>\n",
              "      <td>Right of First Refusal, Offer or Negotiation (...</td>\n",
              "      <td>Is there a clause granting one party a right o...</td>\n",
              "      <td>clause granting one party right first refusal ...</td>\n",
              "      <td>right of first refusal offer or negotiation ro...</td>\n",
              "    </tr>\n",
              "    <tr>\n",
              "      <th>17</th>\n",
              "      <td>Change of Control</td>\n",
              "      <td>Does one party have the right to terminate or ...</td>\n",
              "      <td>one party right terminate consent notice requi...</td>\n",
              "      <td>change of control</td>\n",
              "    </tr>\n",
              "    <tr>\n",
              "      <th>18</th>\n",
              "      <td>Anti-Assignment</td>\n",
              "      <td>Is consent or notice required of a party if th...</td>\n",
              "      <td>consent notice required party contract assigne...</td>\n",
              "      <td>anti assignment</td>\n",
              "    </tr>\n",
              "    <tr>\n",
              "      <th>19</th>\n",
              "      <td>Revenue/Profit Sharing</td>\n",
              "      <td>Is one party required to share revenue or prof...</td>\n",
              "      <td>one party required share revenue profit counte...</td>\n",
              "      <td>revenue profit sharing</td>\n",
              "    </tr>\n",
              "    <tr>\n",
              "      <th>20</th>\n",
              "      <td>Price Restriction</td>\n",
              "      <td>Is there a restriction on the  ability of a pa...</td>\n",
              "      <td>restriction ability party raise reduce prices ...</td>\n",
              "      <td>price restriction</td>\n",
              "    </tr>\n",
              "    <tr>\n",
              "      <th>21</th>\n",
              "      <td>Volume Restriction</td>\n",
              "      <td>Is there a fee increase or consent requirement...</td>\n",
              "      <td>fee increase consent requirement etc one party...</td>\n",
              "      <td>volume restriction</td>\n",
              "    </tr>\n",
              "    <tr>\n",
              "      <th>22</th>\n",
              "      <td>IP Ownership Assignment</td>\n",
              "      <td>Does intellectual property created  by one par...</td>\n",
              "      <td>intellectual property created one party become...</td>\n",
              "      <td>ip ownership assignment</td>\n",
              "    </tr>\n",
              "    <tr>\n",
              "      <th>23</th>\n",
              "      <td>Joint IP Ownership</td>\n",
              "      <td>Is there any clause providing for joint or sha...</td>\n",
              "      <td>clause providing joint shared ownership intell...</td>\n",
              "      <td>joint ip ownership</td>\n",
              "    </tr>\n",
              "    <tr>\n",
              "      <th>24</th>\n",
              "      <td>License Grant</td>\n",
              "      <td>Does the contract contain a license granted by...</td>\n",
              "      <td>contract contain license granted one party cou...</td>\n",
              "      <td>license grant</td>\n",
              "    </tr>\n",
              "    <tr>\n",
              "      <th>25</th>\n",
              "      <td>Non-Transferable License</td>\n",
              "      <td>Does the contract limit the ability of a party...</td>\n",
              "      <td>contract limit ability party transfer license ...</td>\n",
              "      <td>non transferable license</td>\n",
              "    </tr>\n",
              "    <tr>\n",
              "      <th>26</th>\n",
              "      <td>Affiliate IP License-Licensor</td>\n",
              "      <td>Does the contract contain a license grant by a...</td>\n",
              "      <td>contract contain license grant affiliates lice...</td>\n",
              "      <td>affiliate ip license licensor</td>\n",
              "    </tr>\n",
              "    <tr>\n",
              "      <th>27</th>\n",
              "      <td>Affiliate IP License-Licensee</td>\n",
              "      <td>Does the contract contain a license grant to a...</td>\n",
              "      <td>contract contain license grant licensee incl s...</td>\n",
              "      <td>affiliate ip license licensee</td>\n",
              "    </tr>\n",
              "    <tr>\n",
              "      <th>28</th>\n",
              "      <td>Unlimited/All-You-Can-Eat License</td>\n",
              "      <td>Is there a clause granting one party an “enter...</td>\n",
              "      <td>clause granting one party enterprise eat unlim...</td>\n",
              "      <td>unlimited all you can eat license</td>\n",
              "    </tr>\n",
              "    <tr>\n",
              "      <th>29</th>\n",
              "      <td>Irrevocable or Perpetual License</td>\n",
              "      <td>Does the contract contain a  license grant tha...</td>\n",
              "      <td>contract contain license grant irrevocable per...</td>\n",
              "      <td>irrevocable or perpetual license</td>\n",
              "    </tr>\n",
              "    <tr>\n",
              "      <th>30</th>\n",
              "      <td>Source Code Escrow</td>\n",
              "      <td>Is one party required to deposit its source co...</td>\n",
              "      <td>one party required deposit source code escrow ...</td>\n",
              "      <td>source code escrow</td>\n",
              "    </tr>\n",
              "    <tr>\n",
              "      <th>31</th>\n",
              "      <td>Post-Termination Services</td>\n",
              "      <td>Is a party subject to obligations after the te...</td>\n",
              "      <td>party subject obligations termination expirati...</td>\n",
              "      <td>post termination services</td>\n",
              "    </tr>\n",
              "    <tr>\n",
              "      <th>32</th>\n",
              "      <td>Audit Rights</td>\n",
              "      <td>Does a party have the right to  audit the book...</td>\n",
              "      <td>party right audit books records physical locat...</td>\n",
              "      <td>audit rights</td>\n",
              "    </tr>\n",
              "    <tr>\n",
              "      <th>33</th>\n",
              "      <td>Uncapped Liability</td>\n",
              "      <td>Is a party’s liability uncapped upon the breac...</td>\n",
              "      <td>party liability uncapped upon breach obligatio...</td>\n",
              "      <td>uncapped liability</td>\n",
              "    </tr>\n",
              "    <tr>\n",
              "      <th>34</th>\n",
              "      <td>Cap on Liability</td>\n",
              "      <td>Does the contract include a cap on liability u...</td>\n",
              "      <td>contract include cap liability upon breach par...</td>\n",
              "      <td>cap on liability</td>\n",
              "    </tr>\n",
              "    <tr>\n",
              "      <th>35</th>\n",
              "      <td>Liquidated Damages</td>\n",
              "      <td>Does the contract contain a clause that would ...</td>\n",
              "      <td>contract contain clause would award either par...</td>\n",
              "      <td>liquidated damages</td>\n",
              "    </tr>\n",
              "    <tr>\n",
              "      <th>36</th>\n",
              "      <td>Warranty Duration</td>\n",
              "      <td>What is the duration of any  warranty against ...</td>\n",
              "      <td>duration warranty defects errors technology pr...</td>\n",
              "      <td>warranty duration</td>\n",
              "    </tr>\n",
              "    <tr>\n",
              "      <th>37</th>\n",
              "      <td>Insurance</td>\n",
              "      <td>Is there a requirement for insurance that must...</td>\n",
              "      <td>requirement insurance must maintained one part...</td>\n",
              "      <td>insurance</td>\n",
              "    </tr>\n",
              "    <tr>\n",
              "      <th>38</th>\n",
              "      <td>Covenant Not to Sue</td>\n",
              "      <td>Is a party restricted from contesting the vali...</td>\n",
              "      <td>party restricted contesting validity counterpa...</td>\n",
              "      <td>covenant not to sue</td>\n",
              "    </tr>\n",
              "    <tr>\n",
              "      <th>39</th>\n",
              "      <td>Third Party Beneficiary</td>\n",
              "      <td>Is there a non-contracting party who is a bene...</td>\n",
              "      <td>non contracting party beneficiary clauses cont...</td>\n",
              "      <td>third party beneficiary</td>\n",
              "    </tr>\n",
              "  </tbody>\n",
              "</table>\n",
              "</div>"
            ],
            "text/plain": [
              "                  Category (incl. context and answer)  ...                                             labels\n",
              "0                                       Document Name  ...                                      document name\n",
              "1                                             Parties  ...                                            parties\n",
              "2                                      Agreement Date  ...                                     agreement date\n",
              "3                                      Effective Date  ...                                     effective date\n",
              "4                                     Expiration Date  ...                                    expiration date\n",
              "5                                        Renewal Term  ...                                       renewal term\n",
              "6                         Notice to Terminate Renewal  ...                        notice to terminate renewal\n",
              "7                                       Governing Law  ...                                      governing law\n",
              "8                                 Most Favored Nation  ...                                most favored nation\n",
              "9                                         Non-Compete  ...                                        non compete\n",
              "10                                        Exclusivity  ...                                        exclusivity\n",
              "11                            No-Solicit of Customers  ...                            no solicit of customers\n",
              "12                  Competitive Restriction Exception  ...                  competitive restriction exception\n",
              "13                            No-Solicit of Employees  ...                            no solicit of employees\n",
              "14                                  Non-Disparagement  ...                                  non disparagement\n",
              "15                        Termination for Convenience  ...                        termination for convenience\n",
              "16  Right of First Refusal, Offer or Negotiation (...  ...  right of first refusal offer or negotiation ro...\n",
              "17                                  Change of Control  ...                                  change of control\n",
              "18                                    Anti-Assignment  ...                                    anti assignment\n",
              "19                             Revenue/Profit Sharing  ...                             revenue profit sharing\n",
              "20                                  Price Restriction  ...                                  price restriction\n",
              "21                                 Volume Restriction  ...                                 volume restriction\n",
              "22                            IP Ownership Assignment  ...                            ip ownership assignment\n",
              "23                                 Joint IP Ownership  ...                                 joint ip ownership\n",
              "24                                      License Grant  ...                                      license grant\n",
              "25                           Non-Transferable License  ...                           non transferable license\n",
              "26                      Affiliate IP License-Licensor  ...                      affiliate ip license licensor\n",
              "27                      Affiliate IP License-Licensee  ...                      affiliate ip license licensee\n",
              "28                  Unlimited/All-You-Can-Eat License  ...                  unlimited all you can eat license\n",
              "29                   Irrevocable or Perpetual License  ...                   irrevocable or perpetual license\n",
              "30                                 Source Code Escrow  ...                                 source code escrow\n",
              "31                          Post-Termination Services  ...                          post termination services\n",
              "32                                       Audit Rights  ...                                       audit rights\n",
              "33                                 Uncapped Liability  ...                                 uncapped liability\n",
              "34                                   Cap on Liability  ...                                   cap on liability\n",
              "35                                 Liquidated Damages  ...                                 liquidated damages\n",
              "36                                  Warranty Duration  ...                                  warranty duration\n",
              "37                                          Insurance  ...                                          insurance\n",
              "38                                Covenant Not to Sue  ...                                covenant not to sue\n",
              "39                            Third Party Beneficiary  ...                            third party beneficiary\n",
              "\n",
              "[40 rows x 4 columns]"
            ]
          },
          "metadata": {
            "tags": []
          },
          "execution_count": 9
        }
      ]
    },
    {
      "cell_type": "code",
      "metadata": {
        "id": "vXYk_P_9o20P"
      },
      "source": [
        "\n",
        "from sklearn.feature_extraction.text import CountVectorizer\n",
        "\n",
        "# the vectorizer object will be used to transform text to vector form\n",
        "vectorizer = CountVectorizer(max_df=0.9, min_df=25, token_pattern='\\w+|\\$[\\d\\.]+|\\S+')\n",
        "\n",
        "# apply transformation\n",
        "tf = vectorizer.fit_transform(input_df['cleaned_data']).toarray()\n",
        "\n",
        "# tf_feature_names tells us what word each column in the matric represents\n",
        "tf_feature_names = vectorizer.get_feature_names()"
      ],
      "execution_count": 8,
      "outputs": []
    },
    {
      "cell_type": "code",
      "metadata": {
        "id": "8A-DP4MUo6XF"
      },
      "source": [
        "\n",
        "import sys\n",
        "sys.path.insert(1,'/content/')"
      ],
      "execution_count": 9,
      "outputs": []
    },
    {
      "cell_type": "code",
      "metadata": {
        "colab": {
          "base_uri": "https://localhost:8080/",
          "height": 165
        },
        "id": "llCQOj0jpZ5b",
        "outputId": "8377070d-1576-44f4-9dfc-242fcb3f08e7"
      },
      "source": [
        "#import AlgorithmLDA as lda_ul\n",
        "result = LDA_MODEL(10,tf,tf_feature_names,10)\n",
        "result"
      ],
      "execution_count": 18,
      "outputs": [
        {
          "output_type": "execute_result",
          "data": {
            "text/html": [
              "<div>\n",
              "<style scoped>\n",
              "    .dataframe tbody tr th:only-of-type {\n",
              "        vertical-align: middle;\n",
              "    }\n",
              "\n",
              "    .dataframe tbody tr th {\n",
              "        vertical-align: top;\n",
              "    }\n",
              "\n",
              "    .dataframe thead th {\n",
              "        text-align: right;\n",
              "    }\n",
              "</style>\n",
              "<table border=\"1\" class=\"dataframe\">\n",
              "  <thead>\n",
              "    <tr style=\"text-align: right;\">\n",
              "      <th></th>\n",
              "      <th>Topic 0 words</th>\n",
              "      <th>Topic 0 weights</th>\n",
              "      <th>Topic 1 words</th>\n",
              "      <th>Topic 1 weights</th>\n",
              "      <th>Topic 2 words</th>\n",
              "      <th>Topic 2 weights</th>\n",
              "      <th>Topic 3 words</th>\n",
              "      <th>Topic 3 weights</th>\n",
              "      <th>Topic 4 words</th>\n",
              "      <th>Topic 4 weights</th>\n",
              "      <th>Topic 5 words</th>\n",
              "      <th>Topic 5 weights</th>\n",
              "      <th>Topic 6 words</th>\n",
              "      <th>Topic 6 weights</th>\n",
              "      <th>Topic 7 words</th>\n",
              "      <th>Topic 7 weights</th>\n",
              "      <th>Topic 8 words</th>\n",
              "      <th>Topic 8 weights</th>\n",
              "      <th>Topic 9 words</th>\n",
              "      <th>Topic 9 weights</th>\n",
              "    </tr>\n",
              "  </thead>\n",
              "  <tbody>\n",
              "    <tr>\n",
              "      <th>0</th>\n",
              "      <td>contract</td>\n",
              "      <td>0.1</td>\n",
              "      <td>contract</td>\n",
              "      <td>17.1</td>\n",
              "      <td>contract</td>\n",
              "      <td>0.1</td>\n",
              "      <td>contract</td>\n",
              "      <td>0.1</td>\n",
              "      <td>contract</td>\n",
              "      <td>0.1</td>\n",
              "      <td>contract</td>\n",
              "      <td>0.1</td>\n",
              "      <td>party</td>\n",
              "      <td>18.6</td>\n",
              "      <td>contract</td>\n",
              "      <td>10.1</td>\n",
              "      <td>party</td>\n",
              "      <td>7.1</td>\n",
              "      <td>contract</td>\n",
              "      <td>0.1</td>\n",
              "    </tr>\n",
              "    <tr>\n",
              "      <th>1</th>\n",
              "      <td>party</td>\n",
              "      <td>0.1</td>\n",
              "      <td>party</td>\n",
              "      <td>0.1</td>\n",
              "      <td>party</td>\n",
              "      <td>0.1</td>\n",
              "      <td>party</td>\n",
              "      <td>0.1</td>\n",
              "      <td>party</td>\n",
              "      <td>0.1</td>\n",
              "      <td>party</td>\n",
              "      <td>0.1</td>\n",
              "      <td>contract</td>\n",
              "      <td>0.1</td>\n",
              "      <td>party</td>\n",
              "      <td>5.6</td>\n",
              "      <td>contract</td>\n",
              "      <td>5.1</td>\n",
              "      <td>party</td>\n",
              "      <td>0.1</td>\n",
              "    </tr>\n",
              "  </tbody>\n",
              "</table>\n",
              "</div>"
            ],
            "text/plain": [
              "  Topic 0 words Topic 0 weights  ... Topic 9 words Topic 9 weights\n",
              "0      contract             0.1  ...      contract             0.1\n",
              "1         party             0.1  ...         party             0.1\n",
              "\n",
              "[2 rows x 20 columns]"
            ]
          },
          "metadata": {
            "tags": []
          },
          "execution_count": 18
        }
      ]
    },
    {
      "cell_type": "code",
      "metadata": {
        "colab": {
          "base_uri": "https://localhost:8080/",
          "height": 607
        },
        "id": "9ExFKmPJrtuN",
        "outputId": "c1654c00-7011-45b4-d6bc-ba197b9b712b"
      },
      "source": [
        "\n",
        "import matplotlib.pyplot as plt\n",
        "columns_list = [\"Topic \"+str(i)+\" weights\" for i in range(0,10)]\n",
        "for i in columns_list:\n",
        "  result[i] = pd.to_numeric(result[i])\n",
        "result.hist(figsize=(10,10),color = 'Purple')\n",
        "plt.show(block=False)"
      ],
      "execution_count": 19,
      "outputs": [
        {
          "output_type": "display_data",
          "data": {
            "image/png": "[encoded data removed]",
            "text/plain": [
              "<Figure size 720x720 with 12 Axes>"
            ]
          },
          "metadata": {
            "tags": [],
            "needs_background": "light"
          }
        }
      ]
    },
    {
      "cell_type": "code",
      "metadata": {
        "colab": {
          "base_uri": "https://localhost:8080/",
          "height": 357
        },
        "id": "8mTMl_x5ssz2",
        "outputId": "b26be25a-83e9-42f0-8c61-3af933e75c15"
      },
      "source": [
        "\n",
        "result.plot(kind='density', subplots=True,layout = (2,2),sharex=False, legend=True, fontsize=1,figsize=(15,15))\n",
        "plt.show(block=False)"
      ],
      "execution_count": 21,
      "outputs": [
        {
          "output_type": "error",
          "ename": "ValueError",
          "evalue": "ignored",
          "traceback": [
            "\u001b[0;31m---------------------------------------------------------------------------\u001b[0m",
            "\u001b[0;31mValueError\u001b[0m                                Traceback (most recent call last)",
            "\u001b[0;32m<ipython-input-21-75b3a0af23a0>\u001b[0m in \u001b[0;36m<module>\u001b[0;34m()\u001b[0m\n\u001b[1;32m      1\u001b[0m \u001b[0;34m\u001b[0m\u001b[0m\n\u001b[0;32m----> 2\u001b[0;31m \u001b[0mresult\u001b[0m\u001b[0;34m.\u001b[0m\u001b[0mplot\u001b[0m\u001b[0;34m(\u001b[0m\u001b[0mkind\u001b[0m\u001b[0;34m=\u001b[0m\u001b[0;34m'density'\u001b[0m\u001b[0;34m,\u001b[0m \u001b[0msubplots\u001b[0m\u001b[0;34m=\u001b[0m\u001b[0;32mTrue\u001b[0m\u001b[0;34m,\u001b[0m\u001b[0mlayout\u001b[0m \u001b[0;34m=\u001b[0m \u001b[0;34m(\u001b[0m\u001b[0;36m2\u001b[0m\u001b[0;34m,\u001b[0m\u001b[0;36m2\u001b[0m\u001b[0;34m)\u001b[0m\u001b[0;34m,\u001b[0m\u001b[0msharex\u001b[0m\u001b[0;34m=\u001b[0m\u001b[0;32mFalse\u001b[0m\u001b[0;34m,\u001b[0m \u001b[0mlegend\u001b[0m\u001b[0;34m=\u001b[0m\u001b[0;32mTrue\u001b[0m\u001b[0;34m,\u001b[0m \u001b[0mfontsize\u001b[0m\u001b[0;34m=\u001b[0m\u001b[0;36m1\u001b[0m\u001b[0;34m,\u001b[0m\u001b[0mfigsize\u001b[0m\u001b[0;34m=\u001b[0m\u001b[0;34m(\u001b[0m\u001b[0;36m15\u001b[0m\u001b[0;34m,\u001b[0m\u001b[0;36m15\u001b[0m\u001b[0;34m)\u001b[0m\u001b[0;34m)\u001b[0m\u001b[0;34m\u001b[0m\u001b[0;34m\u001b[0m\u001b[0m\n\u001b[0m\u001b[1;32m      3\u001b[0m \u001b[0mplt\u001b[0m\u001b[0;34m.\u001b[0m\u001b[0mshow\u001b[0m\u001b[0;34m(\u001b[0m\u001b[0mblock\u001b[0m\u001b[0;34m=\u001b[0m\u001b[0;32mFalse\u001b[0m\u001b[0;34m)\u001b[0m\u001b[0;34m\u001b[0m\u001b[0;34m\u001b[0m\u001b[0m\n",
            "\u001b[0;32m/usr/local/lib/python3.7/dist-packages/pandas/plotting/_core.py\u001b[0m in \u001b[0;36m__call__\u001b[0;34m(self, *args, **kwargs)\u001b[0m\n\u001b[1;32m    947\u001b[0m                     \u001b[0mdata\u001b[0m\u001b[0;34m.\u001b[0m\u001b[0mcolumns\u001b[0m \u001b[0;34m=\u001b[0m \u001b[0mlabel_name\u001b[0m\u001b[0;34m\u001b[0m\u001b[0;34m\u001b[0m\u001b[0m\n\u001b[1;32m    948\u001b[0m \u001b[0;34m\u001b[0m\u001b[0m\n\u001b[0;32m--> 949\u001b[0;31m         \u001b[0;32mreturn\u001b[0m \u001b[0mplot_backend\u001b[0m\u001b[0;34m.\u001b[0m\u001b[0mplot\u001b[0m\u001b[0;34m(\u001b[0m\u001b[0mdata\u001b[0m\u001b[0;34m,\u001b[0m \u001b[0mkind\u001b[0m\u001b[0;34m=\u001b[0m\u001b[0mkind\u001b[0m\u001b[0;34m,\u001b[0m \u001b[0;34m**\u001b[0m\u001b[0mkwargs\u001b[0m\u001b[0;34m)\u001b[0m\u001b[0;34m\u001b[0m\u001b[0;34m\u001b[0m\u001b[0m\n\u001b[0m\u001b[1;32m    950\u001b[0m \u001b[0;34m\u001b[0m\u001b[0m\n\u001b[1;32m    951\u001b[0m     \u001b[0m__call__\u001b[0m\u001b[0;34m.\u001b[0m\u001b[0m__doc__\u001b[0m \u001b[0;34m=\u001b[0m \u001b[0m__doc__\u001b[0m\u001b[0;34m\u001b[0m\u001b[0;34m\u001b[0m\u001b[0m\n",
            "\u001b[0;32m/usr/local/lib/python3.7/dist-packages/pandas/plotting/_matplotlib/__init__.py\u001b[0m in \u001b[0;36mplot\u001b[0;34m(data, kind, **kwargs)\u001b[0m\n\u001b[1;32m     59\u001b[0m             \u001b[0mkwargs\u001b[0m\u001b[0;34m[\u001b[0m\u001b[0;34m\"ax\"\u001b[0m\u001b[0;34m]\u001b[0m \u001b[0;34m=\u001b[0m \u001b[0mgetattr\u001b[0m\u001b[0;34m(\u001b[0m\u001b[0max\u001b[0m\u001b[0;34m,\u001b[0m \u001b[0;34m\"left_ax\"\u001b[0m\u001b[0;34m,\u001b[0m \u001b[0max\u001b[0m\u001b[0;34m)\u001b[0m\u001b[0;34m\u001b[0m\u001b[0;34m\u001b[0m\u001b[0m\n\u001b[1;32m     60\u001b[0m     \u001b[0mplot_obj\u001b[0m \u001b[0;34m=\u001b[0m \u001b[0mPLOT_CLASSES\u001b[0m\u001b[0;34m[\u001b[0m\u001b[0mkind\u001b[0m\u001b[0;34m]\u001b[0m\u001b[0;34m(\u001b[0m\u001b[0mdata\u001b[0m\u001b[0;34m,\u001b[0m \u001b[0;34m**\u001b[0m\u001b[0mkwargs\u001b[0m\u001b[0;34m)\u001b[0m\u001b[0;34m\u001b[0m\u001b[0;34m\u001b[0m\u001b[0m\n\u001b[0;32m---> 61\u001b[0;31m     \u001b[0mplot_obj\u001b[0m\u001b[0;34m.\u001b[0m\u001b[0mgenerate\u001b[0m\u001b[0;34m(\u001b[0m\u001b[0;34m)\u001b[0m\u001b[0;34m\u001b[0m\u001b[0;34m\u001b[0m\u001b[0m\n\u001b[0m\u001b[1;32m     62\u001b[0m     \u001b[0mplot_obj\u001b[0m\u001b[0;34m.\u001b[0m\u001b[0mdraw\u001b[0m\u001b[0;34m(\u001b[0m\u001b[0;34m)\u001b[0m\u001b[0;34m\u001b[0m\u001b[0;34m\u001b[0m\u001b[0m\n\u001b[1;32m     63\u001b[0m     \u001b[0;32mreturn\u001b[0m \u001b[0mplot_obj\u001b[0m\u001b[0;34m.\u001b[0m\u001b[0mresult\u001b[0m\u001b[0;34m\u001b[0m\u001b[0;34m\u001b[0m\u001b[0m\n",
            "\u001b[0;32m/usr/local/lib/python3.7/dist-packages/pandas/plotting/_matplotlib/core.py\u001b[0m in \u001b[0;36mgenerate\u001b[0;34m(self)\u001b[0m\n\u001b[1;32m    268\u001b[0m         \u001b[0mself\u001b[0m\u001b[0;34m.\u001b[0m\u001b[0m_args_adjust\u001b[0m\u001b[0;34m(\u001b[0m\u001b[0;34m)\u001b[0m\u001b[0;34m\u001b[0m\u001b[0;34m\u001b[0m\u001b[0m\n\u001b[1;32m    269\u001b[0m         \u001b[0mself\u001b[0m\u001b[0;34m.\u001b[0m\u001b[0m_compute_plot_data\u001b[0m\u001b[0;34m(\u001b[0m\u001b[0;34m)\u001b[0m\u001b[0;34m\u001b[0m\u001b[0;34m\u001b[0m\u001b[0m\n\u001b[0;32m--> 270\u001b[0;31m         \u001b[0mself\u001b[0m\u001b[0;34m.\u001b[0m\u001b[0m_setup_subplots\u001b[0m\u001b[0;34m(\u001b[0m\u001b[0;34m)\u001b[0m\u001b[0;34m\u001b[0m\u001b[0;34m\u001b[0m\u001b[0m\n\u001b[0m\u001b[1;32m    271\u001b[0m         \u001b[0mself\u001b[0m\u001b[0;34m.\u001b[0m\u001b[0m_make_plot\u001b[0m\u001b[0;34m(\u001b[0m\u001b[0;34m)\u001b[0m\u001b[0;34m\u001b[0m\u001b[0;34m\u001b[0m\u001b[0m\n\u001b[1;32m    272\u001b[0m         \u001b[0mself\u001b[0m\u001b[0;34m.\u001b[0m\u001b[0m_add_table\u001b[0m\u001b[0;34m(\u001b[0m\u001b[0;34m)\u001b[0m\u001b[0;34m\u001b[0m\u001b[0;34m\u001b[0m\u001b[0m\n",
            "\u001b[0;32m/usr/local/lib/python3.7/dist-packages/pandas/plotting/_matplotlib/core.py\u001b[0m in \u001b[0;36m_setup_subplots\u001b[0;34m(self)\u001b[0m\n\u001b[1;32m    322\u001b[0m                 \u001b[0max\u001b[0m\u001b[0;34m=\u001b[0m\u001b[0mself\u001b[0m\u001b[0;34m.\u001b[0m\u001b[0max\u001b[0m\u001b[0;34m,\u001b[0m\u001b[0;34m\u001b[0m\u001b[0;34m\u001b[0m\u001b[0m\n\u001b[1;32m    323\u001b[0m                 \u001b[0mlayout\u001b[0m\u001b[0;34m=\u001b[0m\u001b[0mself\u001b[0m\u001b[0;34m.\u001b[0m\u001b[0mlayout\u001b[0m\u001b[0;34m,\u001b[0m\u001b[0;34m\u001b[0m\u001b[0;34m\u001b[0m\u001b[0m\n\u001b[0;32m--> 324\u001b[0;31m                 \u001b[0mlayout_type\u001b[0m\u001b[0;34m=\u001b[0m\u001b[0mself\u001b[0m\u001b[0;34m.\u001b[0m\u001b[0m_layout_type\u001b[0m\u001b[0;34m,\u001b[0m\u001b[0;34m\u001b[0m\u001b[0;34m\u001b[0m\u001b[0m\n\u001b[0m\u001b[1;32m    325\u001b[0m             )\n\u001b[1;32m    326\u001b[0m         \u001b[0;32melse\u001b[0m\u001b[0;34m:\u001b[0m\u001b[0;34m\u001b[0m\u001b[0;34m\u001b[0m\u001b[0m\n",
            "\u001b[0;32m/usr/local/lib/python3.7/dist-packages/pandas/plotting/_matplotlib/tools.py\u001b[0m in \u001b[0;36m_subplots\u001b[0;34m(naxes, sharex, sharey, squeeze, subplot_kw, ax, layout, layout_type, **fig_kw)\u001b[0m\n\u001b[1;32m    223\u001b[0m             \u001b[0mfig\u001b[0m\u001b[0;34m.\u001b[0m\u001b[0mclear\u001b[0m\u001b[0;34m(\u001b[0m\u001b[0;34m)\u001b[0m\u001b[0;34m\u001b[0m\u001b[0;34m\u001b[0m\u001b[0m\n\u001b[1;32m    224\u001b[0m \u001b[0;34m\u001b[0m\u001b[0m\n\u001b[0;32m--> 225\u001b[0;31m     \u001b[0mnrows\u001b[0m\u001b[0;34m,\u001b[0m \u001b[0mncols\u001b[0m \u001b[0;34m=\u001b[0m \u001b[0m_get_layout\u001b[0m\u001b[0;34m(\u001b[0m\u001b[0mnaxes\u001b[0m\u001b[0;34m,\u001b[0m \u001b[0mlayout\u001b[0m\u001b[0;34m=\u001b[0m\u001b[0mlayout\u001b[0m\u001b[0;34m,\u001b[0m \u001b[0mlayout_type\u001b[0m\u001b[0;34m=\u001b[0m\u001b[0mlayout_type\u001b[0m\u001b[0;34m)\u001b[0m\u001b[0;34m\u001b[0m\u001b[0;34m\u001b[0m\u001b[0m\n\u001b[0m\u001b[1;32m    226\u001b[0m     \u001b[0mnplots\u001b[0m \u001b[0;34m=\u001b[0m \u001b[0mnrows\u001b[0m \u001b[0;34m*\u001b[0m \u001b[0mncols\u001b[0m\u001b[0;34m\u001b[0m\u001b[0;34m\u001b[0m\u001b[0m\n\u001b[1;32m    227\u001b[0m \u001b[0;34m\u001b[0m\u001b[0m\n",
            "\u001b[0;32m/usr/local/lib/python3.7/dist-packages/pandas/plotting/_matplotlib/tools.py\u001b[0m in \u001b[0;36m_get_layout\u001b[0;34m(nplots, layout, layout_type)\u001b[0m\n\u001b[1;32m     63\u001b[0m         \u001b[0;32mif\u001b[0m \u001b[0mnrows\u001b[0m \u001b[0;34m*\u001b[0m \u001b[0mncols\u001b[0m \u001b[0;34m<\u001b[0m \u001b[0mnplots\u001b[0m\u001b[0;34m:\u001b[0m\u001b[0;34m\u001b[0m\u001b[0;34m\u001b[0m\u001b[0m\n\u001b[1;32m     64\u001b[0m             raise ValueError(\n\u001b[0;32m---> 65\u001b[0;31m                 \u001b[0;34mf\"Layout of {nrows}x{ncols} must be larger than required size {nplots}\"\u001b[0m\u001b[0;34m\u001b[0m\u001b[0;34m\u001b[0m\u001b[0m\n\u001b[0m\u001b[1;32m     66\u001b[0m             )\n\u001b[1;32m     67\u001b[0m \u001b[0;34m\u001b[0m\u001b[0m\n",
            "\u001b[0;31mValueError\u001b[0m: Layout of 2x2 must be larger than required size 10"
          ]
        },
        {
          "output_type": "display_data",
          "data": {
            "text/plain": [
              "<Figure size 1080x1080 with 0 Axes>"
            ]
          },
          "metadata": {
            "tags": []
          }
        }
      ]
    },
    {
      "cell_type": "code",
      "metadata": {
        "colab": {
          "base_uri": "https://localhost:8080/",
          "height": 1000
        },
        "id": "h1j5la5us4sq",
        "outputId": "15754446-fa51-4c75-e12d-b158fb5a734c"
      },
      "source": [
        "# Wordcloud of Top N words in each topic\n",
        "from wordcloud import WordCloud, STOPWORDS\n",
        "import matplotlib.colors as mcolors\n",
        "my_stopwords = nltk.corpus.stopwords.words('english')\n",
        "\n",
        "cols = [color for name, color in mcolors.TABLEAU_COLORS.items()]  # more colors: 'mcolors.XKCD_COLORS'\n",
        "\n",
        "cloud = WordCloud(stopwords=my_stopwords,\n",
        "                  background_color='white',\n",
        "                  width=2500,\n",
        "                  height=1800,\n",
        "                  max_words=10,\n",
        "                  colormap='tab10',\n",
        "                  color_func=lambda *args, **kwargs: cols[i],\n",
        "                  prefer_horizontal=1.0)\n",
        "\n",
        "columns_list = [\"Topic \"+str(i)+\" words\" for i in range(0,10)]\n",
        "topics = list()\n",
        "\n",
        "for i in columns_list:\n",
        "  topics.append(result[i].values)\n",
        "\n",
        "frequencies = list()\n",
        "columns_list = [\"Topic \"+str(i)+\" weights\" for i in range(0,10)]\n",
        "\n",
        "for i in columns_list:\n",
        "  frequencies.append(result[i].values)\n",
        "\n",
        "\n",
        "fig, axes = plt.subplots(5,2, figsize=(15,15), sharex=True, sharey=True)\n",
        "\n",
        "for i, ax in enumerate(axes.flatten()):\n",
        "    fig.add_subplot(ax)\n",
        "    size_of_array = len(topics[i])\n",
        "    topic_words = dict()\n",
        "    for j in range(size_of_array):\n",
        "      topic_words[topics[i][j]] = frequencies[i][j]\n",
        "    cloud.generate_from_frequencies(topic_words, max_font_size=300)\n",
        "    plt.gca().imshow(cloud)\n",
        "    plt.gca().set_title('Topic ' + str(i), fontdict=dict(size=16))\n",
        "    plt.gca().axis('off')\n",
        "\n",
        "\n",
        "plt.subplots_adjust(wspace=0, hspace=0)\n",
        "plt.axis('off')\n",
        "plt.margins(x=0, y=0)\n",
        "plt.tight_layout()\n",
        "plt.show()"
      ],
      "execution_count": 22,
      "outputs": [
        {
          "output_type": "display_data",
          "data": {
            "image/png": "[encoded data removed]",
            "text/plain": [
              "<Figure size 1080x1080 with 10 Axes>"
            ]
          },
          "metadata": {
            "tags": [],
            "needs_background": "light"
          }
        }
      ]
    },
    {
      "cell_type": "code",
      "metadata": {
        "colab": {
          "base_uri": "https://localhost:8080/",
          "height": 111
        },
        "id": "UeYiyvIrtj8n",
        "outputId": "aa20e26a-a323-4674-cd94-c51d6ef60821"
      },
      "source": [
        "\n",
        "#import AlgorithmLSA as lsa\n",
        "lsa_result=LSA_MODEL(tf,vectorizer)\n",
        "lsa_result"
      ],
      "execution_count": 30,
      "outputs": [
        {
          "output_type": "execute_result",
          "data": {
            "text/html": [
              "<div>\n",
              "<style scoped>\n",
              "    .dataframe tbody tr th:only-of-type {\n",
              "        vertical-align: middle;\n",
              "    }\n",
              "\n",
              "    .dataframe tbody tr th {\n",
              "        vertical-align: top;\n",
              "    }\n",
              "\n",
              "    .dataframe thead th {\n",
              "        text-align: right;\n",
              "    }\n",
              "</style>\n",
              "<table border=\"1\" class=\"dataframe\">\n",
              "  <thead>\n",
              "    <tr style=\"text-align: right;\">\n",
              "      <th></th>\n",
              "      <th>Topic 0</th>\n",
              "      <th>Topic 0 weights</th>\n",
              "    </tr>\n",
              "  </thead>\n",
              "  <tbody>\n",
              "    <tr>\n",
              "      <th>0</th>\n",
              "      <td>contract</td>\n",
              "      <td>0.714433</td>\n",
              "    </tr>\n",
              "    <tr>\n",
              "      <th>1</th>\n",
              "      <td>party</td>\n",
              "      <td>0.699704</td>\n",
              "    </tr>\n",
              "  </tbody>\n",
              "</table>\n",
              "</div>"
            ],
            "text/plain": [
              "    Topic 0  Topic 0 weights\n",
              "0  contract         0.714433\n",
              "1     party         0.699704"
            ]
          },
          "metadata": {
            "tags": []
          },
          "execution_count": 30
        }
      ]
    },
    {
      "cell_type": "code",
      "metadata": {
        "colab": {
          "base_uri": "https://localhost:8080/",
          "height": 879
        },
        "id": "yk1ZT4q1unZ_",
        "outputId": "9194bf74-58f2-48b6-d6d5-f66fd50a477d"
      },
      "source": [
        "\n",
        "columns_list = [\"Topic \"+str(i)+\" weights\" for i in range(0,1)]\n",
        "for i in columns_list:\n",
        "  lsa_result[i] = pd.to_numeric(lsa_result[i])\n",
        "lsa_result.hist(figsize=(15,15),color = 'purple')\n",
        "plt.show(block=False)"
      ],
      "execution_count": 34,
      "outputs": [
        {
          "output_type": "display_data",
          "data": {
            "image/png": "[encoded data removed]",
            "text/plain": [
              "<Figure size 1080x1080 with 1 Axes>"
            ]
          },
          "metadata": {
            "tags": [],
            "needs_background": "light"
          }
        }
      ]
    },
    {
      "cell_type": "code",
      "metadata": {
        "colab": {
          "base_uri": "https://localhost:8080/",
          "height": 854
        },
        "id": "cZj5tG8bvF5O",
        "outputId": "93bbe1b5-b436-4512-ac6d-958b601b2e7b"
      },
      "source": [
        "lsa_result.plot(kind='density', subplots=True,layout = (1,1),sharex=False, legend=True, fontsize=1,figsize=(15,15))\n",
        "plt.show(block=False)"
      ],
      "execution_count": 35,
      "outputs": [
        {
          "output_type": "display_data",
          "data": {
            "image/png": "[encoded data removed]",
            "text/plain": [
              "<Figure size 1080x1080 with 1 Axes>"
            ]
          },
          "metadata": {
            "tags": [],
            "needs_background": "light"
          }
        }
      ]
    },
    {
      "cell_type": "code",
      "metadata": {
        "colab": {
          "base_uri": "https://localhost:8080/",
          "height": 1000
        },
        "id": "tK30wnqEvZiY",
        "outputId": "c28139a8-50ad-4a5a-9113-6825943aa3d1"
      },
      "source": [
        "# 1. Wordcloud of Top N words in each topic\n",
        "from matplotlib import pyplot as plt\n",
        "from wordcloud import WordCloud, STOPWORDS\n",
        "import matplotlib.colors as mcolors\n",
        "\n",
        "cols = [color for name, color in mcolors.TABLEAU_COLORS.items()]  # more colors: 'mcolors.XKCD_COLORS'\n",
        "cols = cols*2\n",
        "cloud = WordCloud(stopwords=my_stopwords,\n",
        "                  background_color='white',\n",
        "                  width=2500,\n",
        "                  height=1800,\n",
        "                  max_words=10,\n",
        "                  colormap='tab10',\n",
        "                  color_func=lambda *args, **kwargs: cols[i],\n",
        "                  prefer_horizontal=1.0)\n",
        "\n",
        "columns_list = [\"Topic \"+str(i) for i in range(0,1)]\n",
        "topics = list()\n",
        "\n",
        "for i in columns_list:\n",
        "  topics.append(lsa_result[i].values)\n",
        "\n",
        "frequencies = list()\n",
        "columns_list = [\"Topic \"+str(i)+\" weights\" for i in range(0,1)]\n",
        "\n",
        "for i in columns_list:\n",
        "  frequencies.append(lsa_result[i].values)\n",
        "\n",
        "\n",
        "fig, axes = plt.subplots(5,4, figsize=(15,15), sharex=True, sharey=True)\n",
        "\n",
        "for i, ax in enumerate(axes.flatten()):\n",
        "    fig.add_subplot(ax)\n",
        "    size_of_array = len(topics[i])\n",
        "    topic_words = dict()\n",
        "    for j in range(size_of_array):\n",
        "      topic_words[topics[i][j]] = frequencies[i][j]\n",
        "    cloud.generate_from_frequencies(topic_words, max_font_size=300)\n",
        "    plt.gca().imshow(cloud)\n",
        "    plt.gca().set_title('Topic ' + str(i), fontdict=dict(size=16))\n",
        "    plt.gca().axis('off')\n",
        "\n",
        "\n",
        "plt.subplots_adjust(wspace=0, hspace=0)\n",
        "plt.axis('off')\n",
        "plt.margins(x=0, y=0)\n",
        "plt.tight_layout()\n",
        "plt.show()"
      ],
      "execution_count": 45,
      "outputs": [
        {
          "output_type": "error",
          "ename": "IndexError",
          "evalue": "ignored",
          "traceback": [
            "\u001b[0;31m---------------------------------------------------------------------------\u001b[0m",
            "\u001b[0;31mIndexError\u001b[0m                                Traceback (most recent call last)",
            "\u001b[0;32m<ipython-input-45-275e0ce03964>\u001b[0m in \u001b[0;36m<module>\u001b[0;34m()\u001b[0m\n\u001b[1;32m     32\u001b[0m \u001b[0;32mfor\u001b[0m \u001b[0mi\u001b[0m\u001b[0;34m,\u001b[0m \u001b[0max\u001b[0m \u001b[0;32min\u001b[0m \u001b[0menumerate\u001b[0m\u001b[0;34m(\u001b[0m\u001b[0maxes\u001b[0m\u001b[0;34m.\u001b[0m\u001b[0mflatten\u001b[0m\u001b[0;34m(\u001b[0m\u001b[0;34m)\u001b[0m\u001b[0;34m)\u001b[0m\u001b[0;34m:\u001b[0m\u001b[0;34m\u001b[0m\u001b[0;34m\u001b[0m\u001b[0m\n\u001b[1;32m     33\u001b[0m     \u001b[0mfig\u001b[0m\u001b[0;34m.\u001b[0m\u001b[0madd_subplot\u001b[0m\u001b[0;34m(\u001b[0m\u001b[0max\u001b[0m\u001b[0;34m)\u001b[0m\u001b[0;34m\u001b[0m\u001b[0;34m\u001b[0m\u001b[0m\n\u001b[0;32m---> 34\u001b[0;31m     \u001b[0msize_of_array\u001b[0m \u001b[0;34m=\u001b[0m \u001b[0mlen\u001b[0m\u001b[0;34m(\u001b[0m\u001b[0mtopics\u001b[0m\u001b[0;34m[\u001b[0m\u001b[0mi\u001b[0m\u001b[0;34m]\u001b[0m\u001b[0;34m)\u001b[0m\u001b[0;34m\u001b[0m\u001b[0;34m\u001b[0m\u001b[0m\n\u001b[0m\u001b[1;32m     35\u001b[0m     \u001b[0mtopic_words\u001b[0m \u001b[0;34m=\u001b[0m \u001b[0mdict\u001b[0m\u001b[0;34m(\u001b[0m\u001b[0;34m)\u001b[0m\u001b[0;34m\u001b[0m\u001b[0;34m\u001b[0m\u001b[0m\n\u001b[1;32m     36\u001b[0m     \u001b[0;32mfor\u001b[0m \u001b[0mj\u001b[0m \u001b[0;32min\u001b[0m \u001b[0mrange\u001b[0m\u001b[0;34m(\u001b[0m\u001b[0msize_of_array\u001b[0m\u001b[0;34m)\u001b[0m\u001b[0;34m:\u001b[0m\u001b[0;34m\u001b[0m\u001b[0;34m\u001b[0m\u001b[0m\n",
            "\u001b[0;31mIndexError\u001b[0m: list index out of range"
          ]
        },
        {
          "output_type": "display_data",
          "data": {
            "image/png": "[encoded data removed]",
            "text/plain": [
              "<Figure size 1080x1080 with 20 Axes>"
            ]
          },
          "metadata": {
            "tags": [],
            "needs_background": "light"
          }
        }
      ]
    },
    {
      "cell_type": "code",
      "metadata": {
        "colab": {
          "base_uri": "https://localhost:8080/"
        },
        "id": "FhTvxoYrtsIO",
        "outputId": "0b1167dc-3847-4ced-9fe3-421d29dae36e"
      },
      "source": [
        "\n",
        "#import AlgorithmHMMLDA as HMMLDA\n",
        "import nltk\n",
        "nltk.download('words')"
      ],
      "execution_count": 2,
      "outputs": [
        {
          "output_type": "stream",
          "text": [
            "[nltk_data] Downloading package words to /root/nltk_data...\n",
            "[nltk_data]   Unzipping corpora/words.zip.\n"
          ],
          "name": "stdout"
        },
        {
          "output_type": "execute_result",
          "data": {
            "text/plain": [
              "True"
            ]
          },
          "metadata": {
            "tags": []
          },
          "execution_count": 2
        }
      ]
    },
    {
      "cell_type": "code",
      "metadata": {
        "id": "hxWZIGDZuRkG"
      },
      "source": [
        "def get_reuters_token_list_by_sentence(num_doc,ip):\n",
        "    corpus = [[i.split() for i in ip ]]\n",
        "    print(corpus)\n",
        "    valid_voca = set(w.lower() for w in nltk.corpus.words.words())\n",
        "    stop = stopwords.words('english')\n",
        "    valid_voca = valid_voca.union(stop)\n",
        "\n",
        "    tmp_corpus = list()\n",
        "    voca_dic = dict()\n",
        "    voca = list()\n",
        "    for doc in corpus:\n",
        "        tmp_doc = list()\n",
        "        for sent in doc:\n",
        "            tmp_sent = list()\n",
        "            for word in sent:\n",
        "                if word in valid_voca:\n",
        "                    tmp_sent.append(word)\n",
        "                    if word not in voca_dic:\n",
        "                        voca_dic[word] = len(voca_dic)\n",
        "                        voca.append(word)\n",
        "            if len(tmp_sent) > 0:\n",
        "                tmp_doc.append(tmp_sent)\n",
        "        if len(tmp_doc) > 0:\n",
        "            tmp_corpus.append(tmp_doc)\n",
        "\n",
        "    # convert token list to word index list\n",
        "    corpus = list()\n",
        "    for doc in tmp_corpus:\n",
        "        new_doc = list()\n",
        "        for sent in doc:\n",
        "            new_sent = list()\n",
        "            for word in sent:\n",
        "                new_sent.append(voca_dic[word])\n",
        "            new_doc.append(new_sent)\n",
        "        corpus.append(new_doc)\n",
        "\n",
        "    return np.array(voca), corpus"
      ],
      "execution_count": 3,
      "outputs": []
    },
    {
      "cell_type": "code",
      "metadata": {
        "colab": {
          "base_uri": "https://localhost:8080/"
        },
        "id": "GAwdHIBgulO1",
        "outputId": "b9112ca5-9843-4136-dd46-57c2d1894182"
      },
      "source": [
        "\n",
        "n_docs = 1000\n",
        "voca, corpus = get_reuters_token_list_by_sentence(n_docs,input_df[\"cleaned_data\"].values)"
      ],
      "execution_count": 10,
      "outputs": [
        {
          "output_type": "stream",
          "text": [
            "[[['name', 'contract'], ['two', 'parties', 'signed', 'contract'], ['date', 'contract'], ['date', 'contract', 'effective'], ['date', 'contract', 'initial', 'term', 'expire'], ['renewal', 'term', 'initial', 'term', 'expires', 'includes', 'automatic', 'extensions', 'unilateral', 'extensions', 'prior', 'notice'], ['notice', 'period', 'required', 'terminate', 'renewal'], ['state', 'country', 'law', 'governs', 'interpretation', 'contract'], ['clause', 'third', 'party', 'gets', 'better', 'terms', 'licensing', 'sale', 'technology', 'goods', 'services', 'described', 'contract', 'buyer', 'technology', 'goods', 'services', 'contract', 'shall', 'entitled', 'better', 'terms'], ['restriction', 'ability', 'party', 'compete', 'counterparty', 'operate', 'certain', 'geography', 'business', 'technology', 'sector'], ['exclusive', 'dealing', 'commitment', 'counterparty', 'includes', 'commitment', 'procure', 'requirements', 'one', 'party', 'certain', 'technology', 'goods', 'services', 'prohibition', 'licensing', 'selling', 'technology', 'goods', 'services', 'third', 'parties', 'prohibition', 'collaborating', 'working', 'parties', 'whether', 'contract', 'contract', 'ends'], ['party', 'restricted', 'contracting', 'soliciting', 'customers', 'partners', 'counterparty', 'whether', 'contract', 'contract', 'ends'], ['category', 'includes', 'exceptions', 'carveouts', 'non', 'compete', 'exclusivity', 'solicit', 'customers'], ['restriction', 'party', 'soliciting', 'hiring', 'employees', 'contractors', 'counterparty', 'whether', 'contract', 'contract', 'ends'], ['requirement', 'party', 'disparage', 'counterparty'], ['party', 'terminate', 'contract', 'without', 'cause', 'solely', 'giving', 'notice', 'allowing', 'waiting', 'period', 'expire'], ['clause', 'granting', 'one', 'party', 'right', 'first', 'refusal', 'right', 'first', 'offer', 'right', 'first', 'negotiation', 'purchase', 'license', 'market', 'distribute', 'equity', 'interest', 'technology', 'assets', 'products', 'services'], ['one', 'party', 'right', 'terminate', 'consent', 'notice', 'required', 'counterparty', 'party', 'undergoes', 'change', 'control', 'merger', 'stock', 'sale', 'transfer', 'substantially', 'assets', 'business', 'assignment', 'operation', 'law'], ['consent', 'notice', 'required', 'party', 'contract', 'assigned', 'third', 'party'], ['one', 'party', 'required', 'share', 'revenue', 'profit', 'counterparty', 'technology', 'goods', 'services'], ['restriction', 'ability', 'party', 'raise', 'reduce', 'prices', 'technology', 'goods', 'services', 'provided'], ['fee', 'increase', 'consent', 'requirement', 'etc', 'one', 'party', 'use', 'product', 'services', 'exceeds', 'certain', 'threshold'], ['intellectual', 'property', 'created', 'one', 'party', 'become', 'property', 'counterparty', 'either', 'per', 'terms', 'contract', 'upon', 'occurrence', 'certain', 'events'], ['clause', 'providing', 'joint', 'shared', 'ownership', 'intellectual', 'property', 'parties', 'contract'], ['contract', 'contain', 'license', 'granted', 'one', 'party', 'counterparty'], ['contract', 'limit', 'ability', 'party', 'transfer', 'license', 'granted', 'third', 'party'], ['contract', 'contain', 'license', 'grant', 'affiliates', 'licensor', 'includes', 'intellectual', 'property', 'affiliates', 'licensor'], ['contract', 'contain', 'license', 'grant', 'licensee', 'incl', 'sublicensor', 'affiliates', 'licensee', 'sublicensor'], ['clause', 'granting', 'one', 'party', 'enterprise', 'eat', 'unlimited', 'usage', 'license'], ['contract', 'contain', 'license', 'grant', 'irrevocable', 'perpetual'], ['one', 'party', 'required', 'deposit', 'source', 'code', 'escrow', 'third', 'party', 'released', 'counterparty', 'upon', 'occurrence', 'certain', 'events', 'bankruptcy', 'insolvency', 'etc'], ['party', 'subject', 'obligations', 'termination', 'expiration', 'contract', 'including', 'post', 'termination', 'transition', 'payment', 'transfer', 'ip', 'wind', 'last', 'buy', 'similar', 'commitments'], ['party', 'right', 'audit', 'books', 'records', 'physical', 'locations', 'counterparty', 'ensure', 'compliance', 'contract'], ['party', 'liability', 'uncapped', 'upon', 'breach', 'obligation', 'contract', 'also', 'includes', 'uncap', 'liability', 'particular', 'type', 'breach', 'ip', 'infringement', 'breach', 'confidentiality', 'obligation'], ['contract', 'include', 'cap', 'liability', 'upon', 'breach', 'party', 'obligation', 'includes', 'time', 'limitation', 'counterparty', 'bring', 'claims', 'maximum', 'amount', 'recovery'], ['contract', 'contain', 'clause', 'would', 'award', 'either', 'party', 'liquidated', 'damages', 'breach', 'fee', 'upon', 'termination', 'contract', 'termination', 'fee'], ['duration', 'warranty', 'defects', 'errors', 'technology', 'products', 'services', 'provided', 'contract'], ['requirement', 'insurance', 'must', 'maintained', 'one', 'party', 'benefit', 'counterparty'], ['party', 'restricted', 'contesting', 'validity', 'counterparty', 'ownership', 'intellectual', 'property', 'otherwise', 'bringing', 'claim', 'counterparty', 'matters', 'unrelated', 'contract'], ['non', 'contracting', 'party', 'beneficiary', 'clauses', 'contract', 'therefore', 'enforce', 'rights', 'contracting', 'party']]]\n"
          ],
          "name": "stdout"
        }
      ]
    },
    {
      "cell_type": "markdown",
      "metadata": {
        "id": "065PuswNvR2-"
      },
      "source": [
        "Supervised LDA TOPIC MODELLING"
      ]
    },
    {
      "cell_type": "code",
      "metadata": {
        "colab": {
          "base_uri": "https://localhost:8080/"
        },
        "id": "k8OphhXmuzel",
        "outputId": "325f6f58-17f5-41cf-b125-5d404660fdca"
      },
      "source": [
        "\n",
        "!pip install pymc"
      ],
      "execution_count": 11,
      "outputs": [
        {
          "output_type": "stream",
          "text": [
            "Collecting pymc\n",
            "\u001b[?25l  Downloading https://files.pythonhosted.org/packages/37/81/9a222c38c65019de9ad5a1ee2448cc4a9b5f7a64eeaf246c77f81c0e6f94/pymc-2.3.8.tar.gz (385kB)\n",
            "\r\u001b[K     |▉                               | 10kB 15.8MB/s eta 0:00:01\r\u001b[K     |█▊                              | 20kB 22.6MB/s eta 0:00:01\r\u001b[K     |██▌                             | 30kB 16.6MB/s eta 0:00:01\r\u001b[K     |███▍                            | 40kB 17.9MB/s eta 0:00:01\r\u001b[K     |████▎                           | 51kB 13.9MB/s eta 0:00:01\r\u001b[K     |█████                           | 61kB 12.4MB/s eta 0:00:01\r\u001b[K     |██████                          | 71kB 13.1MB/s eta 0:00:01\r\u001b[K     |██████▉                         | 81kB 13.8MB/s eta 0:00:01\r\u001b[K     |███████▋                        | 92kB 12.0MB/s eta 0:00:01\r\u001b[K     |████████▌                       | 102kB 11.9MB/s eta 0:00:01\r\u001b[K     |█████████▍                      | 112kB 11.9MB/s eta 0:00:01\r\u001b[K     |██████████▏                     | 122kB 11.9MB/s eta 0:00:01\r\u001b[K     |███████████                     | 133kB 11.9MB/s eta 0:00:01\r\u001b[K     |████████████                    | 143kB 11.9MB/s eta 0:00:01\r\u001b[K     |████████████▊                   | 153kB 11.9MB/s eta 0:00:01\r\u001b[K     |█████████████▋                  | 163kB 11.9MB/s eta 0:00:01\r\u001b[K     |██████████████▌                 | 174kB 11.9MB/s eta 0:00:01\r\u001b[K     |███████████████▎                | 184kB 11.9MB/s eta 0:00:01\r\u001b[K     |████████████████▏               | 194kB 11.9MB/s eta 0:00:01\r\u001b[K     |█████████████████               | 204kB 11.9MB/s eta 0:00:01\r\u001b[K     |█████████████████▉              | 215kB 11.9MB/s eta 0:00:01\r\u001b[K     |██████████████████▊             | 225kB 11.9MB/s eta 0:00:01\r\u001b[K     |███████████████████▋            | 235kB 11.9MB/s eta 0:00:01\r\u001b[K     |████████████████████▍           | 245kB 11.9MB/s eta 0:00:01\r\u001b[K     |█████████████████████▎          | 256kB 11.9MB/s eta 0:00:01\r\u001b[K     |██████████████████████          | 266kB 11.9MB/s eta 0:00:01\r\u001b[K     |███████████████████████         | 276kB 11.9MB/s eta 0:00:01\r\u001b[K     |███████████████████████▉        | 286kB 11.9MB/s eta 0:00:01\r\u001b[K     |████████████████████████▋       | 296kB 11.9MB/s eta 0:00:01\r\u001b[K     |█████████████████████████▌      | 307kB 11.9MB/s eta 0:00:01\r\u001b[K     |██████████████████████████▍     | 317kB 11.9MB/s eta 0:00:01\r\u001b[K     |███████████████████████████▏    | 327kB 11.9MB/s eta 0:00:01\r\u001b[K     |████████████████████████████    | 337kB 11.9MB/s eta 0:00:01\r\u001b[K     |█████████████████████████████   | 348kB 11.9MB/s eta 0:00:01\r\u001b[K     |█████████████████████████████▊  | 358kB 11.9MB/s eta 0:00:01\r\u001b[K     |██████████████████████████████▋ | 368kB 11.9MB/s eta 0:00:01\r\u001b[K     |███████████████████████████████▌| 378kB 11.9MB/s eta 0:00:01\r\u001b[K     |████████████████████████████████| 389kB 11.9MB/s \n",
            "\u001b[?25hBuilding wheels for collected packages: pymc\n",
            "  Building wheel for pymc (setup.py) ... \u001b[?25l\u001b[?25hdone\n",
            "  Created wheel for pymc: filename=pymc-2.3.8-cp37-cp37m-linux_x86_64.whl size=1352844 sha256=7a34a188ff5473bab0c19110dc7811b62bb06c7e2cb3e2f4322f761177f55975\n",
            "  Stored in directory: /root/.cache/pip/wheels/0b/a8/e7/8f3ba91a39294d538a92db052fd1fcba1fca74a58c8b022026\n",
            "Successfully built pymc\n",
            "Installing collected packages: pymc\n",
            "Successfully installed pymc-2.3.8\n"
          ],
          "name": "stdout"
        }
      ]
    },
    {
      "cell_type": "code",
      "metadata": {
        "id": "4n946MA-vgUW"
      },
      "source": [
        "training_data = input_df['cleaned_data'].values"
      ],
      "execution_count": 12,
      "outputs": []
    },
    {
      "cell_type": "code",
      "metadata": {
        "colab": {
          "base_uri": "https://localhost:8080/"
        },
        "id": "mg33ePaVv1I1",
        "outputId": "9e05e677-24d1-41d3-f432-97d076ae7fec"
      },
      "source": [
        "import nltk\n",
        "from nltk import word_tokenize\n",
        "from nltk.corpus import reuters, stopwords\n",
        "from six.moves import xrange\n",
        "from collections import Counter\n",
        "nltk.download('words')\n",
        "\n",
        "def get_ids_cnt(corpus, max_voca=9999999, remove_top_n=5):\n",
        "    voca = set(w.lower() for w in nltk.corpus.words.words())\n",
        "    stop = stopwords.words('english')\n",
        "\n",
        "    docs = list()\n",
        "    freq = Counter()\n",
        "\n",
        "    for doc in corpus:\n",
        "        if isinstance(doc, str):\n",
        "            doc = word_tokenize(doc)\n",
        "        elif not hasattr(doc, '__iter__'):\n",
        "            raise Exception('Corpus is not a list of string or token list')\n",
        "\n",
        "        # remove word using stopword list or single character word\n",
        "        doc = [word.lower() for word in doc if word.lower() in voca and word.lower() not in stop and len(word) != 1]\n",
        "        freq.update(doc)\n",
        "        docs.append(doc)\n",
        "\n",
        "    voca = [key for iter, (key, val) in enumerate(freq.most_common(max_voca)) if iter >= remove_top_n]\n",
        "\n",
        "    voca_dic = dict()\n",
        "    voca_list = list()\n",
        "    for word in voca:\n",
        "        voca_dic[word] = len(voca_dic)\n",
        "        voca_list.append(word)\n",
        "\n",
        "    doc_ids = list()\n",
        "    doc_cnt = list()\n",
        "\n",
        "    for doc in docs:\n",
        "        words = set(doc)\n",
        "        ids = np.array([int(voca_dic[word]) for word in words if word in voca_dic])\n",
        "        cnt = np.array([int(doc.count(word)) for word in words if word in voca_dic])\n",
        "\n",
        "        doc_ids.append(ids)\n",
        "        doc_cnt.append(cnt)\n",
        "\n",
        "    return np.array(voca_list), doc_ids, doc_cnt\n"
      ],
      "execution_count": 13,
      "outputs": [
        {
          "output_type": "stream",
          "text": [
            "[nltk_data] Downloading package words to /root/nltk_data...\n",
            "[nltk_data]   Package words is already up-to-date!\n"
          ],
          "name": "stdout"
        }
      ]
    },
    {
      "cell_type": "code",
      "metadata": {
        "id": "Hpe9tTGBv7jO"
      },
      "source": [
        "\n",
        "voca, word_ids, word_cnt = get_ids_cnt(training_data)"
      ],
      "execution_count": 14,
      "outputs": []
    },
    {
      "cell_type": "code",
      "metadata": {
        "id": "qS-9pS3DwC4k"
      },
      "source": [
        "def convert_cnt_to_list(word_ids, word_cnt):\n",
        "    corpus = list()\n",
        "\n",
        "    for di in xrange(len(word_ids)):\n",
        "        doc = list()\n",
        "        doc_ids = word_ids[di]\n",
        "        doc_cnt = word_cnt[di]\n",
        "        for wi in xrange(len(doc_ids)):\n",
        "            word_id = doc_ids[wi]\n",
        "            for si in xrange(doc_cnt[wi]):\n",
        "                doc.append(word_id)\n",
        "        corpus.append(doc)\n",
        "    return corpus"
      ],
      "execution_count": 15,
      "outputs": []
    },
    {
      "cell_type": "code",
      "metadata": {
        "id": "XSMD0wmVwDX2"
      },
      "source": [
        "corpus = convert_cnt_to_list(word_ids, word_cnt)"
      ],
      "execution_count": 16,
      "outputs": []
    },
    {
      "cell_type": "code",
      "metadata": {
        "id": "C4_AMwk-wFzo"
      },
      "source": [
        "n_doc = len(corpus)\n",
        "n_voca = voca.size"
      ],
      "execution_count": 18,
      "outputs": []
    },
    {
      "cell_type": "code",
      "metadata": {
        "colab": {
          "base_uri": "https://localhost:8080/"
        },
        "id": "Fupj_IdZwgXH",
        "outputId": "79db1687-f1dc-4019-b66d-c3ab9b16f814"
      },
      "source": [
        "\n",
        "n_doc"
      ],
      "execution_count": 19,
      "outputs": [
        {
          "output_type": "execute_result",
          "data": {
            "text/plain": [
              "40"
            ]
          },
          "metadata": {
            "tags": []
          },
          "execution_count": 19
        }
      ]
    },
    {
      "cell_type": "code",
      "metadata": {
        "id": "0QAPB9ECwinU"
      },
      "source": [
        "import random\n",
        "#fit artificial sevearity\n",
        "sevearity = [random.randint(0,1) for i in range(0,40)]"
      ],
      "execution_count": 23,
      "outputs": []
    },
    {
      "cell_type": "code",
      "metadata": {
        "id": "eWVKIogIwl0S"
      },
      "source": [
        "model = SupervisedLDA(n_doc, n_voca, 10, sigma=0.01)\n",
        "model.fit(corpus, sevearity)"
      ],
      "execution_count": 24,
      "outputs": []
    },
    {
      "cell_type": "code",
      "metadata": {
        "colab": {
          "base_uri": "https://localhost:8080/"
        },
        "id": "5rA3rqYNwpR-",
        "outputId": "d6a1829e-5d21-4733-9170-f3d2bbd01014"
      },
      "source": [
        "for ti in model.eta.argsort():\n",
        "    top_words = get_top_words(model.TW, voca, ti, n_words=10)\n",
        "    print('Eta', model.eta[ti] ,'\\nTopic', ti ,':\\t', ','.join(top_words))"
      ],
      "execution_count": 25,
      "outputs": [
        {
          "output_type": "stream",
          "text": [
            "Eta -3.761053857121863 \n",
            "Topic 5 :\t enforce,giving,operate,type,maximum,amount,uncapped,compliance,cause,infringement\n",
            "Eta -1.239549013227431 \n",
            "Topic 2 :\t commitment,whether,working,include,selling,disparage,category,state,consent,refusal\n",
            "Eta -0.4588626716463295 \n",
            "Topic 6 :\t right,notice,first,renewal,assets,initial,market,refusal,unilateral,automatic\n",
            "Eta -0.17958214734379077 \n",
            "Topic 7 :\t property,intellectual,upon,ownership,shall,joint,prior,unrelated,become,per\n",
            "Eta -0.04443173614960434 \n",
            "Topic 3 :\t termination,fee,contain,prohibition,upon,licensor,wind,name,bankruptcy,subject\n",
            "Eta -0.006129643879862398 \n",
            "Topic 9 :\t clause,ability,date,enterprise,would,interpretation,country,exclusive,usage,unlimited\n",
            "Eta 1.2272629073045058 \n",
            "Topic 0 :\t grant,requirement,licensee,soliciting,must,therefore,perpetual,insurance,increase,benefit\n",
            "Eta 1.3896274237340467 \n",
            "Topic 8 :\t goods,law,restriction,provided,sale,revenue,share,operation,substantially,control\n",
            "Eta 1.3905837904571139 \n",
            "Topic 1 :\t breach,obligation,liability,contain,irrevocable,physical,recovery,interest,particular,cap\n",
            "Eta 1.8591196759974875 \n",
            "Topic 4 :\t third,certain,terminate,term,compete,period,expire,occurrence,transfer,consent\n"
          ],
          "name": "stdout"
        }
      ]
    },
    {
      "cell_type": "code",
      "metadata": {
        "colab": {
          "base_uri": "https://localhost:8080/"
        },
        "id": "Ok-BPr2oxtmz",
        "outputId": "81484569-b67b-407b-ade2-22580c1a5ba8"
      },
      "source": [
        "\n",
        "!pip install biterm"
      ],
      "execution_count": 26,
      "outputs": [
        {
          "output_type": "stream",
          "text": [
            "Collecting biterm\n",
            "\u001b[?25l  Downloading https://files.pythonhosted.org/packages/36/ca/5a43511e6ea8ca02cc9e8be1b8898ad79b140c055d4400342dc210ba23bb/biterm-0.1.5.tar.gz (79kB)\n",
            "\r\u001b[K     |████▏                           | 10kB 11.8MB/s eta 0:00:01\r\u001b[K     |████████▎                       | 20kB 17.8MB/s eta 0:00:01\r\u001b[K     |████████████▍                   | 30kB 14.9MB/s eta 0:00:01\r\u001b[K     |████████████████▌               | 40kB 9.7MB/s eta 0:00:01\r\u001b[K     |████████████████████▋           | 51kB 11.0MB/s eta 0:00:01\r\u001b[K     |████████████████████████▊       | 61kB 12.5MB/s eta 0:00:01\r\u001b[K     |████████████████████████████▉   | 71kB 10.1MB/s eta 0:00:01\r\u001b[K     |████████████████████████████████| 81kB 3.7MB/s \n",
            "\u001b[?25hRequirement already satisfied: numpy in /usr/local/lib/python3.7/dist-packages (from biterm) (1.19.5)\n",
            "Requirement already satisfied: tqdm in /usr/local/lib/python3.7/dist-packages (from biterm) (4.41.1)\n",
            "Requirement already satisfied: cython in /usr/local/lib/python3.7/dist-packages (from biterm) (0.29.22)\n",
            "Requirement already satisfied: nltk in /usr/local/lib/python3.7/dist-packages (from biterm) (3.2.5)\n",
            "Requirement already satisfied: six in /usr/local/lib/python3.7/dist-packages (from nltk->biterm) (1.15.0)\n",
            "Building wheels for collected packages: biterm\n",
            "  Building wheel for biterm (setup.py) ... \u001b[?25l\u001b[?25hdone\n",
            "  Created wheel for biterm: filename=biterm-0.1.5-cp37-cp37m-linux_x86_64.whl size=195799 sha256=cfdcf34a096c530679de024a65c339674ec7c8cc618883a80fff6b3b5eee2026\n",
            "  Stored in directory: /root/.cache/pip/wheels/86/04/10/231fb1d39d86ab58c2683fd3d4fe8415a5bc284ba8a20fd638\n",
            "Successfully built biterm\n",
            "Installing collected packages: biterm\n",
            "Successfully installed biterm-0.1.5\n"
          ],
          "name": "stdout"
        }
      ]
    },
    {
      "cell_type": "code",
      "metadata": {
        "colab": {
          "base_uri": "https://localhost:8080/",
          "height": 197
        },
        "id": "rRgxEUyY71G4",
        "outputId": "6498e9b6-a469-49db-c4a7-1e1a9cd34366"
      },
      "source": [
        "import sys\n",
        "sys.path.insert(1,'/content/')\n",
        "#import AlgorithmBITERM as btm_model\n",
        "topics = BITERM_MODEL(tf,vectorizer)"
      ],
      "execution_count": 38,
      "outputs": [
        {
          "output_type": "error",
          "ename": "NameError",
          "evalue": "ignored",
          "traceback": [
            "\u001b[0;31m---------------------------------------------------------------------------\u001b[0m",
            "\u001b[0;31mNameError\u001b[0m                                 Traceback (most recent call last)",
            "\u001b[0;32m<ipython-input-38-59b043e101e1>\u001b[0m in \u001b[0;36m<module>\u001b[0;34m()\u001b[0m\n\u001b[1;32m      2\u001b[0m \u001b[0msys\u001b[0m\u001b[0;34m.\u001b[0m\u001b[0mpath\u001b[0m\u001b[0;34m.\u001b[0m\u001b[0minsert\u001b[0m\u001b[0;34m(\u001b[0m\u001b[0;36m1\u001b[0m\u001b[0;34m,\u001b[0m\u001b[0;34m'/content/'\u001b[0m\u001b[0;34m)\u001b[0m\u001b[0;34m\u001b[0m\u001b[0;34m\u001b[0m\u001b[0m\n\u001b[1;32m      3\u001b[0m \u001b[0;31m#import AlgorithmBITERM as btm_model\u001b[0m\u001b[0;34m\u001b[0m\u001b[0;34m\u001b[0m\u001b[0;34m\u001b[0m\u001b[0m\n\u001b[0;32m----> 4\u001b[0;31m \u001b[0mtopics\u001b[0m \u001b[0;34m=\u001b[0m \u001b[0mBITERM_MODEL\u001b[0m\u001b[0;34m(\u001b[0m\u001b[0mtf\u001b[0m\u001b[0;34m,\u001b[0m\u001b[0mvectorizer\u001b[0m\u001b[0;34m)\u001b[0m\u001b[0;34m\u001b[0m\u001b[0;34m\u001b[0m\u001b[0m\n\u001b[0m",
            "\u001b[0;31mNameError\u001b[0m: name 'tf' is not defined"
          ]
        }
      ]
    },
    {
      "cell_type": "code",
      "metadata": {
        "colab": {
          "base_uri": "https://localhost:8080/",
          "height": 197
        },
        "id": "pZQ8-He4x3MX",
        "outputId": "6a47ddb5-3579-4ee0-8bcb-d337998cceaa"
      },
      "source": [
        "texts= input_df['cleaned_data'].values\n",
        "for i in range(len(texts)):\n",
        "        print(\"{} (topic: {})\".format(texts[i], topics[i].argmax()))\n"
      ],
      "execution_count": 34,
      "outputs": [
        {
          "output_type": "error",
          "ename": "NameError",
          "evalue": "ignored",
          "traceback": [
            "\u001b[0;31m---------------------------------------------------------------------------\u001b[0m",
            "\u001b[0;31mNameError\u001b[0m                                 Traceback (most recent call last)",
            "\u001b[0;32m<ipython-input-34-51b0756338e8>\u001b[0m in \u001b[0;36m<module>\u001b[0;34m()\u001b[0m\n\u001b[1;32m      1\u001b[0m \u001b[0mtexts\u001b[0m\u001b[0;34m=\u001b[0m \u001b[0minput_df\u001b[0m\u001b[0;34m[\u001b[0m\u001b[0;34m'cleaned_data'\u001b[0m\u001b[0;34m]\u001b[0m\u001b[0;34m.\u001b[0m\u001b[0mvalues\u001b[0m\u001b[0;34m\u001b[0m\u001b[0;34m\u001b[0m\u001b[0m\n\u001b[1;32m      2\u001b[0m \u001b[0;32mfor\u001b[0m \u001b[0mi\u001b[0m \u001b[0;32min\u001b[0m \u001b[0mrange\u001b[0m\u001b[0;34m(\u001b[0m\u001b[0mlen\u001b[0m\u001b[0;34m(\u001b[0m\u001b[0mtexts\u001b[0m\u001b[0;34m)\u001b[0m\u001b[0;34m)\u001b[0m\u001b[0;34m:\u001b[0m\u001b[0;34m\u001b[0m\u001b[0;34m\u001b[0m\u001b[0m\n\u001b[0;32m----> 3\u001b[0;31m         \u001b[0mprint\u001b[0m\u001b[0;34m(\u001b[0m\u001b[0;34m\"{} (topic: {})\"\u001b[0m\u001b[0;34m.\u001b[0m\u001b[0mformat\u001b[0m\u001b[0;34m(\u001b[0m\u001b[0mtexts\u001b[0m\u001b[0;34m[\u001b[0m\u001b[0mi\u001b[0m\u001b[0;34m]\u001b[0m\u001b[0;34m,\u001b[0m \u001b[0mtopics\u001b[0m\u001b[0;34m[\u001b[0m\u001b[0mi\u001b[0m\u001b[0;34m]\u001b[0m\u001b[0;34m.\u001b[0m\u001b[0margmax\u001b[0m\u001b[0;34m(\u001b[0m\u001b[0;34m)\u001b[0m\u001b[0;34m)\u001b[0m\u001b[0;34m)\u001b[0m\u001b[0;34m\u001b[0m\u001b[0;34m\u001b[0m\u001b[0m\n\u001b[0m",
            "\u001b[0;31mNameError\u001b[0m: name 'topics' is not defined"
          ]
        }
      ]
    },
    {
      "cell_type": "code",
      "metadata": {
        "id": "2FFcXCrazUY5"
      },
      "source": [
        ""
      ],
      "execution_count": null,
      "outputs": []
    }
  ]
}