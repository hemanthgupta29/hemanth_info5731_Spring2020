{
  "nbformat": 4,
  "nbformat_minor": 0,
  "metadata": {
    "colab": {
      "name": "In_class_exercise_02..ipynb",
      "provenance": [],
      "authorship_tag": "ABX9TyPpP332ps3RdBljnTcHf1yx",
      "include_colab_link": true
    },
    "kernelspec": {
      "name": "python3",
      "display_name": "Python 3"
    }
  },
  "cells": [
    {
      "cell_type": "markdown",
      "metadata": {
        "id": "view-in-github",
        "colab_type": "text"
      },
      "source": [
        "<a href=\"https://colab.research.google.com/github/hemanthgupta29/hemanth_info5731_Spring2020/blob/main/In_class_exercise_02_.ipynb\" target=\"_parent\"><img src=\"https://colab.research.google.com/assets/colab-badge.svg\" alt=\"Open In Colab\"/></a>"
      ]
    },
    {
      "cell_type": "markdown",
      "metadata": {
        "id": "I-5Qvk9P8xoc"
      },
      "source": [
        "(1) Write a Python program to find the duplicate elements in a given array of integers. Return -1 If there are no such elements. (4 points)"
      ]
    },
    {
      "cell_type": "code",
      "metadata": {
        "id": "vK0lwu2Y7jsw"
      },
      "source": [
        "def find_first_duplicate(nums):\r\n",
        "    num_set = set()\r\n",
        "    no_duplicate = -1\r\n",
        "\r\n",
        "    for i in range(len(nums)):\r\n",
        "\r\n",
        "        if nums[i] in num_set:\r\n",
        "            return nums[i]\r\n",
        "        else:\r\n",
        "            num_set.add(nums[i])\r\n",
        "\r\n",
        "    return no_duplicate\r\n",
        "\r\n",
        "print(find_first_duplicate([1, 2, 3, 4, 4, 5]))\r\n",
        "print(find_first_duplicate([1, 2, 3, 4]))\r\n",
        "print(find_first_duplicate([1, 1, 2, 3, 3, 2, 2]))"
      ],
      "execution_count": null,
      "outputs": []
    },
    {
      "cell_type": "markdown",
      "metadata": {
        "id": "qrPLp-6u85iV"
      },
      "source": [
        "(2) Write a Python program to select all the Sundays of a specified year. (4 points)"
      ]
    },
    {
      "cell_type": "code",
      "metadata": {
        "id": "EvpoD9Y68daC"
      },
      "source": [
        "from datetime import date, timedelta\r\n",
        "\r\n",
        "def all_sundays(year):\r\n",
        "       dt = date(year, 1, 1)     \r\n",
        "       dt += timedelta(days = 6 - dt.weekday())  \r\n",
        "       while dt.year == year:\r\n",
        "          yield dt\r\n",
        "          dt += timedelta(days = 7)\r\n",
        "          \r\n",
        "for s in all_sundays(2021):\r\n",
        "   print(s)"
      ],
      "execution_count": null,
      "outputs": []
    },
    {
      "cell_type": "markdown",
      "metadata": {
        "id": "zS7-0-Xa9MEb"
      },
      "source": [
        "(3) Python files reading and writing. Download the “exercise_02_data _collection.zip” to your local and un-zip it.\r\n",
        "\r\n",
        "Write a program to read all the txt files and save the sentences in all the files into one csv file with two columns, the first column is sentence id (txt file name+sentence line number), the second column is the sentence text content. (4 points)\r\n",
        "Remove all the punctuations from the sentences, save the processed sentences into a new column in the same csv file. (4 points)\r\n",
        "Ask the user to enter a word, return all the sentences that include this word, three kinds of information should be returned: sentence id, sentence text content, the count that user input word appear in the sentence. (4 points)"
      ]
    },
    {
      "cell_type": "code",
      "metadata": {
        "id": "nCSvrw0t8g4j"
      },
      "source": [
        "# Question 3-1\r\n",
        "\r\n",
        "import csv\r\n",
        "\r\n",
        "with open(\"output-Sheet.1csv\",\"w\") as output_file:\r\n",
        "    line_output = csv.writer(output_file,delimiter=',')\r\n",
        "    i = 1\r\n",
        "    while i <= 100: \r\n",
        "        input_file_name = \"Assign-two-data-collection//\"+\"ARTHROTEC.\"+str(i)+\".txt\"\r\n",
        "        output_line_name = \"ARTHROTEC.\"+str(i)\r\n",
        "        input_file = open(input_file_name).read() \r\n",
        "        sentences = input_file.split('\\n') \r\n",
        "        for x in sentences: \r\n",
        "            if x == '':\r\n",
        "                sentences.remove(x) \r\n",
        "        for x in sentences: \r\n",
        "            sentence_id = output_line_name+\" - line \"+str(sentences.index(x)+1) \r\n",
        "                        print(sentence_id)\r\n",
        "            line_output.writerow([sentence_id,x]) \r\n",
        "        i += 1 \r\n",
        "\r\n",
        "# Question 3-2:\r\n",
        "\r\n",
        "import csv\r\n",
        "import re\r\n",
        "temp_data = [] \r\n",
        "with open(\"output-Sheet.1csv\",'r') as input_file:\r\n",
        "    file_reader = csv.reader(input_file) \r\n",
        "    for row in file_reader: \r\n",
        "        clean_line = re.sub(r\"[^a-zA-Z\\s\\']\",\"\",row[1]) \r\n",
        "        clean_line = re.sub(\"\\s\\s\",\" \",clean_line) \r\n",
        "        row.append(clean_line) \r\n",
        "        temp_data.append(row) \r\n",
        "with open(\"output-Sheet.1csv\",\"w\") as output_file:\r\n",
        "    file_writer = csv.writer(output_file,delimiter=',') \r\n",
        "    file_writer.writerows(temp_data) \r\n",
        "\r\n",
        "# Question 3-3\r\n",
        "\r\n",
        "import csv\r\n",
        "import re\r\n",
        "user_input = input(\"Enter a word: \") \r\n",
        "with open(\"output.csv\",'r') as input_file:\r\n",
        "    file_reader = csv.reader(input_file) \r\n",
        "    for row in file_reader:\r\n",
        "        search_term = \" \"+user_input+\" \"\r\n",
        "        if search_term in row[2]:\r\n",
        "            found_words = re.findall(search_term,row[2])\r\n",
        "            print(row[0],row[1],len(found_words))"
      ],
      "execution_count": null,
      "outputs": []
    },
    {
      "cell_type": "markdown",
      "metadata": {
        "id": "dTnJwSSE9kgV"
      },
      "source": [
        "\r\n",
        "(4) Install packages nltk, numpy, scipy, pandas, and sklearn on Google Colab. Write a program to test whether they are installed successfully. (3 points for extra)"
      ]
    },
    {
      "cell_type": "code",
      "metadata": {
        "id": "55dbbStE8m9Y"
      },
      "source": [
        "! pip install nltk\r\n",
        "! pip install numpy\r\n",
        "! pip install scipy\r\n",
        "! pip install pandas\r\n",
        "! pip install scikit-learn\r\n"
      ],
      "execution_count": null,
      "outputs": []
    },
    {
      "cell_type": "code",
      "metadata": {
        "id": "KlwZkojV8q3_"
      },
      "source": [
        "from nltk.tokenize import TweetTokenizer\r\n",
        "tknzr = TweetTokenizer()\r\n",
        "s0 = \"This is a cooool #dummysmiley: :-) :-P <3 and some arrows < > -> <--\"\r\n",
        "print(tknzr.tokenize(s0))\r\n",
        "print(\"***************************************************************************\")\r\n",
        "\r\n",
        "# test numpy \r\n",
        "import numpy as np\r\n",
        "random_sample = np.random.random_sample()\r\n",
        "print(random_sample)\r\n",
        "print(\"***************************************************************************\")\r\n",
        "\r\n",
        "# test scipy\r\n",
        "import numpy as np\r\n",
        "from scipy.optimize import minimize\r\n",
        "def rosen(x):\r\n",
        "  \"\"\"The Rosenbrock function\"\"\"\r\n",
        "  return sum(100.0*(x[1:]-x[:-1]**2.0)**2.0 + (1-x[:-1])**2.0)\r\n",
        "x0 = np.array([1.3, 0.7, 0.8, 1.9, 1.2])\r\n",
        "res = minimize(rosen, x0, method='nelder-mead', options={'xatol': 1e-8, 'disp': True})\r\n",
        "print(res)\r\n",
        "print(\"*****************************************************************************\")\r\n",
        "\r\n",
        "# test pandas\r\n",
        "import pandas as pd\r\n",
        "d = {'col1': [1, 2], 'col2': [3, 4]}\r\n",
        "df = pd.DataFrame(data=d)\r\n",
        "print(df)\r\n",
        "print(\"*****************************************************************************\")\r\n",
        "\r\n",
        "# test scikit-learn\r\n",
        "from sklearn import datasets\r\n",
        "iris = datasets.load_iris()\r\n",
        "digits = datasets.load_digits()\r\n",
        "print(digits.data)"
      ],
      "execution_count": null,
      "outputs": []
    }
  ]
}