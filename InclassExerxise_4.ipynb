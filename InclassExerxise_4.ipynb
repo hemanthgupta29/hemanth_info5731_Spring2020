{
  "nbformat": 4,
  "nbformat_minor": 0,
  "metadata": {
    "colab": {
      "name": "InclassExerxise_4.ipynb",
      "provenance": [],
      "authorship_tag": "ABX9TyO/shNh456ejahRHrK9IE+C",
      "include_colab_link": true
    },
    "kernelspec": {
      "name": "python3",
      "display_name": "Python 3"
    }
  },
  "cells": [
    {
      "cell_type": "markdown",
      "metadata": {
        "id": "view-in-github",
        "colab_type": "text"
      },
      "source": [
        "<a href=\"https://colab.research.google.com/github/hemanthgupta29/hemanth_info5731_Spring2020/blob/main/InclassExerxise_4.ipynb\" target=\"_parent\"><img src=\"https://colab.research.google.com/assets/colab-badge.svg\" alt=\"Open In Colab\"/></a>"
      ]
    },
    {
      "cell_type": "markdown",
      "metadata": {
        "id": "FppNzq0dIzyO"
      },
      "source": [
        "1. Text Data Preprocessing\r\n",
        "Here is a legal case we collected from westlaw, please follow the steps we mentioned in lesson 5 to clean the data:\r\n",
        "\r\n",
        "1.1 Basic feature extraction using text data (4 points)\r\n",
        "Number of sentences\r\n",
        "Number of words\r\n",
        "Number of characters\r\n",
        "Average word length\r\n",
        "Number of stopwords\r\n",
        "Number of special characters\r\n",
        "Number of numerics\r\n",
        "Number of uppercase words"
      ]
    },
    {
      "cell_type": "code",
      "metadata": {
        "colab": {
          "base_uri": "https://localhost:8080/",
          "height": 347
        },
        "id": "pWqNUkQLir_c",
        "outputId": "5379f28c-bac1-4f1e-d83e-0d8a8fd04422"
      },
      "source": [
        "import pandas as pd\r\n",
        "data_file=\"https://github.com/unt-iialab/info5731_spring2021/blob/main/class_exercises/01-05-1%20%20Adams%20v%20Tanner.txt\"\r\n",
        "data=pd.read_csv(data_file,error_bad_lines=False,names=['sentence'])\r\n",
        "data.head(10)"
      ],
      "execution_count": null,
      "outputs": [
        {
          "output_type": "execute_result",
          "data": {
            "text/html": [
              "<div>\n",
              "<style scoped>\n",
              "    .dataframe tbody tr th:only-of-type {\n",
              "        vertical-align: middle;\n",
              "    }\n",
              "\n",
              "    .dataframe tbody tr th {\n",
              "        vertical-align: top;\n",
              "    }\n",
              "\n",
              "    .dataframe thead th {\n",
              "        text-align: right;\n",
              "    }\n",
              "</style>\n",
              "<table border=\"1\" class=\"dataframe\">\n",
              "  <thead>\n",
              "    <tr style=\"text-align: right;\">\n",
              "      <th></th>\n",
              "      <th>sentence</th>\n",
              "    </tr>\n",
              "  </thead>\n",
              "  <tbody>\n",
              "    <tr>\n",
              "      <th>0</th>\n",
              "      <td>&lt;!DOCTYPE html&gt;</td>\n",
              "    </tr>\n",
              "    <tr>\n",
              "      <th>1</th>\n",
              "      <td>&lt;html lang=\"en\"&gt;</td>\n",
              "    </tr>\n",
              "    <tr>\n",
              "      <th>2</th>\n",
              "      <td>&lt;head&gt;</td>\n",
              "    </tr>\n",
              "    <tr>\n",
              "      <th>3</th>\n",
              "      <td>&lt;meta charset=\"utf-8\"&gt;</td>\n",
              "    </tr>\n",
              "    <tr>\n",
              "      <th>4</th>\n",
              "      <td>&lt;link rel=\"dns-prefetch\" href=\"https://githu...</td>\n",
              "    </tr>\n",
              "    <tr>\n",
              "      <th>5</th>\n",
              "      <td>&lt;link rel=\"dns-prefetch\" href=\"https://avata...</td>\n",
              "    </tr>\n",
              "    <tr>\n",
              "      <th>6</th>\n",
              "      <td>&lt;link rel=\"dns-prefetch\" href=\"https://githu...</td>\n",
              "    </tr>\n",
              "    <tr>\n",
              "      <th>7</th>\n",
              "      <td>&lt;link rel=\"dns-prefetch\" href=\"https://user-...</td>\n",
              "    </tr>\n",
              "    <tr>\n",
              "      <th>8</th>\n",
              "      <td>&lt;link crossorigin=\"anonymous\" media=\"all\" in...</td>\n",
              "    </tr>\n",
              "    <tr>\n",
              "      <th>9</th>\n",
              "      <td>&lt;link crossorigin=\"anonymous\" media=\"all\" in...</td>\n",
              "    </tr>\n",
              "  </tbody>\n",
              "</table>\n",
              "</div>"
            ],
            "text/plain": [
              "                                            sentence\n",
              "0                                    <!DOCTYPE html>\n",
              "1                                   <html lang=\"en\">\n",
              "2                                             <head>\n",
              "3                             <meta charset=\"utf-8\">\n",
              "4    <link rel=\"dns-prefetch\" href=\"https://githu...\n",
              "5    <link rel=\"dns-prefetch\" href=\"https://avata...\n",
              "6    <link rel=\"dns-prefetch\" href=\"https://githu...\n",
              "7    <link rel=\"dns-prefetch\" href=\"https://user-...\n",
              "8    <link crossorigin=\"anonymous\" media=\"all\" in...\n",
              "9    <link crossorigin=\"anonymous\" media=\"all\" in..."
            ]
          },
          "metadata": {
            "tags": []
          },
          "execution_count": 40
        }
      ]
    },
    {
      "cell_type": "code",
      "metadata": {
        "colab": {
          "base_uri": "https://localhost:8080/"
        },
        "id": "AzVaVFFGl86z",
        "outputId": "af23d336-35ae-400b-c10d-85087f77f958"
      },
      "source": [
        "print(\"Number of Sentences :\",len(data['sentence']))"
      ],
      "execution_count": null,
      "outputs": [
        {
          "output_type": "stream",
          "text": [
            "Number of Sentences : 1567\n"
          ],
          "name": "stdout"
        }
      ]
    },
    {
      "cell_type": "code",
      "metadata": {
        "colab": {
          "base_uri": "https://localhost:8080/",
          "height": 347
        },
        "id": "8xT3YXvEmDO5",
        "outputId": "13e7e0f4-373e-430f-b7bd-700d87ba7870"
      },
      "source": [
        "data['word_count']=data['sentence'].apply(lambda x: len(x.split(\" \")))\r\n",
        "data[['sentence','word_count']].head(10)"
      ],
      "execution_count": null,
      "outputs": [
        {
          "output_type": "execute_result",
          "data": {
            "text/html": [
              "<div>\n",
              "<style scoped>\n",
              "    .dataframe tbody tr th:only-of-type {\n",
              "        vertical-align: middle;\n",
              "    }\n",
              "\n",
              "    .dataframe tbody tr th {\n",
              "        vertical-align: top;\n",
              "    }\n",
              "\n",
              "    .dataframe thead th {\n",
              "        text-align: right;\n",
              "    }\n",
              "</style>\n",
              "<table border=\"1\" class=\"dataframe\">\n",
              "  <thead>\n",
              "    <tr style=\"text-align: right;\">\n",
              "      <th></th>\n",
              "      <th>sentence</th>\n",
              "      <th>word_count</th>\n",
              "    </tr>\n",
              "  </thead>\n",
              "  <tbody>\n",
              "    <tr>\n",
              "      <th>0</th>\n",
              "      <td>&lt;!DOCTYPE html&gt;</td>\n",
              "      <td>2</td>\n",
              "    </tr>\n",
              "    <tr>\n",
              "      <th>1</th>\n",
              "      <td>&lt;html lang=\"en\"&gt;</td>\n",
              "      <td>2</td>\n",
              "    </tr>\n",
              "    <tr>\n",
              "      <th>2</th>\n",
              "      <td>&lt;head&gt;</td>\n",
              "      <td>3</td>\n",
              "    </tr>\n",
              "    <tr>\n",
              "      <th>3</th>\n",
              "      <td>&lt;meta charset=\"utf-8\"&gt;</td>\n",
              "      <td>6</td>\n",
              "    </tr>\n",
              "    <tr>\n",
              "      <th>4</th>\n",
              "      <td>&lt;link rel=\"dns-prefetch\" href=\"https://githu...</td>\n",
              "      <td>5</td>\n",
              "    </tr>\n",
              "    <tr>\n",
              "      <th>5</th>\n",
              "      <td>&lt;link rel=\"dns-prefetch\" href=\"https://avata...</td>\n",
              "      <td>5</td>\n",
              "    </tr>\n",
              "    <tr>\n",
              "      <th>6</th>\n",
              "      <td>&lt;link rel=\"dns-prefetch\" href=\"https://githu...</td>\n",
              "      <td>5</td>\n",
              "    </tr>\n",
              "    <tr>\n",
              "      <th>7</th>\n",
              "      <td>&lt;link rel=\"dns-prefetch\" href=\"https://user-...</td>\n",
              "      <td>5</td>\n",
              "    </tr>\n",
              "    <tr>\n",
              "      <th>8</th>\n",
              "      <td>&lt;link crossorigin=\"anonymous\" media=\"all\" in...</td>\n",
              "      <td>9</td>\n",
              "    </tr>\n",
              "    <tr>\n",
              "      <th>9</th>\n",
              "      <td>&lt;link crossorigin=\"anonymous\" media=\"all\" in...</td>\n",
              "      <td>9</td>\n",
              "    </tr>\n",
              "  </tbody>\n",
              "</table>\n",
              "</div>"
            ],
            "text/plain": [
              "                                            sentence  word_count\n",
              "0                                    <!DOCTYPE html>           2\n",
              "1                                   <html lang=\"en\">           2\n",
              "2                                             <head>           3\n",
              "3                             <meta charset=\"utf-8\">           6\n",
              "4    <link rel=\"dns-prefetch\" href=\"https://githu...           5\n",
              "5    <link rel=\"dns-prefetch\" href=\"https://avata...           5\n",
              "6    <link rel=\"dns-prefetch\" href=\"https://githu...           5\n",
              "7    <link rel=\"dns-prefetch\" href=\"https://user-...           5\n",
              "8    <link crossorigin=\"anonymous\" media=\"all\" in...           9\n",
              "9    <link crossorigin=\"anonymous\" media=\"all\" in...           9"
            ]
          },
          "metadata": {
            "tags": []
          },
          "execution_count": 11
        }
      ]
    },
    {
      "cell_type": "code",
      "metadata": {
        "colab": {
          "base_uri": "https://localhost:8080/",
          "height": 347
        },
        "id": "dyzxoRT9mOmE",
        "outputId": "107e2dc2-648f-4d72-93ef-e100eaf71911"
      },
      "source": [
        "data['char_count']=data['sentence'].str.len()\r\n",
        "data[['sentence','char_count']].head(10)"
      ],
      "execution_count": null,
      "outputs": [
        {
          "output_type": "execute_result",
          "data": {
            "text/html": [
              "<div>\n",
              "<style scoped>\n",
              "    .dataframe tbody tr th:only-of-type {\n",
              "        vertical-align: middle;\n",
              "    }\n",
              "\n",
              "    .dataframe tbody tr th {\n",
              "        vertical-align: top;\n",
              "    }\n",
              "\n",
              "    .dataframe thead th {\n",
              "        text-align: right;\n",
              "    }\n",
              "</style>\n",
              "<table border=\"1\" class=\"dataframe\">\n",
              "  <thead>\n",
              "    <tr style=\"text-align: right;\">\n",
              "      <th></th>\n",
              "      <th>sentence</th>\n",
              "      <th>char_count</th>\n",
              "    </tr>\n",
              "  </thead>\n",
              "  <tbody>\n",
              "    <tr>\n",
              "      <th>0</th>\n",
              "      <td>&lt;!DOCTYPE html&gt;</td>\n",
              "      <td>15</td>\n",
              "    </tr>\n",
              "    <tr>\n",
              "      <th>1</th>\n",
              "      <td>&lt;html lang=\"en\"&gt;</td>\n",
              "      <td>16</td>\n",
              "    </tr>\n",
              "    <tr>\n",
              "      <th>2</th>\n",
              "      <td>&lt;head&gt;</td>\n",
              "      <td>8</td>\n",
              "    </tr>\n",
              "    <tr>\n",
              "      <th>3</th>\n",
              "      <td>&lt;meta charset=\"utf-8\"&gt;</td>\n",
              "      <td>26</td>\n",
              "    </tr>\n",
              "    <tr>\n",
              "      <th>4</th>\n",
              "      <td>&lt;link rel=\"dns-prefetch\" href=\"https://githu...</td>\n",
              "      <td>66</td>\n",
              "    </tr>\n",
              "    <tr>\n",
              "      <th>5</th>\n",
              "      <td>&lt;link rel=\"dns-prefetch\" href=\"https://avata...</td>\n",
              "      <td>72</td>\n",
              "    </tr>\n",
              "    <tr>\n",
              "      <th>6</th>\n",
              "      <td>&lt;link rel=\"dns-prefetch\" href=\"https://githu...</td>\n",
              "      <td>72</td>\n",
              "    </tr>\n",
              "    <tr>\n",
              "      <th>7</th>\n",
              "      <td>&lt;link rel=\"dns-prefetch\" href=\"https://user-...</td>\n",
              "      <td>77</td>\n",
              "    </tr>\n",
              "    <tr>\n",
              "      <th>8</th>\n",
              "      <td>&lt;link crossorigin=\"anonymous\" media=\"all\" in...</td>\n",
              "      <td>265</td>\n",
              "    </tr>\n",
              "    <tr>\n",
              "      <th>9</th>\n",
              "      <td>&lt;link crossorigin=\"anonymous\" media=\"all\" in...</td>\n",
              "      <td>259</td>\n",
              "    </tr>\n",
              "  </tbody>\n",
              "</table>\n",
              "</div>"
            ],
            "text/plain": [
              "                                            sentence  char_count\n",
              "0                                    <!DOCTYPE html>          15\n",
              "1                                   <html lang=\"en\">          16\n",
              "2                                             <head>           8\n",
              "3                             <meta charset=\"utf-8\">          26\n",
              "4    <link rel=\"dns-prefetch\" href=\"https://githu...          66\n",
              "5    <link rel=\"dns-prefetch\" href=\"https://avata...          72\n",
              "6    <link rel=\"dns-prefetch\" href=\"https://githu...          72\n",
              "7    <link rel=\"dns-prefetch\" href=\"https://user-...          77\n",
              "8    <link crossorigin=\"anonymous\" media=\"all\" in...         265\n",
              "9    <link crossorigin=\"anonymous\" media=\"all\" in...         259"
            ]
          },
          "metadata": {
            "tags": []
          },
          "execution_count": 12
        }
      ]
    },
    {
      "cell_type": "code",
      "metadata": {
        "colab": {
          "base_uri": "https://localhost:8080/",
          "height": 347
        },
        "id": "WpIOitTfnOsR",
        "outputId": "cd3fc256-e0d9-44d5-e1bf-e29b380d91a2"
      },
      "source": [
        "def avg_word(sentence):\r\n",
        "  words = sentence.split()\r\n",
        "  if len(words)!=0:\r\n",
        "     return(sum(len(word) for word in words)/len(words))\r\n",
        "  else:\r\n",
        "     return 0\r\n",
        "data['avg_word_len']=data['sentence'].apply(lambda x: avg_word(x))\r\n",
        "data[['sentence','avg_word_len']].head(10)"
      ],
      "execution_count": null,
      "outputs": [
        {
          "output_type": "execute_result",
          "data": {
            "text/html": [
              "<div>\n",
              "<style scoped>\n",
              "    .dataframe tbody tr th:only-of-type {\n",
              "        vertical-align: middle;\n",
              "    }\n",
              "\n",
              "    .dataframe tbody tr th {\n",
              "        vertical-align: top;\n",
              "    }\n",
              "\n",
              "    .dataframe thead th {\n",
              "        text-align: right;\n",
              "    }\n",
              "</style>\n",
              "<table border=\"1\" class=\"dataframe\">\n",
              "  <thead>\n",
              "    <tr style=\"text-align: right;\">\n",
              "      <th></th>\n",
              "      <th>sentence</th>\n",
              "      <th>avg_word_len</th>\n",
              "    </tr>\n",
              "  </thead>\n",
              "  <tbody>\n",
              "    <tr>\n",
              "      <th>0</th>\n",
              "      <td>&lt;!DOCTYPE html&gt;</td>\n",
              "      <td>7.000000</td>\n",
              "    </tr>\n",
              "    <tr>\n",
              "      <th>1</th>\n",
              "      <td>&lt;html lang=\"en\"&gt;</td>\n",
              "      <td>7.500000</td>\n",
              "    </tr>\n",
              "    <tr>\n",
              "      <th>2</th>\n",
              "      <td>&lt;head&gt;</td>\n",
              "      <td>6.000000</td>\n",
              "    </tr>\n",
              "    <tr>\n",
              "      <th>3</th>\n",
              "      <td>&lt;meta charset=\"utf-8\"&gt;</td>\n",
              "      <td>10.500000</td>\n",
              "    </tr>\n",
              "    <tr>\n",
              "      <th>4</th>\n",
              "      <td>&lt;link rel=\"dns-prefetch\" href=\"https://githu...</td>\n",
              "      <td>20.666667</td>\n",
              "    </tr>\n",
              "    <tr>\n",
              "      <th>5</th>\n",
              "      <td>&lt;link rel=\"dns-prefetch\" href=\"https://avata...</td>\n",
              "      <td>22.666667</td>\n",
              "    </tr>\n",
              "    <tr>\n",
              "      <th>6</th>\n",
              "      <td>&lt;link rel=\"dns-prefetch\" href=\"https://githu...</td>\n",
              "      <td>22.666667</td>\n",
              "    </tr>\n",
              "    <tr>\n",
              "      <th>7</th>\n",
              "      <td>&lt;link rel=\"dns-prefetch\" href=\"https://user-...</td>\n",
              "      <td>24.333333</td>\n",
              "    </tr>\n",
              "    <tr>\n",
              "      <th>8</th>\n",
              "      <td>&lt;link crossorigin=\"anonymous\" media=\"all\" in...</td>\n",
              "      <td>36.714286</td>\n",
              "    </tr>\n",
              "    <tr>\n",
              "      <th>9</th>\n",
              "      <td>&lt;link crossorigin=\"anonymous\" media=\"all\" in...</td>\n",
              "      <td>35.857143</td>\n",
              "    </tr>\n",
              "  </tbody>\n",
              "</table>\n",
              "</div>"
            ],
            "text/plain": [
              "                                            sentence  avg_word_len\n",
              "0                                    <!DOCTYPE html>      7.000000\n",
              "1                                   <html lang=\"en\">      7.500000\n",
              "2                                             <head>      6.000000\n",
              "3                             <meta charset=\"utf-8\">     10.500000\n",
              "4    <link rel=\"dns-prefetch\" href=\"https://githu...     20.666667\n",
              "5    <link rel=\"dns-prefetch\" href=\"https://avata...     22.666667\n",
              "6    <link rel=\"dns-prefetch\" href=\"https://githu...     22.666667\n",
              "7    <link rel=\"dns-prefetch\" href=\"https://user-...     24.333333\n",
              "8    <link crossorigin=\"anonymous\" media=\"all\" in...     36.714286\n",
              "9    <link crossorigin=\"anonymous\" media=\"all\" in...     35.857143"
            ]
          },
          "metadata": {
            "tags": []
          },
          "execution_count": 22
        }
      ]
    },
    {
      "cell_type": "code",
      "metadata": {
        "colab": {
          "base_uri": "https://localhost:8080/",
          "height": 383
        },
        "id": "ANueMqpzoeAM",
        "outputId": "8f2a4f32-205d-4b92-dd33-215d5478d950"
      },
      "source": [
        "from nltk.corpus import stopwords\r\n",
        "import nltk\r\n",
        "nltk.download('stopwords')\r\n",
        "stop = stopwords.words('english')\r\n",
        "data['stop_words_count']=data['sentence'].apply(lambda x: len([y for y in x.split() if y not in stop]))\r\n",
        "data[['sentence','stop_words_count']].head(10)"
      ],
      "execution_count": null,
      "outputs": [
        {
          "output_type": "stream",
          "text": [
            "[nltk_data] Downloading package stopwords to /root/nltk_data...\n",
            "[nltk_data]   Package stopwords is already up-to-date!\n"
          ],
          "name": "stdout"
        },
        {
          "output_type": "execute_result",
          "data": {
            "text/html": [
              "<div>\n",
              "<style scoped>\n",
              "    .dataframe tbody tr th:only-of-type {\n",
              "        vertical-align: middle;\n",
              "    }\n",
              "\n",
              "    .dataframe tbody tr th {\n",
              "        vertical-align: top;\n",
              "    }\n",
              "\n",
              "    .dataframe thead th {\n",
              "        text-align: right;\n",
              "    }\n",
              "</style>\n",
              "<table border=\"1\" class=\"dataframe\">\n",
              "  <thead>\n",
              "    <tr style=\"text-align: right;\">\n",
              "      <th></th>\n",
              "      <th>sentence</th>\n",
              "      <th>stop_words_count</th>\n",
              "    </tr>\n",
              "  </thead>\n",
              "  <tbody>\n",
              "    <tr>\n",
              "      <th>0</th>\n",
              "      <td>&lt;!DOCTYPE html&gt;</td>\n",
              "      <td>2</td>\n",
              "    </tr>\n",
              "    <tr>\n",
              "      <th>1</th>\n",
              "      <td>&lt;html lang=\"en\"&gt;</td>\n",
              "      <td>2</td>\n",
              "    </tr>\n",
              "    <tr>\n",
              "      <th>2</th>\n",
              "      <td>&lt;head&gt;</td>\n",
              "      <td>1</td>\n",
              "    </tr>\n",
              "    <tr>\n",
              "      <th>3</th>\n",
              "      <td>&lt;meta charset=\"utf-8\"&gt;</td>\n",
              "      <td>2</td>\n",
              "    </tr>\n",
              "    <tr>\n",
              "      <th>4</th>\n",
              "      <td>&lt;link rel=\"dns-prefetch\" href=\"https://githu...</td>\n",
              "      <td>3</td>\n",
              "    </tr>\n",
              "    <tr>\n",
              "      <th>5</th>\n",
              "      <td>&lt;link rel=\"dns-prefetch\" href=\"https://avata...</td>\n",
              "      <td>3</td>\n",
              "    </tr>\n",
              "    <tr>\n",
              "      <th>6</th>\n",
              "      <td>&lt;link rel=\"dns-prefetch\" href=\"https://githu...</td>\n",
              "      <td>3</td>\n",
              "    </tr>\n",
              "    <tr>\n",
              "      <th>7</th>\n",
              "      <td>&lt;link rel=\"dns-prefetch\" href=\"https://user-...</td>\n",
              "      <td>3</td>\n",
              "    </tr>\n",
              "    <tr>\n",
              "      <th>8</th>\n",
              "      <td>&lt;link crossorigin=\"anonymous\" media=\"all\" in...</td>\n",
              "      <td>7</td>\n",
              "    </tr>\n",
              "    <tr>\n",
              "      <th>9</th>\n",
              "      <td>&lt;link crossorigin=\"anonymous\" media=\"all\" in...</td>\n",
              "      <td>7</td>\n",
              "    </tr>\n",
              "  </tbody>\n",
              "</table>\n",
              "</div>"
            ],
            "text/plain": [
              "                                            sentence  stop_words_count\n",
              "0                                    <!DOCTYPE html>                 2\n",
              "1                                   <html lang=\"en\">                 2\n",
              "2                                             <head>                 1\n",
              "3                             <meta charset=\"utf-8\">                 2\n",
              "4    <link rel=\"dns-prefetch\" href=\"https://githu...                 3\n",
              "5    <link rel=\"dns-prefetch\" href=\"https://avata...                 3\n",
              "6    <link rel=\"dns-prefetch\" href=\"https://githu...                 3\n",
              "7    <link rel=\"dns-prefetch\" href=\"https://user-...                 3\n",
              "8    <link crossorigin=\"anonymous\" media=\"all\" in...                 7\n",
              "9    <link crossorigin=\"anonymous\" media=\"all\" in...                 7"
            ]
          },
          "metadata": {
            "tags": []
          },
          "execution_count": 30
        }
      ]
    },
    {
      "cell_type": "code",
      "metadata": {
        "colab": {
          "base_uri": "https://localhost:8080/",
          "height": 347
        },
        "id": "2qNyX1ETsxw_",
        "outputId": "a897aa69-0cd5-41c4-cd44-0a7094f807b8"
      },
      "source": [
        "data['special_char_count']=data['sentence'].apply(lambda x: len([y for y in x.split() if y.startswith('*')]))\r\n",
        "data[['sentence','special_char_count']].head(10)"
      ],
      "execution_count": null,
      "outputs": [
        {
          "output_type": "execute_result",
          "data": {
            "text/html": [
              "<div>\n",
              "<style scoped>\n",
              "    .dataframe tbody tr th:only-of-type {\n",
              "        vertical-align: middle;\n",
              "    }\n",
              "\n",
              "    .dataframe tbody tr th {\n",
              "        vertical-align: top;\n",
              "    }\n",
              "\n",
              "    .dataframe thead th {\n",
              "        text-align: right;\n",
              "    }\n",
              "</style>\n",
              "<table border=\"1\" class=\"dataframe\">\n",
              "  <thead>\n",
              "    <tr style=\"text-align: right;\">\n",
              "      <th></th>\n",
              "      <th>sentence</th>\n",
              "      <th>special_char_count</th>\n",
              "    </tr>\n",
              "  </thead>\n",
              "  <tbody>\n",
              "    <tr>\n",
              "      <th>0</th>\n",
              "      <td>&lt;!DOCTYPE html&gt;</td>\n",
              "      <td>0</td>\n",
              "    </tr>\n",
              "    <tr>\n",
              "      <th>1</th>\n",
              "      <td>&lt;html lang=\"en\"&gt;</td>\n",
              "      <td>0</td>\n",
              "    </tr>\n",
              "    <tr>\n",
              "      <th>2</th>\n",
              "      <td>&lt;head&gt;</td>\n",
              "      <td>0</td>\n",
              "    </tr>\n",
              "    <tr>\n",
              "      <th>3</th>\n",
              "      <td>&lt;meta charset=\"utf-8\"&gt;</td>\n",
              "      <td>0</td>\n",
              "    </tr>\n",
              "    <tr>\n",
              "      <th>4</th>\n",
              "      <td>&lt;link rel=\"dns-prefetch\" href=\"https://githu...</td>\n",
              "      <td>0</td>\n",
              "    </tr>\n",
              "    <tr>\n",
              "      <th>5</th>\n",
              "      <td>&lt;link rel=\"dns-prefetch\" href=\"https://avata...</td>\n",
              "      <td>0</td>\n",
              "    </tr>\n",
              "    <tr>\n",
              "      <th>6</th>\n",
              "      <td>&lt;link rel=\"dns-prefetch\" href=\"https://githu...</td>\n",
              "      <td>0</td>\n",
              "    </tr>\n",
              "    <tr>\n",
              "      <th>7</th>\n",
              "      <td>&lt;link rel=\"dns-prefetch\" href=\"https://user-...</td>\n",
              "      <td>0</td>\n",
              "    </tr>\n",
              "    <tr>\n",
              "      <th>8</th>\n",
              "      <td>&lt;link crossorigin=\"anonymous\" media=\"all\" in...</td>\n",
              "      <td>0</td>\n",
              "    </tr>\n",
              "    <tr>\n",
              "      <th>9</th>\n",
              "      <td>&lt;link crossorigin=\"anonymous\" media=\"all\" in...</td>\n",
              "      <td>0</td>\n",
              "    </tr>\n",
              "  </tbody>\n",
              "</table>\n",
              "</div>"
            ],
            "text/plain": [
              "                                            sentence  special_char_count\n",
              "0                                    <!DOCTYPE html>                   0\n",
              "1                                   <html lang=\"en\">                   0\n",
              "2                                             <head>                   0\n",
              "3                             <meta charset=\"utf-8\">                   0\n",
              "4    <link rel=\"dns-prefetch\" href=\"https://githu...                   0\n",
              "5    <link rel=\"dns-prefetch\" href=\"https://avata...                   0\n",
              "6    <link rel=\"dns-prefetch\" href=\"https://githu...                   0\n",
              "7    <link rel=\"dns-prefetch\" href=\"https://user-...                   0\n",
              "8    <link crossorigin=\"anonymous\" media=\"all\" in...                   0\n",
              "9    <link crossorigin=\"anonymous\" media=\"all\" in...                   0"
            ]
          },
          "metadata": {
            "tags": []
          },
          "execution_count": 32
        }
      ]
    },
    {
      "cell_type": "code",
      "metadata": {
        "colab": {
          "base_uri": "https://localhost:8080/",
          "height": 347
        },
        "id": "dTqw1l-atng-",
        "outputId": "f9048dab-af95-41b3-cb27-d278a2989e9b"
      },
      "source": [
        "data['numeric_count']=data['sentence'].apply(lambda x: len([y for y in x.split() if y.isdigit()]))\r\n",
        "data[['sentence','numeric_count']].head(10)"
      ],
      "execution_count": null,
      "outputs": [
        {
          "output_type": "execute_result",
          "data": {
            "text/html": [
              "<div>\n",
              "<style scoped>\n",
              "    .dataframe tbody tr th:only-of-type {\n",
              "        vertical-align: middle;\n",
              "    }\n",
              "\n",
              "    .dataframe tbody tr th {\n",
              "        vertical-align: top;\n",
              "    }\n",
              "\n",
              "    .dataframe thead th {\n",
              "        text-align: right;\n",
              "    }\n",
              "</style>\n",
              "<table border=\"1\" class=\"dataframe\">\n",
              "  <thead>\n",
              "    <tr style=\"text-align: right;\">\n",
              "      <th></th>\n",
              "      <th>sentence</th>\n",
              "      <th>numeric_count</th>\n",
              "    </tr>\n",
              "  </thead>\n",
              "  <tbody>\n",
              "    <tr>\n",
              "      <th>0</th>\n",
              "      <td>&lt;!DOCTYPE html&gt;</td>\n",
              "      <td>0</td>\n",
              "    </tr>\n",
              "    <tr>\n",
              "      <th>1</th>\n",
              "      <td>&lt;html lang=\"en\"&gt;</td>\n",
              "      <td>0</td>\n",
              "    </tr>\n",
              "    <tr>\n",
              "      <th>2</th>\n",
              "      <td>&lt;head&gt;</td>\n",
              "      <td>0</td>\n",
              "    </tr>\n",
              "    <tr>\n",
              "      <th>3</th>\n",
              "      <td>&lt;meta charset=\"utf-8\"&gt;</td>\n",
              "      <td>0</td>\n",
              "    </tr>\n",
              "    <tr>\n",
              "      <th>4</th>\n",
              "      <td>&lt;link rel=\"dns-prefetch\" href=\"https://githu...</td>\n",
              "      <td>0</td>\n",
              "    </tr>\n",
              "    <tr>\n",
              "      <th>5</th>\n",
              "      <td>&lt;link rel=\"dns-prefetch\" href=\"https://avata...</td>\n",
              "      <td>0</td>\n",
              "    </tr>\n",
              "    <tr>\n",
              "      <th>6</th>\n",
              "      <td>&lt;link rel=\"dns-prefetch\" href=\"https://githu...</td>\n",
              "      <td>0</td>\n",
              "    </tr>\n",
              "    <tr>\n",
              "      <th>7</th>\n",
              "      <td>&lt;link rel=\"dns-prefetch\" href=\"https://user-...</td>\n",
              "      <td>0</td>\n",
              "    </tr>\n",
              "    <tr>\n",
              "      <th>8</th>\n",
              "      <td>&lt;link crossorigin=\"anonymous\" media=\"all\" in...</td>\n",
              "      <td>0</td>\n",
              "    </tr>\n",
              "    <tr>\n",
              "      <th>9</th>\n",
              "      <td>&lt;link crossorigin=\"anonymous\" media=\"all\" in...</td>\n",
              "      <td>0</td>\n",
              "    </tr>\n",
              "  </tbody>\n",
              "</table>\n",
              "</div>"
            ],
            "text/plain": [
              "                                            sentence  numeric_count\n",
              "0                                    <!DOCTYPE html>              0\n",
              "1                                   <html lang=\"en\">              0\n",
              "2                                             <head>              0\n",
              "3                             <meta charset=\"utf-8\">              0\n",
              "4    <link rel=\"dns-prefetch\" href=\"https://githu...              0\n",
              "5    <link rel=\"dns-prefetch\" href=\"https://avata...              0\n",
              "6    <link rel=\"dns-prefetch\" href=\"https://githu...              0\n",
              "7    <link rel=\"dns-prefetch\" href=\"https://user-...              0\n",
              "8    <link crossorigin=\"anonymous\" media=\"all\" in...              0\n",
              "9    <link crossorigin=\"anonymous\" media=\"all\" in...              0"
            ]
          },
          "metadata": {
            "tags": []
          },
          "execution_count": 34
        }
      ]
    },
    {
      "cell_type": "code",
      "metadata": {
        "colab": {
          "base_uri": "https://localhost:8080/",
          "height": 347
        },
        "id": "fVy7-ndKxdGC",
        "outputId": "992d0cda-32e6-4794-e892-79cdfed1abb6"
      },
      "source": [
        "data['uppercase_words_count']=data['sentence'].apply(lambda x: len([y for y in x.split() if y.isupper()]))\r\n",
        "data[['sentence','uppercase_words_count']].head(10)"
      ],
      "execution_count": null,
      "outputs": [
        {
          "output_type": "execute_result",
          "data": {
            "text/html": [
              "<div>\n",
              "<style scoped>\n",
              "    .dataframe tbody tr th:only-of-type {\n",
              "        vertical-align: middle;\n",
              "    }\n",
              "\n",
              "    .dataframe tbody tr th {\n",
              "        vertical-align: top;\n",
              "    }\n",
              "\n",
              "    .dataframe thead th {\n",
              "        text-align: right;\n",
              "    }\n",
              "</style>\n",
              "<table border=\"1\" class=\"dataframe\">\n",
              "  <thead>\n",
              "    <tr style=\"text-align: right;\">\n",
              "      <th></th>\n",
              "      <th>sentence</th>\n",
              "      <th>uppercase_words_count</th>\n",
              "    </tr>\n",
              "  </thead>\n",
              "  <tbody>\n",
              "    <tr>\n",
              "      <th>0</th>\n",
              "      <td>&lt;!DOCTYPE html&gt;</td>\n",
              "      <td>1</td>\n",
              "    </tr>\n",
              "    <tr>\n",
              "      <th>1</th>\n",
              "      <td>&lt;html lang=\"en\"&gt;</td>\n",
              "      <td>0</td>\n",
              "    </tr>\n",
              "    <tr>\n",
              "      <th>2</th>\n",
              "      <td>&lt;head&gt;</td>\n",
              "      <td>0</td>\n",
              "    </tr>\n",
              "    <tr>\n",
              "      <th>3</th>\n",
              "      <td>&lt;meta charset=\"utf-8\"&gt;</td>\n",
              "      <td>0</td>\n",
              "    </tr>\n",
              "    <tr>\n",
              "      <th>4</th>\n",
              "      <td>&lt;link rel=\"dns-prefetch\" href=\"https://githu...</td>\n",
              "      <td>0</td>\n",
              "    </tr>\n",
              "    <tr>\n",
              "      <th>5</th>\n",
              "      <td>&lt;link rel=\"dns-prefetch\" href=\"https://avata...</td>\n",
              "      <td>0</td>\n",
              "    </tr>\n",
              "    <tr>\n",
              "      <th>6</th>\n",
              "      <td>&lt;link rel=\"dns-prefetch\" href=\"https://githu...</td>\n",
              "      <td>0</td>\n",
              "    </tr>\n",
              "    <tr>\n",
              "      <th>7</th>\n",
              "      <td>&lt;link rel=\"dns-prefetch\" href=\"https://user-...</td>\n",
              "      <td>0</td>\n",
              "    </tr>\n",
              "    <tr>\n",
              "      <th>8</th>\n",
              "      <td>&lt;link crossorigin=\"anonymous\" media=\"all\" in...</td>\n",
              "      <td>0</td>\n",
              "    </tr>\n",
              "    <tr>\n",
              "      <th>9</th>\n",
              "      <td>&lt;link crossorigin=\"anonymous\" media=\"all\" in...</td>\n",
              "      <td>0</td>\n",
              "    </tr>\n",
              "  </tbody>\n",
              "</table>\n",
              "</div>"
            ],
            "text/plain": [
              "                                            sentence  uppercase_words_count\n",
              "0                                    <!DOCTYPE html>                      1\n",
              "1                                   <html lang=\"en\">                      0\n",
              "2                                             <head>                      0\n",
              "3                             <meta charset=\"utf-8\">                      0\n",
              "4    <link rel=\"dns-prefetch\" href=\"https://githu...                      0\n",
              "5    <link rel=\"dns-prefetch\" href=\"https://avata...                      0\n",
              "6    <link rel=\"dns-prefetch\" href=\"https://githu...                      0\n",
              "7    <link rel=\"dns-prefetch\" href=\"https://user-...                      0\n",
              "8    <link crossorigin=\"anonymous\" media=\"all\" in...                      0\n",
              "9    <link crossorigin=\"anonymous\" media=\"all\" in...                      0"
            ]
          },
          "metadata": {
            "tags": []
          },
          "execution_count": 41
        }
      ]
    },
    {
      "cell_type": "markdown",
      "metadata": {
        "id": "u2MHGL95JJ15"
      },
      "source": [
        "1.2 Basic Text Pre-processing of text data (4 points)\r\n",
        "Lower casing\r\n",
        "Punctuation removal\r\n",
        "Stopwords removal\r\n",
        "Frequent words removal\r\n",
        "Rare words removal\r\n",
        "Spelling correction\r\n",
        "Tokenization\r\n",
        "Stemming\r\n",
        "Lemmatization"
      ]
    },
    {
      "cell_type": "code",
      "metadata": {
        "colab": {
          "base_uri": "https://localhost:8080/"
        },
        "id": "6mUbU1tuzm_H",
        "outputId": "4f914433-2a19-475c-9bab-be2d7cefc86b"
      },
      "source": [
        "data['sentence']=data['sentence'].str.lower()\r\n",
        "data['sentence'].head(10)"
      ],
      "execution_count": null,
      "outputs": [
        {
          "output_type": "execute_result",
          "data": {
            "text/plain": [
              "0                                      <!doctype html>\n",
              "1                                     <html lang=\"en\">\n",
              "2                                               <head>\n",
              "3                               <meta charset=\"utf-8\">\n",
              "4      <link rel=\"dns-prefetch\" href=\"https://githu...\n",
              "5      <link rel=\"dns-prefetch\" href=\"https://avata...\n",
              "6      <link rel=\"dns-prefetch\" href=\"https://githu...\n",
              "7      <link rel=\"dns-prefetch\" href=\"https://user-...\n",
              "8      <link crossorigin=\"anonymous\" media=\"all\" in...\n",
              "9      <link crossorigin=\"anonymous\" media=\"all\" in...\n",
              "Name: sentence, dtype: object"
            ]
          },
          "metadata": {
            "tags": []
          },
          "execution_count": 42
        }
      ]
    },
    {
      "cell_type": "code",
      "metadata": {
        "colab": {
          "base_uri": "https://localhost:8080/"
        },
        "id": "gN-IzgxF1akb",
        "outputId": "092276bc-2663-4d71-fd2e-14f04684a20d"
      },
      "source": [
        "import string\r\n",
        "data['sentence']=data['sentence'].str.replace('[{}]'.format(string.punctuation), '')\r\n",
        "data['sentence'].head(10)"
      ],
      "execution_count": null,
      "outputs": [
        {
          "output_type": "execute_result",
          "data": {
            "text/plain": [
              "0                                         doctype html\n",
              "1                                          html langen\n",
              "2                                                 head\n",
              "3                                     meta charsetutf8\n",
              "4      link reldnsprefetch hrefhttpsgithubgithubass...\n",
              "5      link reldnsprefetch hrefhttpsavatarsgithubus...\n",
              "6      link reldnsprefetch hrefhttpsgithubclouds3am...\n",
              "7      link reldnsprefetch hrefhttpsuserimagesgithu...\n",
              "8      link crossoriginanonymous mediaall integrity...\n",
              "9      link crossoriginanonymous mediaall integrity...\n",
              "Name: sentence, dtype: object"
            ]
          },
          "metadata": {
            "tags": []
          },
          "execution_count": 44
        }
      ]
    },
    {
      "cell_type": "code",
      "metadata": {
        "colab": {
          "base_uri": "https://localhost:8080/"
        },
        "id": "0qo8neth1b5I",
        "outputId": "08262e62-0be7-4d50-f16e-b3fa4fd7f665"
      },
      "source": [
        "from nltk.corpus import stopwords\r\n",
        "import nltk\r\n",
        "nltk.download('stopwords')\r\n",
        "stop=stopwords.words('english')\r\n",
        "data['sentence']=data['sentence'].apply(lambda x:\" \".join(x for x in x.split() if x not in stop))\r\n",
        "data['sentence'].head(10)"
      ],
      "execution_count": null,
      "outputs": [
        {
          "output_type": "stream",
          "text": [
            "[nltk_data] Downloading package stopwords to /root/nltk_data...\n",
            "[nltk_data]   Package stopwords is already up-to-date!\n"
          ],
          "name": "stdout"
        },
        {
          "output_type": "execute_result",
          "data": {
            "text/plain": [
              "0                                         doctype html\n",
              "1                                          html langen\n",
              "2                                                 head\n",
              "3                                     meta charsetutf8\n",
              "4    link reldnsprefetch hrefhttpsgithubgithubasset...\n",
              "5    link reldnsprefetch hrefhttpsavatarsgithubuser...\n",
              "6    link reldnsprefetch hrefhttpsgithubclouds3amaz...\n",
              "7    link reldnsprefetch hrefhttpsuserimagesgithubu...\n",
              "8    link crossoriginanonymous mediaall integritysh...\n",
              "9    link crossoriginanonymous mediaall integritysh...\n",
              "Name: sentence, dtype: object"
            ]
          },
          "metadata": {
            "tags": []
          },
          "execution_count": 45
        }
      ]
    },
    {
      "cell_type": "code",
      "metadata": {
        "colab": {
          "base_uri": "https://localhost:8080/"
        },
        "id": "s87-BbZ216rw",
        "outputId": "5e3309e5-2f1c-4211-bb0d-1e2c8d65072c"
      },
      "source": [
        "freq=pd.Series(' '.join(data['sentence']).split()).value_counts()[:10]\r\n",
        "freq=list(freq.index)\r\n",
        "data['sentence']=data['sentence'].apply(lambda x:\" \".join(x for x in x.split() if x not in freq))\r\n",
        "data['sentence'].head(10)"
      ],
      "execution_count": null,
      "outputs": [
        {
          "output_type": "execute_result",
          "data": {
            "text/plain": [
              "0                                         doctype html\n",
              "1                                          html langen\n",
              "2                                                 head\n",
              "3                                     meta charsetutf8\n",
              "4    link reldnsprefetch hrefhttpsgithubgithubasset...\n",
              "5    link reldnsprefetch hrefhttpsavatarsgithubuser...\n",
              "6    link reldnsprefetch hrefhttpsgithubclouds3amaz...\n",
              "7    link reldnsprefetch hrefhttpsuserimagesgithubu...\n",
              "8    link crossoriginanonymous mediaall integritysh...\n",
              "9    link crossoriginanonymous mediaall integritysh...\n",
              "Name: sentence, dtype: object"
            ]
          },
          "metadata": {
            "tags": []
          },
          "execution_count": 46
        }
      ]
    },
    {
      "cell_type": "code",
      "metadata": {
        "colab": {
          "base_uri": "https://localhost:8080/"
        },
        "id": "BsgBh-RD2Iht",
        "outputId": "340b9612-a682-4a4f-d1dc-7fae48cc7eb6"
      },
      "source": [
        "rare=pd.Series(' '.join(data['sentence']).split()).value_counts()[-10:]\r\n",
        "rare=list(rare.index)\r\n",
        "data['sentence']=data['sentence'].apply(lambda x:\" \".join(x for x in x.split() if x not in rare))\r\n",
        "data['sentence'].head(10)"
      ],
      "execution_count": null,
      "outputs": [
        {
          "output_type": "execute_result",
          "data": {
            "text/plain": [
              "0                                         doctype html\n",
              "1                                          html langen\n",
              "2                                                 head\n",
              "3                                     meta charsetutf8\n",
              "4    link reldnsprefetch hrefhttpsgithubgithubasset...\n",
              "5    link reldnsprefetch hrefhttpsavatarsgithubuser...\n",
              "6    link reldnsprefetch hrefhttpsgithubclouds3amaz...\n",
              "7    link reldnsprefetch hrefhttpsuserimagesgithubu...\n",
              "8    link crossoriginanonymous mediaall integritysh...\n",
              "9    link crossoriginanonymous mediaall integritysh...\n",
              "Name: sentence, dtype: object"
            ]
          },
          "metadata": {
            "tags": []
          },
          "execution_count": 47
        }
      ]
    },
    {
      "cell_type": "code",
      "metadata": {
        "id": "xrqUnYdW2cuQ"
      },
      "source": [
        "from textblob import TextBlob\r\n",
        "data['sentence']=data['sentence'].apply(lambda x: str(TextBlob(x).correct()))\r\n",
        "data['sentence'].head(10)"
      ],
      "execution_count": null,
      "outputs": []
    },
    {
      "cell_type": "code",
      "metadata": {
        "colab": {
          "base_uri": "https://localhost:8080/"
        },
        "id": "B_wOKBqd2-W2",
        "outputId": "50e63b81-c878-45a9-ab73-0eaf5780a62e"
      },
      "source": [
        "from nltk.stem import PorterStemmer\r\n",
        "st=PorterStemmer()\r\n",
        "data['sentence']=data['sentence'].apply(lambda x: \" \".join([st.stem(word) for word in x.split()]))\r\n",
        "data['sentence'].head(10)\r\n",
        "st=PorterStemmer()\r\n",
        "data['sentence']=data['sentence'].apply(lambda x: \" \".join([st.stem(word) for word in x.split()]))\r\n",
        "data['sentence'].head(10)"
      ],
      "execution_count": null,
      "outputs": [
        {
          "output_type": "execute_result",
          "data": {
            "text/plain": [
              "0                                          doctyp html\n",
              "1                                          html langen\n",
              "2                                                 head\n",
              "3                                     meta charsetutf8\n",
              "4    link reldnsprefetch hrefhttpsgithubgithubasset...\n",
              "5    link reldnsprefetch hrefhttpsavatarsgithubuser...\n",
              "6    link reldnsprefetch hrefhttpsgithubclouds3amaz...\n",
              "7    link reldnsprefetch hrefhttpsuserimagesgithubu...\n",
              "8    link crossoriginanonym mediaal integritysha512...\n",
              "9    link crossoriginanonym mediaal integritysha512...\n",
              "Name: sentence, dtype: object"
            ]
          },
          "metadata": {
            "tags": []
          },
          "execution_count": 50
        }
      ]
    },
    {
      "cell_type": "code",
      "metadata": {
        "colab": {
          "base_uri": "https://localhost:8080/"
        },
        "id": "OZDi8ujh3bW5",
        "outputId": "ec18117e-1685-499d-d2c7-4a00f6bf439e"
      },
      "source": [
        "from textblob import Word\r\n",
        "import nltk\r\n",
        "nltk.download('wordnet')\r\n",
        "data['sentence']=data['sentence'].apply(lambda x: \" \".join([Word(word).lemmatize() for word in x.split()]))\r\n",
        "data['sentence'].head(10)"
      ],
      "execution_count": null,
      "outputs": [
        {
          "output_type": "stream",
          "text": [
            "[nltk_data] Downloading package wordnet to /root/nltk_data...\n",
            "[nltk_data]   Package wordnet is already up-to-date!\n"
          ],
          "name": "stdout"
        },
        {
          "output_type": "execute_result",
          "data": {
            "text/plain": [
              "0                                          doctyp html\n",
              "1                                          html langen\n",
              "2                                                 head\n",
              "3                                     meta charsetutf8\n",
              "4    link reldnsprefetch hrefhttpsgithubgithubasset...\n",
              "5    link reldnsprefetch hrefhttpsavatarsgithubuser...\n",
              "6    link reldnsprefetch hrefhttpsgithubclouds3amaz...\n",
              "7    link reldnsprefetch hrefhttpsuserimagesgithubu...\n",
              "8    link crossoriginanonym mediaal integritysha512...\n",
              "9    link crossoriginanonym mediaal integritysha512...\n",
              "Name: sentence, dtype: object"
            ]
          },
          "metadata": {
            "tags": []
          },
          "execution_count": 53
        }
      ]
    },
    {
      "cell_type": "markdown",
      "metadata": {
        "id": "okDyEg8bJYHj"
      },
      "source": [
        "1.3 Save all the clean sentences to a csv file (one column, each raw is a sentence) after finishing all the steps above. (4 points)"
      ]
    },
    {
      "cell_type": "code",
      "metadata": {
        "id": "80Wepgat4AGz"
      },
      "source": [
        "  data['sentence'].to_csv(\"clean.txt\",header=False,index=False)"
      ],
      "execution_count": null,
      "outputs": []
    },
    {
      "cell_type": "markdown",
      "metadata": {
        "id": "c0d2w5x9JZqt"
      },
      "source": [
        "1.4 Advance Text Processing (Extra credit: 4 points)\r\n",
        "Calculate the term frequency of all the terms.\r\n",
        "Print out top 10 1-gram, top 10 2-grams, and top 10 3-grams terms as features."
      ]
    },
    {
      "cell_type": "code",
      "metadata": {
        "colab": {
          "base_uri": "https://localhost:8080/",
          "height": 347
        },
        "id": "dh-HNzx346TN",
        "outputId": "a67e730a-0d3f-4392-e061-56d8b2468cd7"
      },
      "source": [
        "tf=(data['sentence']).apply(lambda x: pd.value_counts(x.split(' '))).sum(axis=0).reset_index()\r\n",
        "tf.columns=['word','Term Frequency']\r\n",
        "tf.head(10)"
      ],
      "execution_count": null,
      "outputs": [
        {
          "output_type": "execute_result",
          "data": {
            "text/html": [
              "<div>\n",
              "<style scoped>\n",
              "    .dataframe tbody tr th:only-of-type {\n",
              "        vertical-align: middle;\n",
              "    }\n",
              "\n",
              "    .dataframe tbody tr th {\n",
              "        vertical-align: top;\n",
              "    }\n",
              "\n",
              "    .dataframe thead th {\n",
              "        text-align: right;\n",
              "    }\n",
              "</style>\n",
              "<table border=\"1\" class=\"dataframe\">\n",
              "  <thead>\n",
              "    <tr style=\"text-align: right;\">\n",
              "      <th></th>\n",
              "      <th>word</th>\n",
              "      <th>Term Frequency</th>\n",
              "    </tr>\n",
              "  </thead>\n",
              "  <tbody>\n",
              "    <tr>\n",
              "      <th>0</th>\n",
              "      <td>html</td>\n",
              "      <td>3.0</td>\n",
              "    </tr>\n",
              "    <tr>\n",
              "      <th>1</th>\n",
              "      <td>doctyp</td>\n",
              "      <td>1.0</td>\n",
              "    </tr>\n",
              "    <tr>\n",
              "      <th>2</th>\n",
              "      <td>langen</td>\n",
              "      <td>1.0</td>\n",
              "    </tr>\n",
              "    <tr>\n",
              "      <th>3</th>\n",
              "      <td>head</td>\n",
              "      <td>3.0</td>\n",
              "    </tr>\n",
              "    <tr>\n",
              "      <th>4</th>\n",
              "      <td>charsetutf8</td>\n",
              "      <td>1.0</td>\n",
              "    </tr>\n",
              "    <tr>\n",
              "      <th>5</th>\n",
              "      <td>meta</td>\n",
              "      <td>47.0</td>\n",
              "    </tr>\n",
              "    <tr>\n",
              "      <th>6</th>\n",
              "      <td>link</td>\n",
              "      <td>17.0</td>\n",
              "    </tr>\n",
              "    <tr>\n",
              "      <th>7</th>\n",
              "      <td>hrefhttpsgithubgithubassetscom</td>\n",
              "      <td>2.0</td>\n",
              "    </tr>\n",
              "    <tr>\n",
              "      <th>8</th>\n",
              "      <td>reldnsprefetch</td>\n",
              "      <td>4.0</td>\n",
              "    </tr>\n",
              "    <tr>\n",
              "      <th>9</th>\n",
              "      <td>hrefhttpsavatarsgithubusercontentcom</td>\n",
              "      <td>1.0</td>\n",
              "    </tr>\n",
              "  </tbody>\n",
              "</table>\n",
              "</div>"
            ],
            "text/plain": [
              "                                   word  Term Frequency\n",
              "0                                  html             3.0\n",
              "1                                doctyp             1.0\n",
              "2                                langen             1.0\n",
              "3                                  head             3.0\n",
              "4                           charsetutf8             1.0\n",
              "5                                  meta            47.0\n",
              "6                                  link            17.0\n",
              "7        hrefhttpsgithubgithubassetscom             2.0\n",
              "8                        reldnsprefetch             4.0\n",
              "9  hrefhttpsavatarsgithubusercontentcom             1.0"
            ]
          },
          "metadata": {
            "tags": []
          },
          "execution_count": 55
        }
      ]
    },
    {
      "cell_type": "markdown",
      "metadata": {
        "id": "TldFAi1kJhRM"
      },
      "source": [
        "\r\n",
        "2. Python Regular Expression\r\n",
        "2.1 Write a Python program to remove leading zeros from an IP address. (4 points)\r\n",
        "ip = \"260.08.094.109\""
      ]
    },
    {
      "cell_type": "code",
      "metadata": {
        "colab": {
          "base_uri": "https://localhost:8080/"
        },
        "id": "L5rWYfOP4yRI",
        "outputId": "5571a055-a0f9-4075-91b7-8bedc705f6ce"
      },
      "source": [
        "import re\r\n",
        "ip=\"260.08.094.109\"\r\n",
        "str = re.sub('\\.[0]*', '.', ip)\r\n",
        "print(str)"
      ],
      "execution_count": null,
      "outputs": [
        {
          "output_type": "stream",
          "text": [
            "260.8.94.109\n"
          ],
          "name": "stdout"
        }
      ]
    },
    {
      "cell_type": "markdown",
      "metadata": {
        "id": "-t2BS0TSJjdi"
      },
      "source": [
        "\r\n",
        "2.2 Write a Python Program to extract all the years from the following sentence. (4 points)\r\n",
        "sentence = \"The 2010s were a dramatic decade, filled with ups and downs, more than 1000 stroies have happened. As the decade comes to a close, Insider took a look back at some of the biggest headline-grabbing stories, from 2010 to 2019. The result was 119 news stories that ranged from the heartwarming rescue of a Thai boys' soccer team from a flooded cave to the divisive election of President Donald Trump.\""
      ]
    },
    {
      "cell_type": "code",
      "metadata": {
        "colab": {
          "base_uri": "https://localhost:8080/"
        },
        "id": "4JdC6v-G5LEZ",
        "outputId": "f730a1b9-c888-4cc0-b45c-83b652c5c4e5"
      },
      "source": [
        "import re\r\n",
        "sentence = \"The 2010s were a dramatic decade, filled with ups and downs, more than 1000 stroies have happened. As the decade comes to a close, Insider took a look back at some of the biggest headline-grabbing stories, from 2010 to 2019. The result was 119 news stories that ranged from the heartwarming rescue of a Thai boys' soccer team from a flooded cave to the divisive election of President Donald Trump.\"\r\n",
        "years=re.findall(r'2\\d\\d\\d', sentence)\r\n",
        "print(years)\r\n",
        "\r\n"
      ],
      "execution_count": null,
      "outputs": [
        {
          "output_type": "stream",
          "text": [
            "['2010', '2010', '2019']\n"
          ],
          "name": "stdout"
        }
      ]
    }
  ]
}