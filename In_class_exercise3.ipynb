{
  "nbformat": 4,
  "nbformat_minor": 0,
  "metadata": {
    "colab": {
      "name": "In_class_exercise3.ipynb",
      "provenance": [],
      "authorship_tag": "ABX9TyNG/NMi6F6ogOPlZ7xB7o+u",
      "include_colab_link": true
    },
    "kernelspec": {
      "name": "python3",
      "display_name": "Python 3"
    }
  },
  "cells": [
    {
      "cell_type": "markdown",
      "metadata": {
        "id": "view-in-github",
        "colab_type": "text"
      },
      "source": [
        "<a href=\"https://colab.research.google.com/github/hemanthgupta29/hemanth_info5731_Spring2020/blob/main/In_class_exercise3.ipynb\" target=\"_parent\"><img src=\"https://colab.research.google.com/assets/colab-badge.svg\" alt=\"Open In Colab\"/></a>"
      ]
    },
    {
      "cell_type": "markdown",
      "metadata": {
        "id": "3iLDD6USk_LG"
      },
      "source": [
        " Describe an interesting research question (or practical question) you have in mind, what kind of data should be collected to answer the question(s)? How many data needed for the analysis? The detail steps for collecting and save the data."
      ]
    },
    {
      "cell_type": "markdown",
      "metadata": {
        "id": "r3Vfus_XliRz"
      },
      "source": [
        "Subject: The collection of reviews of sonitum on ear headphones from amazon\r\n",
        "\r\n",
        "   I am going to collect the information using the html parser. The title and text value is used to get the exact page and the name. I am getting the information using the id's fro the web page. The attribute called Data-hook to get the reviews information. And then i am going to collect the ratings, comments and reviews for the first item. And them looking for the next page and getting reviews page by page. \r\n"
      ]
    },
    {
      "cell_type": "markdown",
      "metadata": {
        "id": "y8y4sTudk6oj"
      },
      "source": [
        " Write python code to collect 500 items of the data you plan to collect above."
      ]
    },
    {
      "cell_type": "code",
      "metadata": {
        "id": "jxlTiGMqk75J"
      },
      "source": [
        "import requests\r\n",
        "from bs4 import BeautifulSoup\r\n",
        "import pandas as pd\r\n",
        "\r\n",
        "reviewlist = []\r\n",
        "\r\n",
        "def get_soup(url):\r\n",
        "    r = requests.get('http://localhost:8889/render.html', params={'url': url, 'wait': 2})\r\n",
        "    soup = BeautifulSoup(r.text, 'html.parser')\r\n",
        "    return soup\r\n",
        "\r\n",
        "\r\n",
        "def get_reviews(soup):\r\n",
        "    reviews = soup.find_all('div', {'data-hook': 'review'})\r\n",
        "    try:\r\n",
        "        for item in reviews:\r\n",
        "            review = {\r\n",
        "            'product': soup.title.text.replace('Amazon.com:Customer reviews:', '').strip(),\r\n",
        "            'title': item.find('a', {'data-hook': 'review-title'}).text.strip(),\r\n",
        "            'rating':  float(item.find('i', {'data-hook': 'review-star-rating'}).text.replace('out of 5 stars', '').strip()),\r\n",
        "            'body': item.find('span', {'data-hook': 'review-body'}).text.strip(),\r\n",
        "            }\r\n",
        "            reviewlist.append(review)\r\n",
        "            \r\n",
        "    except:\r\n",
        "        pass\r\n",
        "\r\n",
        "for x in range(10):\r\n",
        "    soup = get_soup(f'https://www.amazon.com/Headphones-Microphone-Lightweight-Comfortable-Foldable/product-reviews/B07J5X68B2/ref=cm_cr_getr_d_paging_btm_next_3?ie=UTF8&reviewerType=2&pageNumber={x}')\r\n",
        "    print(f'Getting page: {x}')\r\n",
        "    get_reviews(soup)\r\n",
        "    print(len(reviewlist))\r\n",
        "    if not soup.find('li', {'class': 'a-disabled a-last'}):\r\n",
        "        pass\r\n",
        "    else:\r\n",
        "        break\r\n",
        "\r\n",
        "df = pd.DataFrame(reviewlist)\r\n",
        "df.to_excel('sonitum-earphones.xlsx', index=False)\r\n",
        "print('Finsh')"
      ],
      "execution_count": null,
      "outputs": []
    }
  ]
}